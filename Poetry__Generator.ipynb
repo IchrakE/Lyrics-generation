{
  "nbformat": 4,
  "nbformat_minor": 0,
  "metadata": {
    "colab": {
      "name": "Poetry__Generator.ipynb",
      "provenance": [],
      "collapsed_sections": [],
      "toc_visible": true
    },
    "kernelspec": {
      "name": "python3",
      "display_name": "Python 3"
    }
  },
  "cells": [
    {
      "cell_type": "markdown",
      "metadata": {
        "id": "JUwJWODL_8G5"
      },
      "source": [
        "## Poetry Generation\n",
        " "
      ]
    },
    {
      "cell_type": "markdown",
      "metadata": {
        "id": "_iSQWfduAvCU"
      },
      "source": [
        "***Data Source:***\n",
        "\n",
        "https://www.kaggle.com/paultimothymooney/poetry?select=Kanye_West.txt\n",
        "\n",
        "\n",
        "**Objective**\n",
        "\n",
        "\n",
        "I will present different structure of models that are able to generating poems. \n",
        "\n",
        "\n",
        "\n"
      ]
    },
    {
      "cell_type": "markdown",
      "metadata": {
        "id": "AF1amFYyaM75"
      },
      "source": [
        "##Import Libraries"
      ]
    },
    {
      "cell_type": "code",
      "metadata": {
        "colab": {
          "base_uri": "https://localhost:8080/"
        },
        "id": "gtiO7Y0vaWJV",
        "outputId": "e5c5b719-a9e9-456a-fc91-d6f3f2fc0c42"
      },
      "source": [
        "import nltk\n",
        "nltk.download('stopwords')\n",
        "nltk.download('punkt')\n",
        "nltk.download('wordnet')"
      ],
      "execution_count": null,
      "outputs": [
        {
          "output_type": "stream",
          "name": "stdout",
          "text": [
            "[nltk_data] Downloading package stopwords to /root/nltk_data...\n",
            "[nltk_data]   Unzipping corpora/stopwords.zip.\n",
            "[nltk_data] Downloading package punkt to /root/nltk_data...\n",
            "[nltk_data]   Unzipping tokenizers/punkt.zip.\n",
            "[nltk_data] Downloading package wordnet to /root/nltk_data...\n",
            "[nltk_data]   Unzipping corpora/wordnet.zip.\n"
          ]
        },
        {
          "output_type": "execute_result",
          "data": {
            "text/plain": [
              "True"
            ]
          },
          "metadata": {},
          "execution_count": 1
        }
      ]
    },
    {
      "cell_type": "code",
      "source": [
        "#Levenshtein distance\n",
        "!pip install python-Levenshtein"
      ],
      "metadata": {
        "colab": {
          "base_uri": "https://localhost:8080/"
        },
        "id": "LPjxI6r0qEIa",
        "outputId": "f02e2d79-081e-46a9-c8fe-ebae4ed9bfa2"
      },
      "execution_count": null,
      "outputs": [
        {
          "output_type": "stream",
          "name": "stdout",
          "text": [
            "Collecting python-Levenshtein\n",
            "  Downloading python-Levenshtein-0.12.2.tar.gz (50 kB)\n",
            "\u001b[?25l\r\u001b[K     |██████▌                         | 10 kB 16.0 MB/s eta 0:00:01\r\u001b[K     |█████████████                   | 20 kB 16.3 MB/s eta 0:00:01\r\u001b[K     |███████████████████▌            | 30 kB 18.4 MB/s eta 0:00:01\r\u001b[K     |██████████████████████████      | 40 kB 6.7 MB/s eta 0:00:01\r\u001b[K     |████████████████████████████████| 50 kB 3.1 MB/s \n",
            "\u001b[?25hRequirement already satisfied: setuptools in /usr/local/lib/python3.7/dist-packages (from python-Levenshtein) (57.4.0)\n",
            "Building wheels for collected packages: python-Levenshtein\n",
            "  Building wheel for python-Levenshtein (setup.py) ... \u001b[?25l\u001b[?25hdone\n",
            "  Created wheel for python-Levenshtein: filename=python_Levenshtein-0.12.2-cp37-cp37m-linux_x86_64.whl size=149862 sha256=e37b9fdcee997c295267c49fbee8e804fc3e8f74f580466c4666649a1afa9366\n",
            "  Stored in directory: /root/.cache/pip/wheels/05/5f/ca/7c4367734892581bb5ff896f15027a932c551080b2abd3e00d\n",
            "Successfully built python-Levenshtein\n",
            "Installing collected packages: python-Levenshtein\n",
            "Successfully installed python-Levenshtein-0.12.2\n"
          ]
        }
      ]
    },
    {
      "cell_type": "code",
      "source": [
        "#Fuzzy matching\n",
        "!pip install Fuzzy"
      ],
      "metadata": {
        "colab": {
          "base_uri": "https://localhost:8080/"
        },
        "id": "QgbubY-EajM5",
        "outputId": "bc7fb175-d772-453c-99e7-e62d1f0d10f7"
      },
      "execution_count": null,
      "outputs": [
        {
          "output_type": "stream",
          "name": "stdout",
          "text": [
            "Collecting Fuzzy\n",
            "  Downloading Fuzzy-1.2.2.tar.gz (14 kB)\n",
            "Building wheels for collected packages: Fuzzy\n",
            "  Building wheel for Fuzzy (setup.py) ... \u001b[?25l\u001b[?25hdone\n",
            "  Created wheel for Fuzzy: filename=Fuzzy-1.2.2-cp37-cp37m-linux_x86_64.whl size=161714 sha256=3c16ea9440f5830e45271111a614f36805ade5e3946de39541358223620c34ca\n",
            "  Stored in directory: /root/.cache/pip/wheels/c8/52/8a/bb2d05fbf343752a8546682cb5b2d775cc0d1f27f6c43f95dd\n",
            "Successfully built Fuzzy\n",
            "Installing collected packages: Fuzzy\n",
            "Successfully installed Fuzzy-1.2.2\n"
          ]
        }
      ]
    },
    {
      "cell_type": "code",
      "source": [
        "#English ipa representation\n",
        "!pip install eng-to-ipa "
      ],
      "metadata": {
        "colab": {
          "base_uri": "https://localhost:8080/"
        },
        "id": "dy6J3YrbP1xw",
        "outputId": "3afcd566-69b6-4480-8803-538095cdcfa8"
      },
      "execution_count": null,
      "outputs": [
        {
          "output_type": "stream",
          "name": "stdout",
          "text": [
            "Collecting eng-to-ipa\n",
            "  Downloading eng_to_ipa-0.0.2.tar.gz (2.8 MB)\n",
            "\u001b[K     |████████████████████████████████| 2.8 MB 21.8 MB/s \n",
            "\u001b[?25hBuilding wheels for collected packages: eng-to-ipa\n",
            "  Building wheel for eng-to-ipa (setup.py) ... \u001b[?25l\u001b[?25hdone\n",
            "  Created wheel for eng-to-ipa: filename=eng_to_ipa-0.0.2-py3-none-any.whl size=2822641 sha256=d10b7cf3a27f401a52807b1549e3c2436ad00840649a1cbbbe9481cd3a5aa483\n",
            "  Stored in directory: /root/.cache/pip/wheels/96/c0/dd/aeddfbebc2c3301c3dd09670d9954b0574ac4cd982664c1110\n",
            "Successfully built eng-to-ipa\n",
            "Installing collected packages: eng-to-ipa\n",
            "Successfully installed eng-to-ipa-0.0.2\n"
          ]
        }
      ]
    },
    {
      "cell_type": "code",
      "source": [
        "#Readability index library\n",
        "!pip install readability"
      ],
      "metadata": {
        "colab": {
          "base_uri": "https://localhost:8080/"
        },
        "id": "wIah79B2c1Pk",
        "outputId": "44c401e6-a74a-440a-9c9e-5b9751c08cab"
      },
      "execution_count": null,
      "outputs": [
        {
          "output_type": "stream",
          "name": "stdout",
          "text": [
            "Collecting readability\n",
            "  Downloading readability-0.3.1.tar.gz (34 kB)\n",
            "Building wheels for collected packages: readability\n",
            "  Building wheel for readability (setup.py) ... \u001b[?25l\u001b[?25hdone\n",
            "  Created wheel for readability: filename=readability-0.3.1-py3-none-any.whl size=35475 sha256=7adea34f73bfa4d723bc1d0bf308c113e48485ef5afcb7289a94d0f34f87631e\n",
            "  Stored in directory: /root/.cache/pip/wheels/b9/8b/5a/ba40b81d8e91c7bc1d4226fa51d7b5943d147be122df515c19\n",
            "Successfully built readability\n",
            "Installing collected packages: readability\n",
            "Successfully installed readability-0.3.1\n"
          ]
        }
      ]
    },
    {
      "cell_type": "code",
      "metadata": {
        "id": "aUMi7oLJaQB6"
      },
      "source": [
        "import pandas as pd\n",
        "import matplotlib.pyplot as plt\n",
        "import seaborn as sns\n",
        "from nltk import tokenize,FreqDist\n",
        "from nltk.corpus import stopwords\n",
        "stopwords = list(stopwords.words('english'))\n",
        "from wordcloud import WordCloud\n",
        "import random\n",
        "import numpy as np\n",
        "from numpy import array\n",
        "import sys\n",
        "from keras.models import Sequential\n",
        "from keras.layers import Dense\n",
        "from keras.layers import Dropout\n",
        "from keras.layers import LSTM\n",
        "from keras.callbacks import ModelCheckpoint, EarlyStopping,TensorBoard\n",
        "from keras.utils import np_utils\n",
        "from tensorflow.keras.preprocessing.text import Tokenizer\n",
        "from tensorflow.keras.utils import to_categorical\n",
        "from tensorflow.keras.preprocessing.sequence import pad_sequences\n",
        "from tensorflow.keras.layers import Embedding\n",
        "from tensorflow.keras.models import load_model  \n",
        "import difflib\n",
        "from nltk.corpus import wordnet as wn\n",
        "from google.colab import files\n"
      ],
      "execution_count": null,
      "outputs": []
    },
    {
      "cell_type": "code",
      "source": [
        "from Levenshtein import distance as lev\n",
        "import readability \n",
        "import eng_to_ipa as p\n",
        "import fuzzy\n",
        "soundex = fuzzy.Soundex(6)"
      ],
      "metadata": {
        "id": "HNXIIEXvNIiN"
      },
      "execution_count": null,
      "outputs": []
    },
    {
      "cell_type": "code",
      "source": [
        "def get_readability_index(text):\n",
        "  ''' We give this function the text and it returns a dataframe of different readability metrics '''\n",
        "  results = readability.getmeasures(text, lang='en')\n",
        "  #ARI index\n",
        "  ari = results['readability grades']['ARI']\n",
        "  #FleschReadingEase\n",
        "  FleschReadingEase = results['readability grades']['FleschReadingEase'] \n",
        "  #Kincaid\n",
        "  Kincaid = results['readability grades']['Kincaid']                 \n",
        "  dict= {'Metrics':['ARI', 'Flesch Reading Ease', 'Kincaid'], 'Results':[ari, FleschReadingEase, Kincaid] }\n",
        "  return pd.DataFrame.from_dict(dict)"
      ],
      "metadata": {
        "id": "D0jmuDEpoDEO"
      },
      "execution_count": null,
      "outputs": []
    },
    {
      "cell_type": "markdown",
      "metadata": {
        "id": "o1kXxjoZX0Jj"
      },
      "source": [
        "##Import Data\n",
        "Import data from Kaggel to colab"
      ]
    },
    {
      "cell_type": "code",
      "metadata": {
        "id": "9tgtkO_P_yTF"
      },
      "source": [
        "! pip install -q kaggle"
      ],
      "execution_count": null,
      "outputs": []
    },
    {
      "cell_type": "code",
      "metadata": {
        "id": "YvLtW64GWXPo",
        "colab": {
          "resources": {
            "http://localhost:8080/nbextensions/google.colab/files.js": {
              "data": "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",
              "ok": true,
              "headers": [
                [
                  "content-type",
                  "application/javascript"
                ]
              ],
              "status": 200,
              "status_text": ""
            }
          },
          "base_uri": "https://localhost:8080/",
          "height": 91
        },
        "outputId": "f370f049-e144-4a12-d5f3-98385723cfc8"
      },
      "source": [
        "files.upload()"
      ],
      "execution_count": null,
      "outputs": [
        {
          "output_type": "display_data",
          "data": {
            "text/html": [
              "\n",
              "     <input type=\"file\" id=\"files-82b69f50-f38c-4b89-a320-9a0f6a6a06ed\" name=\"files[]\" multiple disabled\n",
              "        style=\"border:none\" />\n",
              "     <output id=\"result-82b69f50-f38c-4b89-a320-9a0f6a6a06ed\">\n",
              "      Upload widget is only available when the cell has been executed in the\n",
              "      current browser session. Please rerun this cell to enable.\n",
              "      </output>\n",
              "      <script src=\"/nbextensions/google.colab/files.js\"></script> "
            ],
            "text/plain": [
              "<IPython.core.display.HTML object>"
            ]
          },
          "metadata": {}
        },
        {
          "output_type": "stream",
          "name": "stdout",
          "text": [
            "Saving kaggle.json to kaggle.json\n"
          ]
        },
        {
          "output_type": "execute_result",
          "data": {
            "text/plain": [
              "{'kaggle.json': b'{\"username\":\"ishrakelmokhtar\",\"key\":\"0da14fd7957867b90fafcb3305b33f4c\"}'}"
            ]
          },
          "metadata": {},
          "execution_count": 10
        }
      ]
    },
    {
      "cell_type": "code",
      "metadata": {
        "id": "mVslph3qWZ8v"
      },
      "source": [
        "! mkdir ~/.kaggle"
      ],
      "execution_count": null,
      "outputs": []
    },
    {
      "cell_type": "code",
      "metadata": {
        "id": "Mt8LFI9bWfzp"
      },
      "source": [
        "#Make directory named kaggle and copy kaggle.json file there.\n",
        "! cp kaggle.json ~/.kaggle/"
      ],
      "execution_count": null,
      "outputs": []
    },
    {
      "cell_type": "code",
      "metadata": {
        "id": "1iyVGqUMWifW"
      },
      "source": [
        "#Change the permissions of the file.\n",
        "! chmod 600 ~/.kaggle/kaggle.json"
      ],
      "execution_count": null,
      "outputs": []
    },
    {
      "cell_type": "code",
      "metadata": {
        "id": "VLOwXHZ1XLPR",
        "colab": {
          "base_uri": "https://localhost:8080/"
        },
        "outputId": "91ea57b3-2035-40b2-a8be-0fb56e611c8a"
      },
      "source": [
        "#check if everything's okay by running this command.\n",
        "! kaggle datasets list"
      ],
      "execution_count": null,
      "outputs": [
        {
          "output_type": "stream",
          "name": "stdout",
          "text": [
            "Warning: Looks like you're using an outdated API Version, please consider updating (server 1.5.12 / client 1.5.4)\n",
            "ref                                                            title                                              size  lastUpdated          downloadCount  \n",
            "-------------------------------------------------------------  ------------------------------------------------  -----  -------------------  -------------  \n",
            "yasserh/wine-quality-dataset                                   Wine Quality Dataset                               21KB  2022-01-15 19:15:11           6818  \n",
            "prasertk/netflix-subscription-price-in-different-countries     Netflix subscription fee in different countries     3KB  2022-01-15 07:06:09           5179  \n",
            "prasertk/the-best-cities-for-a-workation                       The Best Cities for a Workation                     6KB  2022-02-16 11:46:28            571  \n",
            "majyhain/height-of-male-and-female-by-country-2022             Height of Male and Female by Country 2022           4KB  2022-02-02 00:40:19           2486  \n",
            "sanjeetsinghnaik/top-1000-highest-grossing-movies              Top 1000 Highest Grossing Movies                  106KB  2022-01-15 16:26:14           3429  \n",
            "prasertk/internet-broadband-and-mobile-speeds-by-country       Internet broadband and mobile speeds by country     3KB  2022-02-16 11:19:14            504  \n",
            "robikscube/ubiquant-parquet                                    Ubiquant Competition Data in Parquet Format        13GB  2022-01-19 14:18:59           2044  \n",
            "georgesaavedra/covid19-dataset                                 COVID-19 dataset                                    9MB  2022-02-18 16:41:13           2618  \n",
            "jainilcoder/netflix-stock-price-prediction                     Netflix Stock Price Prediction                     21KB  2022-02-05 05:06:10            872  \n",
            "iamsouravbanerjee/analytics-industry-salaries-2022-india       Data Professionals Salary - 2022                   57KB  2022-02-04 09:04:46           4628  \n",
            "nguyenngocphung/population-urban-areas-all-countries-20002020  %Population_Urban_Areas_all_Countries_2000-2020🌍   29KB  2022-02-17 07:44:58            389  \n",
            "nkitgupta/jigsaw-regression-based-data                         Jigsaw Regression Based Data                        3GB  2022-02-05 20:51:56           1030  \n",
            "dhamur/adult-mortality-rate                                    Adult mortality rate                               91KB  2022-02-16 12:57:40            713  \n",
            "datasnaek/youtube-new                                          Trending YouTube Video Statistics                 201MB  2019-06-03 00:56:47         166705  \n",
            "dansbecker/melbourne-housing-snapshot                          Melbourne Housing Snapshot                        451KB  2018-06-05 12:52:24          81318  \n",
            "zynicide/wine-reviews                                          Wine Reviews                                       51MB  2017-11-27 17:08:04         154883  \n",
            "prasertk/300-years-of-inflation-rate-in-us                     300 years of inflation rate in US                   2KB  2022-02-10 10:11:58            436  \n",
            "axonwang/starlink-satellites-launched                          Starlink Satellites Launched                        1KB  2022-02-16 17:02:33            177  \n",
            "datasnaek/chess                                                Chess Game Dataset (Lichess)                        3MB  2017-09-04 03:09:09          27887  \n",
            "rtatman/188-million-us-wildfires                               1.88 Million US Wildfires                         168MB  2020-05-12 21:03:49          19021  \n"
          ]
        }
      ]
    },
    {
      "cell_type": "code",
      "metadata": {
        "id": "fHRyAAH6XP3Y",
        "colab": {
          "base_uri": "https://localhost:8080/"
        },
        "outputId": "540429bc-d347-42cf-d38a-2c409bec2bc6"
      },
      "source": [
        "! kaggle datasets download -d paultimothymooney/poetry"
      ],
      "execution_count": null,
      "outputs": [
        {
          "output_type": "stream",
          "name": "stdout",
          "text": [
            "Downloading poetry.zip to /content\n",
            "\r  0% 0.00/2.00M [00:00<?, ?B/s]\n",
            "\r100% 2.00M/2.00M [00:00<00:00, 46.6MB/s]\n"
          ]
        }
      ]
    },
    {
      "cell_type": "code",
      "metadata": {
        "id": "yAvjRcBMYKYo"
      },
      "source": [
        "#Create a directory named poetry,\n",
        "! mkdir poetry"
      ],
      "execution_count": null,
      "outputs": []
    },
    {
      "cell_type": "code",
      "metadata": {
        "colab": {
          "base_uri": "https://localhost:8080/"
        },
        "id": "oFuN6Pm4YQbj",
        "outputId": "fca10f36-61f5-47ad-a549-1e8df544d247"
      },
      "source": [
        "#unzip poetry.zip data there,\n",
        "! unzip poetry.zip -d poetry"
      ],
      "execution_count": null,
      "outputs": [
        {
          "output_type": "stream",
          "name": "stdout",
          "text": [
            "Archive:  poetry.zip\n",
            "  inflating: poetry/Kanye_West.txt   \n",
            "  inflating: poetry/Lil_Wayne.txt    \n",
            "  inflating: poetry/adele.txt        \n",
            "  inflating: poetry/al-green.txt     \n",
            "  inflating: poetry/alicia-keys.txt  \n",
            "  inflating: poetry/amy-winehouse.txt  \n",
            "  inflating: poetry/beatles.txt      \n",
            "  inflating: poetry/bieber.txt       \n",
            "  inflating: poetry/bjork.txt        \n",
            "  inflating: poetry/blink-182.txt    \n",
            "  inflating: poetry/bob-dylan.txt    \n",
            "  inflating: poetry/bob-marley.txt   \n",
            "  inflating: poetry/britney-spears.txt  \n",
            "  inflating: poetry/bruce-springsteen.txt  \n",
            "  inflating: poetry/bruno-mars.txt   \n",
            "  inflating: poetry/cake.txt         \n",
            "  inflating: poetry/dickinson.txt    \n",
            "  inflating: poetry/disney.txt       \n",
            "  inflating: poetry/dj-khaled.txt    \n",
            "  inflating: poetry/dolly-parton.txt  \n",
            "  inflating: poetry/dr-seuss.txt     \n",
            "  inflating: poetry/drake.txt        \n",
            "  inflating: poetry/eminem.txt       \n",
            "  inflating: poetry/janisjoplin.txt  \n",
            "  inflating: poetry/jimi-hendrix.txt  \n",
            "  inflating: poetry/johnny-cash.txt  \n",
            "  inflating: poetry/joni-mitchell.txt  \n",
            "  inflating: poetry/kanye-west.txt   \n",
            "  inflating: poetry/kanye.txt        \n",
            "  inflating: poetry/lady-gaga.txt    \n",
            "  inflating: poetry/leonard-cohen.txt  \n",
            "  inflating: poetry/lil-wayne.txt    \n",
            "  inflating: poetry/lin-manuel-miranda.txt  \n",
            "  inflating: poetry/lorde.txt        \n",
            "  inflating: poetry/ludacris.txt     \n",
            "  inflating: poetry/michael-jackson.txt  \n",
            "  inflating: poetry/missy-elliott.txt  \n",
            "  inflating: poetry/nickelback.txt   \n",
            "  inflating: poetry/nicki-minaj.txt  \n",
            "  inflating: poetry/nirvana.txt      \n",
            "  inflating: poetry/notorious-big.txt  \n",
            "  inflating: poetry/notorious_big.txt  \n",
            "  inflating: poetry/nursery_rhymes.txt  \n",
            "  inflating: poetry/patti-smith.txt  \n",
            "  inflating: poetry/paul-simon.txt   \n",
            "  inflating: poetry/prince.txt       \n",
            "  inflating: poetry/r-kelly.txt      \n",
            "  inflating: poetry/radiohead.txt    \n",
            "  inflating: poetry/rihanna.txt      \n"
          ]
        }
      ]
    },
    {
      "cell_type": "code",
      "metadata": {
        "id": "jEfSIxFaYt9M"
      },
      "source": [
        "#I start by Kayne west'lyrics \n",
        "K_W_path= '/content/poetry/Kanye_West.txt'\n",
        "adel_path = '/content/poetry/adele.txt'"
      ],
      "execution_count": null,
      "outputs": []
    },
    {
      "cell_type": "markdown",
      "metadata": {
        "id": "PHN1ynuwX32_"
      },
      "source": [
        "##Expolatory Data Analysis"
      ]
    },
    {
      "cell_type": "code",
      "metadata": {
        "colab": {
          "base_uri": "https://localhost:8080/"
        },
        "id": "fe68zduQXr9w",
        "outputId": "3a8ecaaa-4de8-45b8-cb06-a2a4204c3b89"
      },
      "source": [
        "#the first 1000 characters from the collection of poems by kanye_West\n",
        "with open(K_W_path) as f: \n",
        "    print (f.read(1000))"
      ],
      "execution_count": null,
      "outputs": [
        {
          "output_type": "stream",
          "name": "stdout",
          "text": [
            "﻿Eighteen years eighteen years\n",
            "She got one of your kids got you for eighteen years\n",
            "I know somebody paying child support for one of his kids\n",
            "His baby mama car and crib is bigger than his\n",
            "You will see him on TV any given Sunday\n",
            "Win the Super Bowl and drive off in a Hyundai\n",
            "She was supposed to buy your shorty Tyco with your money\n",
            "She went to the doctor got lipo with your money\n",
            "She walking around looking like Michael with your money\n",
            "Shouldve got that insured Geico for your money\n",
            "If you aint no punk\n",
            "Holla We want prenup We want prenup Yeah\n",
            "Its something that you need to have\n",
            "Cause when she leave your ass she gon leave with half\n",
            "Eighteen years eighteen years\n",
            "And on the the birthday he found out it wasnt his\n",
            "Now I aint saying you a gold digger you got needs\n",
            "You dont want a dude to smoke but he cant buy weed\n",
            "You go out to eat and he cant pay yall cant leave\n",
            "Theres dishes in the back he gotta roll up your sleeves\n",
            "But while yall washin watch him\n",
            "He gone make it into a Benz out of that Datsun\n",
            "He \n"
          ]
        }
      ]
    },
    {
      "cell_type": "code",
      "source": [
        "\n",
        "with open(adel_path) as f:\n",
        "    print(f.read(1000))"
      ],
      "metadata": {
        "colab": {
          "base_uri": "https://localhost:8080/"
        },
        "id": "9xQVLzb7f-J0",
        "outputId": "9eb7b259-821f-4881-d4c2-3c6947153d54"
      },
      "execution_count": null,
      "outputs": [
        {
          "output_type": "stream",
          "name": "stdout",
          "text": [
            "Looking for some education\n",
            "Made my way into the night\n",
            "All that bullshit conversation\n",
            "Baby, can't you read the signs? I won't bore you with the details, baby\n",
            "I don't even wanna waste your time\n",
            "Let's just say that maybe\n",
            "You could help me ease my mind\n",
            "I ain't Mr. Right But if you're looking for fast love\n",
            "If that's love in your eyes\n",
            "It's more than enough\n",
            "Had some bad love\n",
            "So fast love is all that I've got on my mind Ooh, ooh\n",
            "Ooh, ooh Looking for some affirmation\n",
            "Made my way into the sun\n",
            "My friends got their ladies\n",
            "And they're all having babies\n",
            "I just wanna have some fun I won't bore you with the details, baby\n",
            "I don't even wanna waste your time\n",
            "Let's just say that maybe\n",
            "You could help me ease my mind\n",
            "I ain't Mr. Right But if you're looking for fast love\n",
            "If that's love in your eyes\n",
            "It's more than enough\n",
            "I've had some bad love\n",
            "So fast love is all that I've got on my mind Ooh, ooh\n",
            "Baby, baby\n",
            "Ooh, ooh\n",
            "Baby, baby\n",
            "Ooh, ooh\n",
            "Baby, baby\n",
            "Ooh In the absence of security\n",
            "I made my way into the night\n",
            "Stu\n"
          ]
        }
      ]
    },
    {
      "cell_type": "code",
      "source": [
        "with open(adel_path) as f:\n",
        "    l = f.read(100)\n",
        "get_readability_index(l)"
      ],
      "metadata": {
        "colab": {
          "base_uri": "https://localhost:8080/",
          "height": 143
        },
        "id": "sWo6NaldTxNF",
        "outputId": "9f7275fa-3dbb-43f3-dcb9-3e4730cf007b"
      },
      "execution_count": null,
      "outputs": [
        {
          "output_type": "execute_result",
          "data": {
            "text/html": [
              "\n",
              "  <div id=\"df-54918337-e011-4b26-be78-c5521d1c8def\">\n",
              "    <div class=\"colab-df-container\">\n",
              "      <div>\n",
              "<style scoped>\n",
              "    .dataframe tbody tr th:only-of-type {\n",
              "        vertical-align: middle;\n",
              "    }\n",
              "\n",
              "    .dataframe tbody tr th {\n",
              "        vertical-align: top;\n",
              "    }\n",
              "\n",
              "    .dataframe thead th {\n",
              "        text-align: right;\n",
              "    }\n",
              "</style>\n",
              "<table border=\"1\" class=\"dataframe\">\n",
              "  <thead>\n",
              "    <tr style=\"text-align: right;\">\n",
              "      <th></th>\n",
              "      <th>Metrics</th>\n",
              "      <th>Results</th>\n",
              "    </tr>\n",
              "  </thead>\n",
              "  <tbody>\n",
              "    <tr>\n",
              "      <th>0</th>\n",
              "      <td>ARI</td>\n",
              "      <td>2.276667</td>\n",
              "    </tr>\n",
              "    <tr>\n",
              "      <th>1</th>\n",
              "      <td>Flesch Reading Ease</td>\n",
              "      <td>84.767500</td>\n",
              "    </tr>\n",
              "    <tr>\n",
              "      <th>2</th>\n",
              "      <td>Kincaid</td>\n",
              "      <td>2.553889</td>\n",
              "    </tr>\n",
              "  </tbody>\n",
              "</table>\n",
              "</div>\n",
              "      <button class=\"colab-df-convert\" onclick=\"convertToInteractive('df-54918337-e011-4b26-be78-c5521d1c8def')\"\n",
              "              title=\"Convert this dataframe to an interactive table.\"\n",
              "              style=\"display:none;\">\n",
              "        \n",
              "  <svg xmlns=\"http://www.w3.org/2000/svg\" height=\"24px\"viewBox=\"0 0 24 24\"\n",
              "       width=\"24px\">\n",
              "    <path d=\"M0 0h24v24H0V0z\" fill=\"none\"/>\n",
              "    <path d=\"M18.56 5.44l.94 2.06.94-2.06 2.06-.94-2.06-.94-.94-2.06-.94 2.06-2.06.94zm-11 1L8.5 8.5l.94-2.06 2.06-.94-2.06-.94L8.5 2.5l-.94 2.06-2.06.94zm10 10l.94 2.06.94-2.06 2.06-.94-2.06-.94-.94-2.06-.94 2.06-2.06.94z\"/><path d=\"M17.41 7.96l-1.37-1.37c-.4-.4-.92-.59-1.43-.59-.52 0-1.04.2-1.43.59L10.3 9.45l-7.72 7.72c-.78.78-.78 2.05 0 2.83L4 21.41c.39.39.9.59 1.41.59.51 0 1.02-.2 1.41-.59l7.78-7.78 2.81-2.81c.8-.78.8-2.07 0-2.86zM5.41 20L4 18.59l7.72-7.72 1.47 1.35L5.41 20z\"/>\n",
              "  </svg>\n",
              "      </button>\n",
              "      \n",
              "  <style>\n",
              "    .colab-df-container {\n",
              "      display:flex;\n",
              "      flex-wrap:wrap;\n",
              "      gap: 12px;\n",
              "    }\n",
              "\n",
              "    .colab-df-convert {\n",
              "      background-color: #E8F0FE;\n",
              "      border: none;\n",
              "      border-radius: 50%;\n",
              "      cursor: pointer;\n",
              "      display: none;\n",
              "      fill: #1967D2;\n",
              "      height: 32px;\n",
              "      padding: 0 0 0 0;\n",
              "      width: 32px;\n",
              "    }\n",
              "\n",
              "    .colab-df-convert:hover {\n",
              "      background-color: #E2EBFA;\n",
              "      box-shadow: 0px 1px 2px rgba(60, 64, 67, 0.3), 0px 1px 3px 1px rgba(60, 64, 67, 0.15);\n",
              "      fill: #174EA6;\n",
              "    }\n",
              "\n",
              "    [theme=dark] .colab-df-convert {\n",
              "      background-color: #3B4455;\n",
              "      fill: #D2E3FC;\n",
              "    }\n",
              "\n",
              "    [theme=dark] .colab-df-convert:hover {\n",
              "      background-color: #434B5C;\n",
              "      box-shadow: 0px 1px 3px 1px rgba(0, 0, 0, 0.15);\n",
              "      filter: drop-shadow(0px 1px 2px rgba(0, 0, 0, 0.3));\n",
              "      fill: #FFFFFF;\n",
              "    }\n",
              "  </style>\n",
              "\n",
              "      <script>\n",
              "        const buttonEl =\n",
              "          document.querySelector('#df-54918337-e011-4b26-be78-c5521d1c8def button.colab-df-convert');\n",
              "        buttonEl.style.display =\n",
              "          google.colab.kernel.accessAllowed ? 'block' : 'none';\n",
              "\n",
              "        async function convertToInteractive(key) {\n",
              "          const element = document.querySelector('#df-54918337-e011-4b26-be78-c5521d1c8def');\n",
              "          const dataTable =\n",
              "            await google.colab.kernel.invokeFunction('convertToInteractive',\n",
              "                                                     [key], {});\n",
              "          if (!dataTable) return;\n",
              "\n",
              "          const docLinkHtml = 'Like what you see? Visit the ' +\n",
              "            '<a target=\"_blank\" href=https://colab.research.google.com/notebooks/data_table.ipynb>data table notebook</a>'\n",
              "            + ' to learn more about interactive tables.';\n",
              "          element.innerHTML = '';\n",
              "          dataTable['output_type'] = 'display_data';\n",
              "          await google.colab.output.renderOutput(dataTable, element);\n",
              "          const docLink = document.createElement('div');\n",
              "          docLink.innerHTML = docLinkHtml;\n",
              "          element.appendChild(docLink);\n",
              "        }\n",
              "      </script>\n",
              "    </div>\n",
              "  </div>\n",
              "  "
            ],
            "text/plain": [
              "               Metrics    Results\n",
              "0                  ARI   2.276667\n",
              "1  Flesch Reading Ease  84.767500\n",
              "2              Kincaid   2.553889"
            ]
          },
          "metadata": {},
          "execution_count": 86
        }
      ]
    },
    {
      "cell_type": "markdown",
      "source": [
        "==> Readability of an original text -Lyrics- of Adel songs have a very bad readability indexes. \n",
        "\n",
        "The objective is to have a text as readable as the original text or even better."
      ],
      "metadata": {
        "id": "ox_mRJKSUNoi"
      }
    },
    {
      "cell_type": "code",
      "source": [
        "def open_poetry(path):\n",
        "  f = open(path,'r')\n",
        "  poetry=''.join([l for l in f])\n",
        "  #full text\n",
        "  f = open(path,'r')\n",
        "  text=''.join([l.lower() for l in f])\n",
        "  #put the text into tokens\n",
        "  tokens = nltk.word_tokenize(text)\n",
        "  tokens_1 = nltk.word_tokenize(poetry)\n",
        "  #eliminate the stop words\n",
        "  tokens = [w for w in tokens if w not in stopwords]\n",
        "  tokens_1 = [w for w in tokens_1 if w not in stopwords]\n",
        "  return  poetry, text, tokens, tokens_1\n"
      ],
      "metadata": {
        "id": "juW6zVgKmbw1"
      },
      "execution_count": null,
      "outputs": []
    },
    {
      "cell_type": "code",
      "source": [
        "poetry, text, tokens, tokens_1 = open_poetry(K_W_path)"
      ],
      "metadata": {
        "id": "tqifwZKcm-f7"
      },
      "execution_count": null,
      "outputs": []
    },
    {
      "cell_type": "code",
      "metadata": {
        "id": "G_rLT0AXvBEQ"
      },
      "source": [
        "def wordcloud(text): \n",
        "  '''Create and generate a word cloud image'''\n",
        "  wordcloud = WordCloud().generate(text)\n",
        "\n",
        "  # Display the generated image:\n",
        "  plt.imshow(wordcloud, interpolation='bilinear')\n",
        "  plt.axis(\"off\")\n",
        "  plt.show()"
      ],
      "execution_count": null,
      "outputs": []
    },
    {
      "cell_type": "code",
      "source": [
        "wordcloud(text)  \n",
        "wordcloud(poetry) "
      ],
      "metadata": {
        "id": "JYuY6p19gT5C",
        "colab": {
          "base_uri": "https://localhost:8080/",
          "height": 379
        },
        "outputId": "4654faf0-ca5b-4c9d-fca8-9f20c7340373"
      },
      "execution_count": null,
      "outputs": [
        {
          "output_type": "display_data",
          "data": {
            "image/png": "[encoded data removed]",
            "text/plain": [
              "<Figure size 432x288 with 1 Axes>"
            ]
          },
          "metadata": {
            "needs_background": "light"
          }
        },
        {
          "output_type": "display_data",
          "data": {
            "image/png": "[encoded data removed]",
            "text/plain": [
              "<Figure size 432x288 with 1 Axes>"
            ]
          },
          "metadata": {
            "needs_background": "light"
          }
        }
      ]
    },
    {
      "cell_type": "markdown",
      "source": [
        "==> As we can see here the most frequent words are: got, nigga,im, know, aint. Let's say the typical keyne west vocabluary."
      ],
      "metadata": {
        "id": "dhwOMJQxmBrF"
      }
    },
    {
      "cell_type": "markdown",
      "source": [
        "==> Treating a poetry text in lowercase differ from treating it in normal format, as the word with which the singer start the paroles plays a big role."
      ],
      "metadata": {
        "id": "HYYwXd9nouei"
      }
    },
    {
      "cell_type": "code",
      "source": [
        "poetry, text, tokens, tokens_1 = open_poetry(adel_path)\n",
        "wordcloud(text)  \n",
        "wordcloud(poetry) "
      ],
      "metadata": {
        "colab": {
          "base_uri": "https://localhost:8080/",
          "height": 379
        },
        "id": "Uu-1zfJ1gRWS",
        "outputId": "3f615051-b444-41ea-b5eb-be72155abd80"
      },
      "execution_count": null,
      "outputs": [
        {
          "output_type": "display_data",
          "data": {
            "image/png": "[encoded data removed]",
            "text/plain": [
              "<Figure size 432x288 with 1 Axes>"
            ]
          },
          "metadata": {
            "needs_background": "light"
          }
        },
        {
          "output_type": "display_data",
          "data": {
            "image/png": "[encoded data removed]",
            "text/plain": [
              "<Figure size 432x288 with 1 Axes>"
            ]
          },
          "metadata": {
            "needs_background": "light"
          }
        }
      ]
    },
    {
      "cell_type": "markdown",
      "source": [
        "===> Adel songs contain see, want, love.."
      ],
      "metadata": {
        "id": "okrCK81-gY9U"
      }
    },
    {
      "cell_type": "code",
      "source": [
        " #Here we are going to investigate the most frequent words in songer lyrics \n",
        "def frequency_tokens(tokens): \n",
        "  ''' Given the tokens and it visulize the histogram of frequency'''\n",
        " \n",
        "  frequency = FreqDist(tokens)\n",
        "  dfFrequency = pd.DataFrame({\"Word\": list(frequency.keys()), \"Frequency\": list(frequency.values())})\n",
        "  dfFrequency = dfFrequency.nlargest(columns = \"Frequency\", n =20)\n",
        "  plt.figure(figsize=(12,8))\n",
        "  ax = sns.barplot(data = dfFrequency, x = \"Word\", y = \"Frequency\", palette=\"deep\")\n",
        "  plt.show()\n",
        "frequency_tokens(tokens)\n",
        "frequency_tokens(tokens_1)"
      ],
      "metadata": {
        "colab": {
          "base_uri": "https://localhost:8080/",
          "height": 977
        },
        "id": "7c6wT2bfpXuD",
        "outputId": "20d7be24-0ba5-4996-c216-1ea093db06ca"
      },
      "execution_count": null,
      "outputs": [
        {
          "output_type": "display_data",
          "data": {
            "image/png": "[encoded data removed]",
            "text/plain": [
              "<Figure size 864x576 with 1 Axes>"
            ]
          },
          "metadata": {
            "needs_background": "light"
          }
        },
        {
          "output_type": "display_data",
          "data": {
            "image/png": "[encoded data removed]",
            "text/plain": [
              "<Figure size 864x576 with 1 Axes>"
            ]
          },
          "metadata": {
            "needs_background": "light"
          }
        }
      ]
    },
    {
      "cell_type": "code",
      "metadata": {
        "id": "M8REwrhfgH8Z"
      },
      "source": [
        "# We try to visualize the lyrics songs with more clean data\n",
        "stopwords+=['im','like','got','get','aint','thats','say','cant','gon','see','go']\n",
        "tokens_2 =[w for w in tokens if w not in stopwords]"
      ],
      "execution_count": null,
      "outputs": []
    },
    {
      "cell_type": "code",
      "metadata": {
        "colab": {
          "base_uri": "https://localhost:8080/",
          "height": 499
        },
        "id": "U6QT9Rxyi9bp",
        "outputId": "27ee1087-7079-4c72-dc6e-2212f242bf73"
      },
      "source": [
        "frequency_tokens(tokens_2)"
      ],
      "execution_count": null,
      "outputs": [
        {
          "output_type": "display_data",
          "data": {
            "image/png": "[encoded data removed]",
            "text/plain": [
              "<Figure size 864x576 with 1 Axes>"
            ]
          },
          "metadata": {
            "needs_background": "light"
          }
        }
      ]
    },
    {
      "cell_type": "markdown",
      "metadata": {
        "id": "udI-pu85vxuF"
      },
      "source": [
        "Stopwords are important in text generation so I'm not going to eliminate it, I'm just exploring the data and the most frequent words other than stopwords."
      ]
    },
    {
      "cell_type": "markdown",
      "metadata": {
        "id": "5IHA6FDh1HbG"
      },
      "source": [
        "# Markov chain for text generation \n",
        "\n",
        "\n",
        "\n"
      ]
    },
    {
      "cell_type": "code",
      "metadata": {
        "id": "-s-6O5ppzFF8"
      },
      "source": [
        "def open_file(path):  \n",
        "  '''Ginven the path, it construct the corpus and a the poetry text'''\n",
        "  f = open(path,'r')\n",
        "  poetry=''.join([l for l in f])\n",
        "  #split the text file into single words. I'm keeping all the punctuation in, so my simulated text has punctuation:\n",
        "  corpus = poetry.split()\n",
        "  return poetry, corpus"
      ],
      "execution_count": null,
      "outputs": []
    },
    {
      "cell_type": "code",
      "source": [
        "poetry, corpus= open_file(adel_path) "
      ],
      "metadata": {
        "id": "rVQTPlJkq9MN"
      },
      "execution_count": null,
      "outputs": []
    },
    {
      "cell_type": "code",
      "metadata": {
        "id": "FtzS2uHE1FHw",
        "colab": {
          "base_uri": "https://localhost:8080/"
        },
        "outputId": "1e82d682-af96-42bc-e761-0c27d2e1979b"
      },
      "source": [
        "def make_pairs(corpus):\n",
        "  '''I define a function to give us all the pairs of words in the speeches. \n",
        "     I'm using lazy evaluation, and yielding a generator object instead of actually filling up our memory with every pair of words'''\n",
        "  for i in range(len(corpus)-1):\n",
        "        yield (corpus[i], corpus[i+1]) # Yield can produce a sequence of values. We should use yield when we want to iterate over a sequence, \n",
        "                                        #but don’t want to store the entire sequence in memory.\n",
        "        \n",
        "make_pairs(corpus) "
      ],
      "execution_count": null,
      "outputs": [
        {
          "output_type": "execute_result",
          "data": {
            "text/plain": [
              "<generator object make_pairs at 0x7fb758549850>"
            ]
          },
          "metadata": {},
          "execution_count": 46
        }
      ]
    },
    {
      "cell_type": "code",
      "metadata": {
        "id": "rtuxhXe41dFA"
      },
      "source": [
        "word_dict = {}\n",
        "#If the first word of the pair is already a key in the dictionary, simply append the next word to the list of words that follow that word. \n",
        "#Otherwise, initialize a new entry in the dictionary with the key equal to the first word\n",
        "corpus = poetry.split()\n",
        "pairs = make_pairs(corpus)\n",
        "\n",
        "for word_1, word_2 in pairs:\n",
        "    if word_1 in word_dict.keys():\n",
        "        word_dict[word_1].append(word_2)\n",
        "    else:\n",
        "        word_dict[word_1] = [word_2] "
      ],
      "execution_count": null,
      "outputs": []
    },
    {
      "cell_type": "code",
      "metadata": {
        "id": "cnyKVuGn1k4i"
      },
      "source": [
        "def first_word(corpus):\n",
        "  #pick some random word to kick off the chain\n",
        "  first_word = np.random.choice(corpus)\n",
        "  #I require the first word to be capitalized, so the text doesn’t begin mid-sentence\n",
        "  while first_word.islower():\n",
        "      first_word = np.random.choice(corpus)\n",
        "  return first_word"
      ],
      "execution_count": null,
      "outputs": []
    },
    {
      "cell_type": "code",
      "metadata": {
        "id": "G1Lav_HnF16k"
      },
      "source": [
        "first_word=  first_word(corpus) \n",
        "chain = [first_word]\n",
        "#number of words we want to simulate\n",
        "n_words = 100\n",
        "#After the first word, every word in the chain is sampled randomly from the list of words which have followed that word in the actual speeches\n",
        "for i in range(n_words): \n",
        "    chain.append(np.random.choice(word_dict[chain[-1]]))"
      ],
      "execution_count": null,
      "outputs": []
    },
    {
      "cell_type": "markdown",
      "metadata": {
        "id": "Wk0EAahlzSWL"
      },
      "source": [
        "To generate a simulation based on a certain text, count up every word that is used. Then, for every word, store the words that are used next. This is the distribution of words in that text conditional on the preceding word."
      ]
    },
    {
      "cell_type": "code",
      "metadata": {
        "colab": {
          "base_uri": "https://localhost:8080/",
          "height": 88
        },
        "id": "N05iTzfq12k5",
        "outputId": "1c62cfbf-bb83-4cac-f8da-f781c21a412c"
      },
      "source": [
        "#return the chain as a string\n",
        "' '.join(chain)"
      ],
      "execution_count": null,
      "outputs": [
        {
          "output_type": "execute_result",
          "data": {
            "application/vnd.google.colaboratory.intrinsic+json": {
              "type": "string"
            },
            "text/plain": [
              "\"Hitting me out your blessings to a web in your remedy, oh baby Oh I meant to life is done And I don't get away I play You set fire to your heart) Trust me crazy, But that walk And every piece of the only one that home I wish you You know I'm between us I will always feel Something that look back in your heart and thank you, you Should I wouldn't do I couldn't keep me Of my friends got Though I wish you have had planned But some fun again Try to stay I give up to\""
            ]
          },
          "metadata": {},
          "execution_count": 67
        }
      ]
    },
    {
      "cell_type": "markdown",
      "source": [
        "##### We define the code in fonction blocks after detailing it in the above sells"
      ],
      "metadata": {
        "id": "ZnCPpLSOshdO"
      }
    },
    {
      "cell_type": "code",
      "metadata": {
        "id": "mBK_CIkeuQUN",
        "colab": {
          "base_uri": "https://localhost:8080/",
          "height": 88
        },
        "outputId": "b70073de-df6b-46d2-e000-1e7fcb1b9859"
      },
      "source": [
        "def open_file(path):  \n",
        "  '''A function that ginving the path construct a corpus and a the poetry text'''\n",
        "  f = open(path,'r')\n",
        "  poetry=''.join([l for l in f])\n",
        "  #split the text file into single words. I'm keeping all the punctuation in, so my simulated text has punctuation:\n",
        "  corpus = poetry.split()\n",
        "  return poetry, corpus\n",
        "poetry, corpus= open_file(adel_path)\n",
        "def make_pairs(corpus):\n",
        "    for i in range(len(corpus)-1):\n",
        "        yield (corpus[i], corpus[i+1])\n",
        "\n",
        "def Markov(poetry,corpus,n_words = 10):\n",
        "  word_dict = {}\n",
        "  corpus = poetry.split()\n",
        "  pairs = make_pairs(corpus)\n",
        "  for word_1, word_2 in pairs:\n",
        "    if word_1 in word_dict.keys():\n",
        "        word_dict[word_1].append(word_2)\n",
        "    else:\n",
        "        word_dict[word_1] = [word_2]\n",
        "\n",
        "  first_word = np.random.choice(corpus)\n",
        "  while first_word.islower():\n",
        "    first_word = np.random.choice(corpus)\n",
        "  chain = [first_word]\n",
        "  for i in range(n_words):\n",
        "    chain.append(np.random.choice(word_dict[chain[-1]]))\n",
        "\n",
        "  ch=' '.join(chain)  \n",
        "  return ch\n",
        "\n",
        "Markov_text = Markov(poetry,corpus,n_words = 100)\n",
        "Markov(poetry,corpus,n_words = 100)"
      ],
      "execution_count": null,
      "outputs": [
        {
          "output_type": "execute_result",
          "data": {
            "application/vnd.google.colaboratory.intrinsic+json": {
              "type": "string"
            },
            "text/plain": [
              "\"Whenever you loved me you longer my dreams come out and downs, you Everybody taking different I'll race, If you're just like to your soul, you've left you swear that we argue I know I miss you love No one for you don't you made up your mind I will do Go to respect you sad of me It's been for what you love in the beat (Tears are gonna fall, when I've forgiven it all with you don't come true But we start to me I'm sorry For the cracks in fact it's already defeated Ah-yeah-yeah-yeah-yeah-yeah-yeah everything that they were\""
            ]
          },
          "metadata": {},
          "execution_count": 52
        }
      ]
    },
    {
      "cell_type": "code",
      "source": [
        "get_readability_index(Markov_text)"
      ],
      "metadata": {
        "colab": {
          "base_uri": "https://localhost:8080/",
          "height": 143
        },
        "id": "0Lf1KDyoUysQ",
        "outputId": "0f120f22-7996-4719-8fcb-d5550cfec697"
      },
      "execution_count": null,
      "outputs": [
        {
          "output_type": "execute_result",
          "data": {
            "text/html": [
              "\n",
              "  <div id=\"df-1a4a8d44-93d4-4a54-889d-acb546c0ee35\">\n",
              "    <div class=\"colab-df-container\">\n",
              "      <div>\n",
              "<style scoped>\n",
              "    .dataframe tbody tr th:only-of-type {\n",
              "        vertical-align: middle;\n",
              "    }\n",
              "\n",
              "    .dataframe tbody tr th {\n",
              "        vertical-align: top;\n",
              "    }\n",
              "\n",
              "    .dataframe thead th {\n",
              "        text-align: right;\n",
              "    }\n",
              "</style>\n",
              "<table border=\"1\" class=\"dataframe\">\n",
              "  <thead>\n",
              "    <tr style=\"text-align: right;\">\n",
              "      <th></th>\n",
              "      <th>Metrics</th>\n",
              "      <th>Results</th>\n",
              "    </tr>\n",
              "  </thead>\n",
              "  <tbody>\n",
              "    <tr>\n",
              "      <th>0</th>\n",
              "      <td>ARI</td>\n",
              "      <td>47.577429</td>\n",
              "    </tr>\n",
              "    <tr>\n",
              "      <th>1</th>\n",
              "      <td>Flesch Reading Ease</td>\n",
              "      <td>26.134286</td>\n",
              "    </tr>\n",
              "    <tr>\n",
              "      <th>2</th>\n",
              "      <td>Kincaid</td>\n",
              "      <td>35.699048</td>\n",
              "    </tr>\n",
              "  </tbody>\n",
              "</table>\n",
              "</div>\n",
              "      <button class=\"colab-df-convert\" onclick=\"convertToInteractive('df-1a4a8d44-93d4-4a54-889d-acb546c0ee35')\"\n",
              "              title=\"Convert this dataframe to an interactive table.\"\n",
              "              style=\"display:none;\">\n",
              "        \n",
              "  <svg xmlns=\"http://www.w3.org/2000/svg\" height=\"24px\"viewBox=\"0 0 24 24\"\n",
              "       width=\"24px\">\n",
              "    <path d=\"M0 0h24v24H0V0z\" fill=\"none\"/>\n",
              "    <path d=\"M18.56 5.44l.94 2.06.94-2.06 2.06-.94-2.06-.94-.94-2.06-.94 2.06-2.06.94zm-11 1L8.5 8.5l.94-2.06 2.06-.94-2.06-.94L8.5 2.5l-.94 2.06-2.06.94zm10 10l.94 2.06.94-2.06 2.06-.94-2.06-.94-.94-2.06-.94 2.06-2.06.94z\"/><path d=\"M17.41 7.96l-1.37-1.37c-.4-.4-.92-.59-1.43-.59-.52 0-1.04.2-1.43.59L10.3 9.45l-7.72 7.72c-.78.78-.78 2.05 0 2.83L4 21.41c.39.39.9.59 1.41.59.51 0 1.02-.2 1.41-.59l7.78-7.78 2.81-2.81c.8-.78.8-2.07 0-2.86zM5.41 20L4 18.59l7.72-7.72 1.47 1.35L5.41 20z\"/>\n",
              "  </svg>\n",
              "      </button>\n",
              "      \n",
              "  <style>\n",
              "    .colab-df-container {\n",
              "      display:flex;\n",
              "      flex-wrap:wrap;\n",
              "      gap: 12px;\n",
              "    }\n",
              "\n",
              "    .colab-df-convert {\n",
              "      background-color: #E8F0FE;\n",
              "      border: none;\n",
              "      border-radius: 50%;\n",
              "      cursor: pointer;\n",
              "      display: none;\n",
              "      fill: #1967D2;\n",
              "      height: 32px;\n",
              "      padding: 0 0 0 0;\n",
              "      width: 32px;\n",
              "    }\n",
              "\n",
              "    .colab-df-convert:hover {\n",
              "      background-color: #E2EBFA;\n",
              "      box-shadow: 0px 1px 2px rgba(60, 64, 67, 0.3), 0px 1px 3px 1px rgba(60, 64, 67, 0.15);\n",
              "      fill: #174EA6;\n",
              "    }\n",
              "\n",
              "    [theme=dark] .colab-df-convert {\n",
              "      background-color: #3B4455;\n",
              "      fill: #D2E3FC;\n",
              "    }\n",
              "\n",
              "    [theme=dark] .colab-df-convert:hover {\n",
              "      background-color: #434B5C;\n",
              "      box-shadow: 0px 1px 3px 1px rgba(0, 0, 0, 0.15);\n",
              "      filter: drop-shadow(0px 1px 2px rgba(0, 0, 0, 0.3));\n",
              "      fill: #FFFFFF;\n",
              "    }\n",
              "  </style>\n",
              "\n",
              "      <script>\n",
              "        const buttonEl =\n",
              "          document.querySelector('#df-1a4a8d44-93d4-4a54-889d-acb546c0ee35 button.colab-df-convert');\n",
              "        buttonEl.style.display =\n",
              "          google.colab.kernel.accessAllowed ? 'block' : 'none';\n",
              "\n",
              "        async function convertToInteractive(key) {\n",
              "          const element = document.querySelector('#df-1a4a8d44-93d4-4a54-889d-acb546c0ee35');\n",
              "          const dataTable =\n",
              "            await google.colab.kernel.invokeFunction('convertToInteractive',\n",
              "                                                     [key], {});\n",
              "          if (!dataTable) return;\n",
              "\n",
              "          const docLinkHtml = 'Like what you see? Visit the ' +\n",
              "            '<a target=\"_blank\" href=https://colab.research.google.com/notebooks/data_table.ipynb>data table notebook</a>'\n",
              "            + ' to learn more about interactive tables.';\n",
              "          element.innerHTML = '';\n",
              "          dataTable['output_type'] = 'display_data';\n",
              "          await google.colab.output.renderOutput(dataTable, element);\n",
              "          const docLink = document.createElement('div');\n",
              "          docLink.innerHTML = docLinkHtml;\n",
              "          element.appendChild(docLink);\n",
              "        }\n",
              "      </script>\n",
              "    </div>\n",
              "  </div>\n",
              "  "
            ],
            "text/plain": [
              "               Metrics    Results\n",
              "0                  ARI  47.577429\n",
              "1  Flesch Reading Ease  26.134286\n",
              "2              Kincaid  35.699048"
            ]
          },
          "metadata": {},
          "execution_count": 53
        }
      ]
    },
    {
      "cell_type": "markdown",
      "source": [
        "==> Readability using Markov chain has improved from the original text. But we can already see that there isn't any rythm in the lyrics."
      ],
      "metadata": {
        "id": "rWex270jU6GX"
      }
    },
    {
      "cell_type": "markdown",
      "metadata": {
        "id": "lmT9i_oXAXVR"
      },
      "source": [
        "# Recurrent Neural Networks: LSTM: character based model\n"
      ]
    },
    {
      "cell_type": "code",
      "source": [
        "def open_file(path):\n",
        "  '''Open the file that contains the poetry'''\n",
        "  raw_text = open(path, 'r', encoding='utf-8').read()\n",
        "  raw_text = raw_text.lower()\n",
        "  return raw_text"
      ],
      "metadata": {
        "id": "MhjMtpoxy28H"
      },
      "execution_count": null,
      "outputs": []
    },
    {
      "cell_type": "code",
      "source": [
        "raw_text = open_file(\"/content/poetry/adele.txt\")"
      ],
      "metadata": {
        "id": "NwM0NsVazD5I"
      },
      "execution_count": null,
      "outputs": []
    },
    {
      "cell_type": "code",
      "source": [
        "#print(raw_text)"
      ],
      "metadata": {
        "id": "Vct2AEwvjWRw"
      },
      "execution_count": null,
      "outputs": []
    },
    {
      "cell_type": "markdown",
      "metadata": {
        "id": "CzS4B0HZgybg"
      },
      "source": [
        "We must prepare the data for modeling by the neural network. We cannot model the characters directly, instead we must convert the characters to integers.\n",
        "\n",
        "We do this easily by first creating a set of all of the distinct characters in the txt file, then creating a map of each character to a unique integer."
      ]
    },
    {
      "cell_type": "code",
      "metadata": {
        "id": "Bfpeqbmxw8Al"
      },
      "source": [
        "def mapping(raw_text): \n",
        "  '''create mapping of unique chars to integers, and a reverse mapping'''\n",
        "  chars = sorted(list(set(raw_text)))\n",
        "  char_to_int = dict((c, i) for i, c in enumerate(chars))\n",
        "  int_to_char = dict((i, c) for i, c in enumerate(chars))\n",
        "  return  chars, char_to_int, int_to_char"
      ],
      "execution_count": null,
      "outputs": []
    },
    {
      "cell_type": "code",
      "source": [
        "chars, char_to_int, int_to_char = mapping(raw_text)"
      ],
      "metadata": {
        "id": "ZYUt214VXUJJ"
      },
      "execution_count": null,
      "outputs": []
    },
    {
      "cell_type": "code",
      "metadata": {
        "colab": {
          "base_uri": "https://localhost:8080/"
        },
        "id": "NjfttIhqxAQH",
        "outputId": "ff26c2a1-7388-4c07-8bf7-aeb91fdeb4e2"
      },
      "source": [
        "def summurize(chars,raw_text):\n",
        "  ''' summarize the loaded data'''\n",
        "  n_chars = len(raw_text) \n",
        "  n_vocab = len(chars) \n",
        "  return n_chars, n_vocab \n",
        "\n",
        "n_chars, n_vocab = summurize(chars ,raw_text) \n",
        "print (\"Total Characters: \", n_chars) \n",
        "print (\"Total Vocab: \", n_vocab) "
      ],
      "execution_count": null,
      "outputs": [
        {
          "output_type": "stream",
          "name": "stdout",
          "text": [
            "Total Characters:  91330\n",
            "Total Vocab:  45\n"
          ]
        }
      ]
    },
    {
      "cell_type": "markdown",
      "metadata": {
        "id": "Sv_toFJNg9t6"
      },
      "source": [
        "We now need to define the training data for the network. There is a lot of flexibility in how you choose to break up the text and expose it to the network during training.\n",
        "\n",
        "In our case, we will split the lyrics text up into subsequences with a fixed length of 100 characters, an arbitrary length (As 100 caracters may correpnds to a sentence of 20 words) , a personal choice."
      ]
    },
    {
      "cell_type": "code",
      "metadata": {
        "colab": {
          "base_uri": "https://localhost:8080/"
        },
        "id": "nGSlO9vKxQzE",
        "outputId": "ab3c543b-89a2-4226-eb32-e4effbf8e98e"
      },
      "source": [
        "seq_length = 100\n",
        "def data_prepare(n_chars ,char_to_int  ,seq_length = seq_length):\t\n",
        "\t'''prepare the dataset of input to output pairs encoded as integers'''\n",
        "\t''' giving this function the length of the sequence we want the model to use in order to model the data'''\n",
        "\t''' to prepare the input data we give this function the two mapping dicts '''\n",
        "\t\n",
        "\tdataX = []\n",
        "\tdataY = [] \n",
        "\n",
        "\tfor i in range(0, n_chars - seq_length, 1):\n",
        "\t\tseq_in = raw_text[i:i + seq_length] #we select 100 chars \n",
        "\t\tseq_out = raw_text[i + seq_length] # we select the next 100 chars\n",
        "\t\tdataX.append([char_to_int[char] for char in seq_in]) #transform the input 100 lengeth sequence into intergers\n",
        "\t\tdataY.append(char_to_int[seq_out]) # transform the expected output seq into integers \n",
        "  \n",
        "\treturn dataX, dataY\n",
        "\n",
        "dataX, dataY = data_prepare(n_chars,char_to_int ,seq_length = 100)\n",
        "n_patterns = len(dataX)       \n",
        "print (\"Total Patterns: \", n_patterns) # We got 91330-100=91230 patterns       "
      ],
      "execution_count": null,
      "outputs": [
        {
          "output_type": "stream",
          "name": "stdout",
          "text": [
            "Total Patterns:  91230\n"
          ]
        }
      ]
    },
    {
      "cell_type": "markdown",
      "metadata": {
        "id": "zAmoPDgRhErl"
      },
      "source": [
        "Each training pattern of the network is comprised of 100 time steps of one character (X) followed by one character output (y). When creating these sequences, we slide this window along the whole lyrics one character at a time, allowing each character a chance to be learned from the 100 characters that preceded it."
      ]
    },
    {
      "cell_type": "markdown",
      "metadata": {
        "id": "Pyo232jahKSA"
      },
      "source": [
        "Now that we have prepared our training data we need to transform it so that it is suitable for use with Keras.\n",
        "\n",
        "First we must transform the list of input sequences into the form [samples, time steps, features] expected by an LSTM network."
      ]
    },
    {
      "cell_type": "markdown",
      "metadata": {
        "id": "UjdttRxHhT_p"
      },
      "source": [
        "Next we need to rescale the integers to the range 0-to-1 to make the patterns easier to learn by the LSTM network that uses the sigmoid activation function by default.\n",
        "\n",
        "Finally, we need to convert the output patterns (single characters converted to integers) into a one hot encoding. This is so that we can configure the network to predict the probability of each of the 45 different characters in the vocabulary (an easier representation) rather than trying to force it to predict precisely the next character. Each y value is converted into a sparse vector with a length of 45, full of zeros except with a 1 in the column for the letter (integer) that the pattern represents."
      ]
    },
    {
      "cell_type": "code",
      "metadata": {
        "id": "5_i5r95_3f7u"
      },
      "source": [
        "def data_modeling(dataX, dataY):\n",
        "  '''prepare data for modeling'''\n",
        "  # reshape X to be [samples, time steps, features]\n",
        "  X = np.reshape(dataX, (n_patterns, seq_length, 1))\n",
        "  # normalize to not have a linear corrolation between the characters\n",
        "  X = X / float(n_vocab)\n",
        "  # one hot encode the output variable\n",
        "  y = np_utils.to_categorical(dataY)\n",
        "  return X, y\n",
        "\n",
        "X, y = data_modeling(dataX, dataY)"
      ],
      "execution_count": null,
      "outputs": []
    },
    {
      "cell_type": "markdown",
      "metadata": {
        "id": "23L5YffRhXfa"
      },
      "source": [
        "We can now define our LSTM model. Here we define a single hidden LSTM layer with 256 memory units. The network uses dropout with a probability of 20. The output layer is a Dense layer using the softmax activation function to output a probability prediction for each of the 45 characters between 0 and 1"
      ]
    },
    {
      "cell_type": "code",
      "metadata": {
        "id": "TTzfxCnD3loV"
      },
      "source": [
        "#Here I make a very simpleee modell in order to speed the training beacause each time \n",
        "#I use the notebook I find myself spending so much time running the model and because it's on colab I dont find the saved versions\n",
        "# define the LSTM model\n",
        "def LSTM_model(X,num_unit_1,dropout_rate):\n",
        "  '''Define an LSTM model'''\n",
        "  model = Sequential()\n",
        "  model.add(LSTM(num_unit_1, input_shape=(X.shape[1], X.shape[2])))\n",
        "  model.add(Dropout(dropout_rate))\n",
        "  model.add(Dense(y.shape[1], activation='softmax'))\n",
        "  model.compile(loss='categorical_crossentropy', optimizer='adam')\n",
        "  return model"
      ],
      "execution_count": null,
      "outputs": []
    },
    {
      "cell_type": "code",
      "metadata": {
        "colab": {
          "base_uri": "https://localhost:8080/"
        },
        "id": "vS9-gzoXQI_u",
        "outputId": "2d0b39a6-8b1a-4b25-fc1f-82aa78eb3a75"
      },
      "source": [
        "model = LSTM_model(X,256,0.2)\n",
        "model.summary()"
      ],
      "execution_count": null,
      "outputs": [
        {
          "output_type": "stream",
          "name": "stdout",
          "text": [
            "Model: \"sequential\"\n",
            "_________________________________________________________________\n",
            " Layer (type)                Output Shape              Param #   \n",
            "=================================================================\n",
            " lstm (LSTM)                 (None, 256)               264192    \n",
            "                                                                 \n",
            " dropout (Dropout)           (None, 256)               0         \n",
            "                                                                 \n",
            " dense (Dense)               (None, 45)                11565     \n",
            "                                                                 \n",
            "=================================================================\n",
            "Total params: 275,757\n",
            "Trainable params: 275,757\n",
            "Non-trainable params: 0\n",
            "_________________________________________________________________\n"
          ]
        }
      ]
    },
    {
      "cell_type": "markdown",
      "metadata": {
        "id": "DbkLX9vLiHJq"
      },
      "source": [
        "We will use model checkpointing to record all of the network weights to file."
      ]
    },
    {
      "cell_type": "code",
      "metadata": {
        "id": "eitSPh5y3pb1"
      },
      "source": [
        "# define the callbacks including early stopping, where I choose 3 trials before stopping \n",
        "filepath=\"model.hdf5\"\n",
        "\n",
        "def call_backs():\n",
        "  Early_Stopping=EarlyStopping(patience=3, monitor='loss')\n",
        "  #checkpoint = ModelCheckpoint(filepath, monitor='loss', verbose=1, save_best_only=True, mode='min')\n",
        "  callbacks_list = [Early_Stopping]#,TensorBoard(log_dir='logs')]\n",
        "  return callbacks_list\n",
        "\n",
        "callbacks_list = call_backs()"
      ],
      "execution_count": null,
      "outputs": []
    },
    {
      "cell_type": "code",
      "metadata": {
        "colab": {
          "base_uri": "https://localhost:8080/"
        },
        "id": "_WXxbxLv3uOA",
        "outputId": "75531821-2ee4-41fa-d1f0-0f0ce2009d32"
      },
      "source": [
        "Result = model.fit(X, y, epochs= 40, batch_size=128, callbacks=callbacks_list)"
      ],
      "execution_count": null,
      "outputs": [
        {
          "output_type": "stream",
          "name": "stdout",
          "text": [
            "Epoch 1/40\n",
            "713/713 [==============================] - 458s 639ms/step - loss: 2.9189\n",
            "Epoch 2/40\n",
            "713/713 [==============================] - 457s 641ms/step - loss: 2.7138\n",
            "Epoch 3/40\n",
            "713/713 [==============================] - 475s 666ms/step - loss: 2.6447\n",
            "Epoch 4/40\n",
            "713/713 [==============================] - 464s 651ms/step - loss: 2.5842\n",
            "Epoch 5/40\n",
            "713/713 [==============================] - 462s 648ms/step - loss: 2.5113\n",
            "Epoch 6/40\n",
            "713/713 [==============================] - 447s 626ms/step - loss: 2.4256\n",
            "Epoch 7/40\n",
            "713/713 [==============================] - 447s 626ms/step - loss: 2.3185\n",
            "Epoch 8/40\n",
            "713/713 [==============================] - 446s 626ms/step - loss: 2.1988\n",
            "Epoch 9/40\n",
            "713/713 [==============================] - 449s 630ms/step - loss: 2.0774\n",
            "Epoch 10/40\n",
            "713/713 [==============================] - 444s 623ms/step - loss: 1.9706\n",
            "Epoch 11/40\n",
            "713/713 [==============================] - 451s 632ms/step - loss: 1.8712\n",
            "Epoch 12/40\n",
            "713/713 [==============================] - 448s 628ms/step - loss: 1.7853\n",
            "Epoch 13/40\n",
            "713/713 [==============================] - 447s 626ms/step - loss: 1.7132\n",
            "Epoch 14/40\n",
            "713/713 [==============================] - 446s 626ms/step - loss: 1.6429\n",
            "Epoch 15/40\n",
            "713/713 [==============================] - 447s 626ms/step - loss: 1.5848\n",
            "Epoch 16/40\n",
            "713/713 [==============================] - 447s 627ms/step - loss: 1.5210\n",
            "Epoch 17/40\n",
            "713/713 [==============================] - 449s 630ms/step - loss: 1.4720\n",
            "Epoch 18/40\n",
            "713/713 [==============================] - 445s 625ms/step - loss: 1.4231\n",
            "Epoch 19/40\n",
            "713/713 [==============================] - 443s 622ms/step - loss: 1.3790\n",
            "Epoch 20/40\n",
            "713/713 [==============================] - 449s 630ms/step - loss: 1.3438\n",
            "Epoch 21/40\n",
            "713/713 [==============================] - 448s 629ms/step - loss: 1.3058\n",
            "Epoch 22/40\n",
            "713/713 [==============================] - 448s 628ms/step - loss: 1.2734\n",
            "Epoch 23/40\n",
            "713/713 [==============================] - 451s 633ms/step - loss: 1.2422\n",
            "Epoch 24/40\n",
            "713/713 [==============================] - 457s 641ms/step - loss: 1.2159\n",
            "Epoch 25/40\n",
            "713/713 [==============================] - 479s 672ms/step - loss: 1.1874\n",
            "Epoch 26/40\n",
            "713/713 [==============================] - 472s 662ms/step - loss: 1.1679\n",
            "Epoch 27/40\n",
            "713/713 [==============================] - 470s 659ms/step - loss: 1.1393\n",
            "Epoch 28/40\n",
            "713/713 [==============================] - 476s 668ms/step - loss: 1.1188\n",
            "Epoch 29/40\n",
            "713/713 [==============================] - 472s 662ms/step - loss: 1.0936\n",
            "Epoch 30/40\n",
            "713/713 [==============================] - 473s 663ms/step - loss: 1.0770\n",
            "Epoch 31/40\n",
            "713/713 [==============================] - 470s 659ms/step - loss: 1.0544\n",
            "Epoch 32/40\n",
            "713/713 [==============================] - 472s 663ms/step - loss: 1.0356\n",
            "Epoch 33/40\n",
            "713/713 [==============================] - 470s 659ms/step - loss: 1.0282\n",
            "Epoch 34/40\n",
            "713/713 [==============================] - 479s 672ms/step - loss: 1.0023\n",
            "Epoch 35/40\n",
            "713/713 [==============================] - 484s 679ms/step - loss: 0.9984\n",
            "Epoch 36/40\n",
            "713/713 [==============================] - 487s 683ms/step - loss: 0.9829\n",
            "Epoch 37/40\n",
            "713/713 [==============================] - 487s 683ms/step - loss: 0.9814\n",
            "Epoch 38/40\n",
            "713/713 [==============================] - 488s 685ms/step - loss: 0.9708\n",
            "Epoch 39/40\n",
            "713/713 [==============================] - 489s 686ms/step - loss: 0.9467\n",
            "Epoch 40/40\n",
            "713/713 [==============================] - 490s 687ms/step - loss: 0.9318\n"
          ]
        }
      ]
    },
    {
      "cell_type": "markdown",
      "metadata": {
        "id": "A6VzXCMYia1d"
      },
      "source": [
        "To make predictions, we first start off with a seed sequence as input, generate the next character then update the seed sequence to add the generated character on the end and trim off the first character. This process is repeated for as long as we want to predict new characters."
      ]
    },
    {
      "cell_type": "code",
      "metadata": {
        "colab": {
          "base_uri": "https://localhost:8080/"
        },
        "id": "vTZY7BAj3xbh",
        "outputId": "2889298f-fa96-4fd6-d004-59df5f78b308"
      },
      "source": [
        "# pick a random seed\n",
        "start = np.random.randint(0, len(dataX)-1)\n",
        "pattern = dataX[start]\n",
        "f= open(\"Adel_gen.txt\",\"a+\") # a file where to save the generated text\n",
        "print (\"\\\"\", ''.join([int_to_char[value] for value in pattern]), \"\\\"\")\n",
        "with open(\"/content/Adel_gen.txt\", \"w\") as f:\n",
        "  # generate characters\n",
        "  for i in range(1000):\n",
        "      x = numpy.reshape(pattern, (1, len(pattern), 1))\n",
        "      x = x / float(n_vocab)\n",
        "      prediction = model.predict(x, verbose=0)\n",
        "      index = numpy.argmax(prediction)\n",
        "      result = int_to_char[index]\n",
        "      seq_in = [int_to_char[value] for value in pattern]\n",
        "      sys.stdout.write(result)\n",
        "      f.write(result)\n",
        "      pattern.append(index)\n",
        "      pattern = pattern[1:len(pattern)]\n",
        "  \n",
        "print (\"\\nDone.\")"
      ],
      "execution_count": null,
      "outputs": [
        {
          "output_type": "stream",
          "name": "stdout",
          "text": [
            "\" eaming out your name,\n",
            "your name i set fire to the rain,\n",
            "and i threw us into the flames\n",
            "well, it felt \"\n",
            " something died\n",
            "'cause i knew that that was the last time, the last time\n",
            "so meae wh never weile bite that i mtet thep i c neitl you the she sorein th tae soone whin we were you woln toe tornds to toen your caee i'm sollt ane toene your haart\n",
            "it d san i wall you t more to dy the dool\n",
            "it t aornain and the wouls to then your coes\n",
            "toen i can't devp bisine felt\n",
            "ih it hadn't been for love\n",
            "i never woulda canght the train tooe it hasde io was just tike,  mous bo my band\n",
            "toayei bo ikst wou wiut feme lnve t an it madd io biam\n",
            "it siml ao i m cuire mo by yhu dlold teenes  lous then iaven\n",
            "t's fine to tot toyed ayh i well a ciuld v ao it madt io sore\n",
            "lo toori\n",
            "in'the eeek so yiu hndw th that s no burnave bed iove le i c sill you\n",
            "the way you walk that walk\n",
            "and i can hear by the way you talk that talk\n",
            "and i can know by the way you treat your gorl\n",
            "that i can give bo an tha shass so dy rho ou hras ooe toand whet ie soolt toad so heaiing me tha whine that wou'ane the torer oe thi so heap that you sein tu \n",
            "Done.\n"
          ]
        }
      ]
    },
    {
      "cell_type": "code",
      "source": [
        "generated_text_1 = '''\" eaming out your name,\n",
        "your name i set fire to the rain,\n",
        "and i threw us into the flames\n",
        "well, it felt \"\n",
        " something died\n",
        "'cause i knew that that was the last time, the last time\n",
        "so meae wh never weile bite that i mtet thep i c neitl you the she sorein th tae soone whin we were you woln toe tornds to toen your caee i'm sollt ane toene your haart\n",
        "it d san i wall you t more to dy the dool\n",
        "it t aornain and the wouls to then your coes\n",
        "toen i can't devp bisine felt\n",
        "ih it hadn't been for love\n",
        "i never woulda canght the train tooe it hasde io was just tike,  mous bo my band\n",
        "toayei bo ikst wou wiut feme lnve t an it madd io biam\n",
        "it siml ao i m cuire mo by yhu dlold teenes  lous then iaven\n",
        "t's fine to tot toyed ayh i well a ciuld v ao it madt io sore\n",
        "lo toori\n",
        "in'the eeek so yiu hndw th that s no burnave bed iove le i c sill you\n",
        "the way you walk that walk\n",
        "and i can hear by the way you talk that talk\n",
        "and i can know by the way you treat your gorl\n",
        "that i can give bo an tha shass so dy rho ou hras ooe toand whet ie soolt toad so heaiing me tha whine that wou'ane the torer oe thi so heap that you sein tu \n",
        "'''\n",
        "get_readability_index(generated_text_1)"
      ],
      "metadata": {
        "colab": {
          "base_uri": "https://localhost:8080/",
          "height": 143
        },
        "id": "bTck11rSX4Zh",
        "outputId": "8132b0d0-3d68-41fd-ace5-f616ad611587"
      },
      "execution_count": null,
      "outputs": [
        {
          "output_type": "execute_result",
          "data": {
            "text/html": [
              "\n",
              "  <div id=\"df-0b30361b-d9c1-4f16-b1d5-f673e910de8d\">\n",
              "    <div class=\"colab-df-container\">\n",
              "      <div>\n",
              "<style scoped>\n",
              "    .dataframe tbody tr th:only-of-type {\n",
              "        vertical-align: middle;\n",
              "    }\n",
              "\n",
              "    .dataframe tbody tr th {\n",
              "        vertical-align: top;\n",
              "    }\n",
              "\n",
              "    .dataframe thead th {\n",
              "        text-align: right;\n",
              "    }\n",
              "</style>\n",
              "<table border=\"1\" class=\"dataframe\">\n",
              "  <thead>\n",
              "    <tr style=\"text-align: right;\">\n",
              "      <th></th>\n",
              "      <th>Metrics</th>\n",
              "      <th>Results</th>\n",
              "    </tr>\n",
              "  </thead>\n",
              "  <tbody>\n",
              "    <tr>\n",
              "      <th>0</th>\n",
              "      <td>ARI</td>\n",
              "      <td>0.046332</td>\n",
              "    </tr>\n",
              "    <tr>\n",
              "      <th>1</th>\n",
              "      <td>Flesch Reading Ease</td>\n",
              "      <td>111.844479</td>\n",
              "    </tr>\n",
              "    <tr>\n",
              "      <th>2</th>\n",
              "      <td>Kincaid</td>\n",
              "      <td>0.687723</td>\n",
              "    </tr>\n",
              "  </tbody>\n",
              "</table>\n",
              "</div>\n",
              "      <button class=\"colab-df-convert\" onclick=\"convertToInteractive('df-0b30361b-d9c1-4f16-b1d5-f673e910de8d')\"\n",
              "              title=\"Convert this dataframe to an interactive table.\"\n",
              "              style=\"display:none;\">\n",
              "        \n",
              "  <svg xmlns=\"http://www.w3.org/2000/svg\" height=\"24px\"viewBox=\"0 0 24 24\"\n",
              "       width=\"24px\">\n",
              "    <path d=\"M0 0h24v24H0V0z\" fill=\"none\"/>\n",
              "    <path d=\"M18.56 5.44l.94 2.06.94-2.06 2.06-.94-2.06-.94-.94-2.06-.94 2.06-2.06.94zm-11 1L8.5 8.5l.94-2.06 2.06-.94-2.06-.94L8.5 2.5l-.94 2.06-2.06.94zm10 10l.94 2.06.94-2.06 2.06-.94-2.06-.94-.94-2.06-.94 2.06-2.06.94z\"/><path d=\"M17.41 7.96l-1.37-1.37c-.4-.4-.92-.59-1.43-.59-.52 0-1.04.2-1.43.59L10.3 9.45l-7.72 7.72c-.78.78-.78 2.05 0 2.83L4 21.41c.39.39.9.59 1.41.59.51 0 1.02-.2 1.41-.59l7.78-7.78 2.81-2.81c.8-.78.8-2.07 0-2.86zM5.41 20L4 18.59l7.72-7.72 1.47 1.35L5.41 20z\"/>\n",
              "  </svg>\n",
              "      </button>\n",
              "      \n",
              "  <style>\n",
              "    .colab-df-container {\n",
              "      display:flex;\n",
              "      flex-wrap:wrap;\n",
              "      gap: 12px;\n",
              "    }\n",
              "\n",
              "    .colab-df-convert {\n",
              "      background-color: #E8F0FE;\n",
              "      border: none;\n",
              "      border-radius: 50%;\n",
              "      cursor: pointer;\n",
              "      display: none;\n",
              "      fill: #1967D2;\n",
              "      height: 32px;\n",
              "      padding: 0 0 0 0;\n",
              "      width: 32px;\n",
              "    }\n",
              "\n",
              "    .colab-df-convert:hover {\n",
              "      background-color: #E2EBFA;\n",
              "      box-shadow: 0px 1px 2px rgba(60, 64, 67, 0.3), 0px 1px 3px 1px rgba(60, 64, 67, 0.15);\n",
              "      fill: #174EA6;\n",
              "    }\n",
              "\n",
              "    [theme=dark] .colab-df-convert {\n",
              "      background-color: #3B4455;\n",
              "      fill: #D2E3FC;\n",
              "    }\n",
              "\n",
              "    [theme=dark] .colab-df-convert:hover {\n",
              "      background-color: #434B5C;\n",
              "      box-shadow: 0px 1px 3px 1px rgba(0, 0, 0, 0.15);\n",
              "      filter: drop-shadow(0px 1px 2px rgba(0, 0, 0, 0.3));\n",
              "      fill: #FFFFFF;\n",
              "    }\n",
              "  </style>\n",
              "\n",
              "      <script>\n",
              "        const buttonEl =\n",
              "          document.querySelector('#df-0b30361b-d9c1-4f16-b1d5-f673e910de8d button.colab-df-convert');\n",
              "        buttonEl.style.display =\n",
              "          google.colab.kernel.accessAllowed ? 'block' : 'none';\n",
              "\n",
              "        async function convertToInteractive(key) {\n",
              "          const element = document.querySelector('#df-0b30361b-d9c1-4f16-b1d5-f673e910de8d');\n",
              "          const dataTable =\n",
              "            await google.colab.kernel.invokeFunction('convertToInteractive',\n",
              "                                                     [key], {});\n",
              "          if (!dataTable) return;\n",
              "\n",
              "          const docLinkHtml = 'Like what you see? Visit the ' +\n",
              "            '<a target=\"_blank\" href=https://colab.research.google.com/notebooks/data_table.ipynb>data table notebook</a>'\n",
              "            + ' to learn more about interactive tables.';\n",
              "          element.innerHTML = '';\n",
              "          dataTable['output_type'] = 'display_data';\n",
              "          await google.colab.output.renderOutput(dataTable, element);\n",
              "          const docLink = document.createElement('div');\n",
              "          docLink.innerHTML = docLinkHtml;\n",
              "          element.appendChild(docLink);\n",
              "        }\n",
              "      </script>\n",
              "    </div>\n",
              "  </div>\n",
              "  "
            ],
            "text/plain": [
              "               Metrics     Results\n",
              "0                  ARI    0.046332\n",
              "1  Flesch Reading Ease  111.844479\n",
              "2              Kincaid    0.687723"
            ]
          },
          "metadata": {},
          "execution_count": 88
        }
      ]
    },
    {
      "cell_type": "markdown",
      "source": [
        "==> The good thing that it is more readable than the original text. Yet, it still not very good as it has 0.04 ARI and 0.6 Kincaid index (extremly hard to read) "
      ],
      "metadata": {
        "id": "LogXsaO-enGK"
      }
    },
    {
      "cell_type": "markdown",
      "source": [
        "# Combining LSTM char-based model and Markov chain model to get more accurate predictions"
      ],
      "metadata": {
        "id": "Vy58PSka8F2X"
      }
    },
    {
      "cell_type": "code",
      "source": [
        "corpus = poetry.split()"
      ],
      "metadata": {
        "id": "Z8kcPBLZBSi5"
      },
      "execution_count": null,
      "outputs": []
    },
    {
      "cell_type": "code",
      "source": [
        "def get_phonetics(list_of_words):\n",
        "  phonetic_list = [fuzzy.nysiis(w) for w in list_of_words]\n",
        "  return phonetic_list \n",
        "\n",
        "\n",
        "def get_phonetics_dict(word_dict):\n",
        "  ''' word_dict: a dict that at each word corresponds the possible next words.\n",
        "      returns word_ph: a dic that at each word corresponds the possible next phonetics'''\n",
        "  word_ph ={} # Define the dict of phonetics \n",
        "  word_ph =word_ph.fromkeys([i for i in word_dict.keys()]) #initilize the keys as the word_dict\n",
        "  for i in word_ph.keys():\n",
        "    word_ph[i]=[]\n",
        "    #use the fuzzy matching to generate the phonetic of each word \n",
        "    word_ph[i] = get_phonetics(word_dict[i])\n",
        "  return word_ph\n",
        "\n",
        "#Find the closest match word \n",
        "def find_the_word(generated_word):\n",
        "  '''In fact, in the vocabluary of each singer we find some words that arn't very well written, we look for their roots by looking in the possible rythming words and selecting the closest match'''\n",
        "  List_of_rythming_word = p.get_rhymes(generated_word) #return a list of same rythming words \n",
        "  possible_word = difflib.get_close_matches(generated_word, List_of_rythming_word,n=1)[0]\n",
        "  if possible_word==[]:\n",
        "    return generated_word\n",
        "  else:\n",
        "    return possible_word[0]  \n",
        "\n",
        "\n",
        "#Finf similar meaning words\n",
        "def get_synonyms(word):\n",
        "  synonyms = []\n",
        "\n",
        "  for syn in wn.synsets(word):\n",
        "      for i in syn.lemmas():\n",
        "          synonyms.append(i.name())\n",
        "  return synonyms\n",
        "\n",
        "\n",
        "def make_directory(poetry):  \n",
        "  word_dict = {}\n",
        "  corpus = poetry.split()\n",
        "  pairs = make_pairs(corpus)\n",
        "  for word_1, word_2 in pairs:\n",
        "    if word_1 in word_dict.keys():\n",
        "        word_dict[word_1].append(word_2)\n",
        "    else:\n",
        "        word_dict[word_1] = [word_2] \n",
        "  return word_dict\n",
        "\n",
        "\n",
        "def word_in_corpus(word,corpus):\n",
        "  b = False\n",
        "  if word in corpus:\n",
        "    b = True \n",
        "  return b \n",
        "\n",
        "def unique_vocab(vocab):\n",
        "  ''' Unique words in a vocab'''\n",
        "  words = [word.strip('.,!;()[]') for word in vocab] \n",
        "  #finding unique words in a vocab\n",
        "  unique = []\n",
        "  for word in words:\n",
        "      if word not in unique:\n",
        "          unique.append(word)\n",
        "  return unique \n"
      ],
      "metadata": {
        "id": "WNdsV6kbJw5_"
      },
      "execution_count": null,
      "outputs": []
    },
    {
      "cell_type": "code",
      "source": [
        "word_dict = make_directory(poetry)"
      ],
      "metadata": {
        "id": "MJmpIukb-RyE"
      },
      "execution_count": null,
      "outputs": []
    },
    {
      "cell_type": "code",
      "source": [
        "generated_text_word = generated_text_1.split()"
      ],
      "metadata": {
        "id": "p5stVjJRAfLN"
      },
      "execution_count": null,
      "outputs": []
    },
    {
      "cell_type": "code",
      "source": [
        "generated_text_vocab = unique_vocab(generated_text_word)"
      ],
      "metadata": {
        "id": "azdoRIHHAlgQ"
      },
      "execution_count": null,
      "outputs": []
    },
    {
      "cell_type": "code",
      "source": [
        "singers_vocab = unique_vocab(corpus) "
      ],
      "metadata": {
        "id": "gJoYbm5kBN7v"
      },
      "execution_count": null,
      "outputs": []
    },
    {
      "cell_type": "code",
      "source": [
        "first_word_generated_text = generated_text_word[0]\n",
        "if first_word_generated_text not in singers_vocab:\n",
        "  generated_text_word[0] = first_word(corpus)\n"
      ],
      "metadata": {
        "id": "ZubbpFgEBxqd"
      },
      "execution_count": null,
      "outputs": []
    },
    {
      "cell_type": "code",
      "source": [
        "for w in generated_text_word[1:]:\n",
        "  if w not in singers_vocab:\n",
        "    word_ph = fuzzy.nysiis(w)\n",
        "    word_predecessor_index = generated_text_word.index(w)-1\n",
        "    word_predecessor = generated_text_word[word_predecessor_index]\n",
        "    list_of_ph = get_phonetics(word_dict[word_predecessor])\n",
        "    list_leveshtein_distance = [lev(word_ph,i) for i in list_of_ph]\n",
        "    index_of_most_similar_word = np.argmin(list_leveshtein_distance)\n",
        "    word_of_interst = word_dict[word_predecessor][index_of_most_similar_word]\n",
        "    if index_of_most_similar_word>4 :\n",
        "      \n",
        "      #Markov chain, we select randomly a word \n",
        "      markov_word = np.random.choice(word_dict[word_predecessor])\n",
        "      #We see the synonyms of this word \n",
        "      list_of_syn =  get_synonyms(markov_word) \n",
        "      if len(list_of_syn)==0:\n",
        "        best_original_word = find_the_word(markov_word) \n",
        "      list_of_syn =  get_synonyms(best_original_word)\n",
        "      #We select the the synonym word with the closest rythm phonetic pronounciation\n",
        "      list_ph_syn = get_phonetics(list_of_syn)\n",
        "      #print(list_ph_syn)\n",
        "      #Calculate the levenstein distance \n",
        "      list_leveshtein_distance_of_syn = [lev(word_ph,i) for i in list_ph_syn]\n",
        "      #print(list_leveshtein_distance_of_syn)\n",
        "      #Select the phonetcally close word\n",
        "      index_of_most_similar_word_of_syn = np.argmin(list_leveshtein_distance_of_syn)\n",
        "      #define the word\n",
        "      word_of_interst = list_of_syn[index_of_most_similar_word_of_syn]\n",
        "    #Replace it in the generated text\n",
        "    generated_text_word[generated_text_word.index(w)] = word_of_interst"
      ],
      "metadata": {
        "id": "frLMCNk9ArJk"
      },
      "execution_count": null,
      "outputs": []
    },
    {
      "cell_type": "code",
      "source": [
        "corrected_text = ' '.join([w for w in generated_text_word])"
      ],
      "metadata": {
        "id": "rxsoclkEJGTv"
      },
      "execution_count": null,
      "outputs": []
    },
    {
      "cell_type": "code",
      "source": [
        "get_readability_index(corrected_text)"
      ],
      "metadata": {
        "colab": {
          "base_uri": "https://localhost:8080/",
          "height": 143
        },
        "id": "tJdGNR-eJsaF",
        "outputId": "00833419-73fb-47d5-998e-4b5193fb3b84"
      },
      "execution_count": null,
      "outputs": [
        {
          "output_type": "execute_result",
          "data": {
            "text/html": [
              "\n",
              "  <div id=\"df-042ba8dd-6aeb-4b83-ba8c-e91fc896e35d\">\n",
              "    <div class=\"colab-df-container\">\n",
              "      <div>\n",
              "<style scoped>\n",
              "    .dataframe tbody tr th:only-of-type {\n",
              "        vertical-align: middle;\n",
              "    }\n",
              "\n",
              "    .dataframe tbody tr th {\n",
              "        vertical-align: top;\n",
              "    }\n",
              "\n",
              "    .dataframe thead th {\n",
              "        text-align: right;\n",
              "    }\n",
              "</style>\n",
              "<table border=\"1\" class=\"dataframe\">\n",
              "  <thead>\n",
              "    <tr style=\"text-align: right;\">\n",
              "      <th></th>\n",
              "      <th>Metrics</th>\n",
              "      <th>Results</th>\n",
              "    </tr>\n",
              "  </thead>\n",
              "  <tbody>\n",
              "    <tr>\n",
              "      <th>0</th>\n",
              "      <td>ARI</td>\n",
              "      <td>123.424615</td>\n",
              "    </tr>\n",
              "    <tr>\n",
              "      <th>1</th>\n",
              "      <td>Flesch Reading Ease</td>\n",
              "      <td>-128.324231</td>\n",
              "    </tr>\n",
              "    <tr>\n",
              "      <th>2</th>\n",
              "      <td>Kincaid</td>\n",
              "      <td>95.749231</td>\n",
              "    </tr>\n",
              "  </tbody>\n",
              "</table>\n",
              "</div>\n",
              "      <button class=\"colab-df-convert\" onclick=\"convertToInteractive('df-042ba8dd-6aeb-4b83-ba8c-e91fc896e35d')\"\n",
              "              title=\"Convert this dataframe to an interactive table.\"\n",
              "              style=\"display:none;\">\n",
              "        \n",
              "  <svg xmlns=\"http://www.w3.org/2000/svg\" height=\"24px\"viewBox=\"0 0 24 24\"\n",
              "       width=\"24px\">\n",
              "    <path d=\"M0 0h24v24H0V0z\" fill=\"none\"/>\n",
              "    <path d=\"M18.56 5.44l.94 2.06.94-2.06 2.06-.94-2.06-.94-.94-2.06-.94 2.06-2.06.94zm-11 1L8.5 8.5l.94-2.06 2.06-.94-2.06-.94L8.5 2.5l-.94 2.06-2.06.94zm10 10l.94 2.06.94-2.06 2.06-.94-2.06-.94-.94-2.06-.94 2.06-2.06.94z\"/><path d=\"M17.41 7.96l-1.37-1.37c-.4-.4-.92-.59-1.43-.59-.52 0-1.04.2-1.43.59L10.3 9.45l-7.72 7.72c-.78.78-.78 2.05 0 2.83L4 21.41c.39.39.9.59 1.41.59.51 0 1.02-.2 1.41-.59l7.78-7.78 2.81-2.81c.8-.78.8-2.07 0-2.86zM5.41 20L4 18.59l7.72-7.72 1.47 1.35L5.41 20z\"/>\n",
              "  </svg>\n",
              "      </button>\n",
              "      \n",
              "  <style>\n",
              "    .colab-df-container {\n",
              "      display:flex;\n",
              "      flex-wrap:wrap;\n",
              "      gap: 12px;\n",
              "    }\n",
              "\n",
              "    .colab-df-convert {\n",
              "      background-color: #E8F0FE;\n",
              "      border: none;\n",
              "      border-radius: 50%;\n",
              "      cursor: pointer;\n",
              "      display: none;\n",
              "      fill: #1967D2;\n",
              "      height: 32px;\n",
              "      padding: 0 0 0 0;\n",
              "      width: 32px;\n",
              "    }\n",
              "\n",
              "    .colab-df-convert:hover {\n",
              "      background-color: #E2EBFA;\n",
              "      box-shadow: 0px 1px 2px rgba(60, 64, 67, 0.3), 0px 1px 3px 1px rgba(60, 64, 67, 0.15);\n",
              "      fill: #174EA6;\n",
              "    }\n",
              "\n",
              "    [theme=dark] .colab-df-convert {\n",
              "      background-color: #3B4455;\n",
              "      fill: #D2E3FC;\n",
              "    }\n",
              "\n",
              "    [theme=dark] .colab-df-convert:hover {\n",
              "      background-color: #434B5C;\n",
              "      box-shadow: 0px 1px 3px 1px rgba(0, 0, 0, 0.15);\n",
              "      filter: drop-shadow(0px 1px 2px rgba(0, 0, 0, 0.3));\n",
              "      fill: #FFFFFF;\n",
              "    }\n",
              "  </style>\n",
              "\n",
              "      <script>\n",
              "        const buttonEl =\n",
              "          document.querySelector('#df-042ba8dd-6aeb-4b83-ba8c-e91fc896e35d button.colab-df-convert');\n",
              "        buttonEl.style.display =\n",
              "          google.colab.kernel.accessAllowed ? 'block' : 'none';\n",
              "\n",
              "        async function convertToInteractive(key) {\n",
              "          const element = document.querySelector('#df-042ba8dd-6aeb-4b83-ba8c-e91fc896e35d');\n",
              "          const dataTable =\n",
              "            await google.colab.kernel.invokeFunction('convertToInteractive',\n",
              "                                                     [key], {});\n",
              "          if (!dataTable) return;\n",
              "\n",
              "          const docLinkHtml = 'Like what you see? Visit the ' +\n",
              "            '<a target=\"_blank\" href=https://colab.research.google.com/notebooks/data_table.ipynb>data table notebook</a>'\n",
              "            + ' to learn more about interactive tables.';\n",
              "          element.innerHTML = '';\n",
              "          dataTable['output_type'] = 'display_data';\n",
              "          await google.colab.output.renderOutput(dataTable, element);\n",
              "          const docLink = document.createElement('div');\n",
              "          docLink.innerHTML = docLinkHtml;\n",
              "          element.appendChild(docLink);\n",
              "        }\n",
              "      </script>\n",
              "    </div>\n",
              "  </div>\n",
              "  "
            ],
            "text/plain": [
              "               Metrics     Results\n",
              "0                  ARI  123.424615\n",
              "1  Flesch Reading Ease -128.324231\n",
              "2              Kincaid   95.749231"
            ]
          },
          "metadata": {},
          "execution_count": 96
        }
      ]
    },
    {
      "cell_type": "markdown",
      "source": [
        "==> ARI indicates that the text is 'meaningless'. while the kincaid indicats that the text is readable. Flesch Reading Ease is out of bounds."
      ],
      "metadata": {
        "id": "xIsUiliwkONX"
      }
    },
    {
      "cell_type": "code",
      "source": [
        "corrected_text "
      ],
      "metadata": {
        "colab": {
          "base_uri": "https://localhost:8080/",
          "height": 140
        },
        "id": "UX4NdwfZSWbH",
        "outputId": "bc0e0077-7a49-4991-fec2-a60fddcf684a"
      },
      "execution_count": null,
      "outputs": [
        {
          "output_type": "execute_result",
          "data": {
            "application/vnd.google.colaboratory.intrinsic+json": {
              "type": "string"
            },
            "text/plain": [
              "'I out your time your name I set fire to the rain and I threw us into the flames Well, it felt \" something died \\'cause I knew that that was the last time, the last time so you Why never will At that I met Are the kiss to you the she said to the sun But we were you walk that talk to ten your knees If that\\'s love When your hand it I can I will you to more to you the whole it to turning and the whole to then your eyes that I can\\'t help believe felt a it hadn\\'t been for love is never woulda caught the train to it hasn\\'t gone was just takes me be my bed Turn my last time, the sun My oh an it hurts You can it seems so I miss my way by the Cause there\\'s a then leave the fine to meet To go I well a child who I it hurts You shower me that it look so you heard the that I no tomorrow bed Turn all I miss my you the way you walk that walk and I can hear by the way you talk that talk and I can know by the way you treat your girl that I can give you an us I so shy? Ain\\'t like he\\'s the time Let\\'s go What are so many me to win that when the rumors Bless your so mad that you Seems I don\\'t'"
            ]
          },
          "metadata": {},
          "execution_count": 146
        }
      ]
    },
    {
      "cell_type": "markdown",
      "metadata": {
        "id": "8AlHfTWflo1x"
      },
      "source": [
        "# RNN LSTM units: word based model"
      ]
    },
    {
      "cell_type": "markdown",
      "source": [
        "Unlike char-based model, here we are interested in treating the text on the word-level. We are going to keep the stopwords as usual but eliminate the punctuation."
      ],
      "metadata": {
        "id": "QY0yMBV9Jeoy"
      }
    },
    {
      "cell_type": "code",
      "metadata": {
        "id": "yjtWvwahlz9c"
      },
      "source": [
        "# Import the data\n",
        "adel_path = \"/content/poetry/adele.txt\""
      ],
      "execution_count": null,
      "outputs": []
    },
    {
      "cell_type": "code",
      "source": [
        "def load_text(path):\n",
        "  '''Loading the data from the source'''\n",
        "  train = open(path, 'r')\n",
        "  max_words = 50000 # Max size of the dictionary\n",
        "  tokenizer = Tokenizer(num_words=max_words,  #convert text to sequences consistently\n",
        "      filters='!\"#$%&()*+,-./:;<=>?@[\\\\]^_`{|}~\\t',\n",
        "      lower=True, split=' ', char_level=False)\n",
        "  poetry=[l for l in train]\n",
        "  tokenizer.fit_on_texts(poetry)\n",
        "  sequences = tokenizer.texts_to_sequences(poetry)\n",
        "  # Flatten the list of lists resulting from the tokenization. This will reduce the list\n",
        "  # to one dimension, allowing us to apply the sliding window technique to predict the next word\n",
        "  text = [item for sublist in sequences for item in sublist]\n",
        "  vocab_size = len(tokenizer.word_index)\n",
        "  return tokenizer,text, poetry,sequences,vocab_size\n",
        "\n",
        "\n",
        "def LSTM_data(text):\n",
        "  '''Data preprocessing '''\n",
        "  # Training on 6 words to predict the 7th\n",
        "  sentence_len = 6\n",
        "  pred_len = 1\n",
        "  train_len = sentence_len - pred_len\n",
        "  seq = []\n",
        "  # Sliding window to generate train data\n",
        "  for i in range(len(text)-sentence_len):\n",
        "      seq.append(text[i:i+sentence_len])\n",
        "  # Reverse dictionary to decode tokenized sequences back to words\n",
        "  reverse_word_map = dict(map(reversed, tokenizer.word_index.items()))\n",
        "\n",
        "  # Each row in seq is a 7 word long window. We append he first 6 words as the input to predict the 7th word\n",
        "  trainX = []\n",
        "  trainy = []\n",
        "  for i in seq:\n",
        "      trainX.append(i[:train_len])\n",
        "      trainy.append(i[-1])\n",
        "\n",
        "  return trainX, trainy,train_len,reverse_word_map\n",
        "\n",
        "\n",
        "\n",
        "def LSTM_Architecture(num_unit_1,num_unit_2,num_unit_3,num_unit_4,dropout_rate):\n",
        "  '''Define the model architecture'''\n",
        "  model= Sequential([\n",
        "      Embedding(vocab_size+1, num_unit_1, input_length=train_len),\n",
        "      LSTM(num_unit_2, return_sequences=True),\n",
        "      LSTM(num_unit_3),\n",
        "      Dense(num_unit_4, activation='relu'),\n",
        "      Dropout(dropout_rate),\n",
        "      Dense(vocab_size, activation='softmax')\n",
        "  ])\n",
        "  return model \n",
        "\n",
        "\n",
        "\n",
        "\n",
        "def compile_fit_model(model,num_epoch_, filepath_,optimizer_='adam',loss_='categorical_crossentropy'): \n",
        "  '''Compile and fit the model with checkpoints''' \n",
        "  model.compile(optimizer=optimizer_,\n",
        "                loss=loss_,\n",
        "                metrics=['accuracy'])\n",
        "  # Early stopping allows model to stop training if improvement stops.\n",
        "  es = EarlyStopping(monitor='loss', mode='min', verbose=1, patience=50)\n",
        "  # # Model checkpointing allows us to preserve progress during training if training is interrupted\n",
        "  checkpoint = ModelCheckpoint(filepath_, monitor='loss', verbose=1, save_best_only=True, mode='min')\n",
        "  callbacks_list = [checkpoint,es]\n",
        "  history = model.fit(np.asarray(trainX),\n",
        "            pd.get_dummies(np.asarray(trainy)),\n",
        "            epochs = num_epoch_,\n",
        "            batch_size = 128,\n",
        "            callbacks = callbacks_list,\n",
        "            verbose = 1)\n",
        "  return history\n",
        "\n",
        "\n",
        "def gen(model,seq,reverse_word_map,max_len = 50):\n",
        "    ''' Generates a sequence given a string seq using specified model until the total sequence length\n",
        "        reaches max_len'''\n",
        "    # Tokenize the input string\n",
        "    tokenized_sent = tokenizer.texts_to_sequences([seq])\n",
        "    max_len = max_len + len(tokenized_sent[0])\n",
        "    # If sentence is not as long as the desired sentence length, we need to 'pad sequence' so that\n",
        "    # the array input shape is correct going into our LSTM. the `pad_sequences` function adds \n",
        "    # zeroes to the left side of our sequence until it becomes long enough, as the number of input features.\n",
        "    while len(tokenized_sent[0]) < max_len:\n",
        "        padded_sentence = pad_sequences(tokenized_sent[-max_len:],maxlen=max_len)\n",
        "        op = model.predict(np.asarray(padded_sentence).reshape(1,-1))\n",
        "        tokenized_sent[0].append(op.argmax()+1)\n",
        "        \n",
        "    return \" \".join(map(lambda x : reverse_word_map[x],tokenized_sent[0]))\n",
        "\n",
        "\n",
        "def test_models(test_string, model,reverse_word_map,sequence_length= 50):\n",
        "    '''Generates output given input test_string up to sequence_length'''\n",
        "    #print('Input String: ', test_string)\n",
        "    prediction = gen(model,test_string,reverse_word_map,sequence_length)\n",
        "    return prediction\n"
      ],
      "metadata": {
        "id": "5J8FwkWSPHFf"
      },
      "execution_count": null,
      "outputs": []
    },
    {
      "cell_type": "code",
      "source": [
        "tokenizer,text, poetry,sequences,vocab_size= load_text(adel_path)"
      ],
      "metadata": {
        "id": "rJlEhuQXMtbN"
      },
      "execution_count": null,
      "outputs": []
    },
    {
      "cell_type": "code",
      "source": [
        "print('Vocabulary size in this corpus: ', vocab_size)"
      ],
      "metadata": {
        "colab": {
          "base_uri": "https://localhost:8080/"
        },
        "id": "fSt38ZhcnbPT",
        "outputId": "ac8ee2e0-f9b1-4e68-e877-051ace36194e"
      },
      "execution_count": null,
      "outputs": [
        {
          "output_type": "stream",
          "name": "stdout",
          "text": [
            "Vocabulary size in this corpus:  1733\n"
          ]
        }
      ]
    },
    {
      "cell_type": "code",
      "source": [
        "trainX, trainy,train_len,reverse_word_map = LSTM_data(text)"
      ],
      "metadata": {
        "id": "TH4J6xPcMHaT"
      },
      "execution_count": null,
      "outputs": []
    },
    {
      "cell_type": "code",
      "source": [
        "model_2 = LSTM_Architecture(50, 100 ,100, 100, 0.1)"
      ],
      "metadata": {
        "id": "t4OxshI1Lxmf"
      },
      "execution_count": null,
      "outputs": []
    },
    {
      "cell_type": "code",
      "metadata": {
        "colab": {
          "base_uri": "https://localhost:8080/"
        },
        "id": "mkjtaFZDwktO",
        "outputId": "c03782dc-8ba5-473a-af1a-82a6bdf96da6"
      },
      "source": [
        "model_2.summary()"
      ],
      "execution_count": null,
      "outputs": [
        {
          "output_type": "stream",
          "name": "stdout",
          "text": [
            "Model: \"sequential_1\"\n",
            "_________________________________________________________________\n",
            " Layer (type)                Output Shape              Param #   \n",
            "=================================================================\n",
            " embedding (Embedding)       (None, 5, 50)             86700     \n",
            "                                                                 \n",
            " lstm_1 (LSTM)               (None, 5, 100)            60400     \n",
            "                                                                 \n",
            " lstm_2 (LSTM)               (None, 100)               80400     \n",
            "                                                                 \n",
            " dense_1 (Dense)             (None, 100)               10100     \n",
            "                                                                 \n",
            " dropout_1 (Dropout)         (None, 100)               0         \n",
            "                                                                 \n",
            " dense_2 (Dense)             (None, 1733)              175033    \n",
            "                                                                 \n",
            "=================================================================\n",
            "Total params: 412,633\n",
            "Trainable params: 412,633\n",
            "Non-trainable params: 0\n",
            "_________________________________________________________________\n"
          ]
        }
      ]
    },
    {
      "cell_type": "code",
      "metadata": {
        "colab": {
          "base_uri": "https://localhost:8080/"
        },
        "id": "J3qDeOw2xvGf",
        "outputId": "203ffb25-8e0d-4021-dacd-66d25164e5df"
      },
      "source": [
        " filepath_ = \"./model_2_weights.hdf5\"\n",
        " compile_fit_model(model_2,40, filepath_ ,optimizer_='adam',loss_='categorical_crossentropy')"
      ],
      "execution_count": null,
      "outputs": [
        {
          "output_type": "stream",
          "name": "stdout",
          "text": [
            "Epoch 1/40\n",
            "150/151 [============================>.] - ETA: 0s - loss: 6.2358 - accuracy: 0.0447\n",
            "Epoch 1: loss improved from inf to 6.23604, saving model to ./model_2_weights.hdf5\n",
            "151/151 [==============================] - 10s 38ms/step - loss: 6.2360 - accuracy: 0.0446\n",
            "Epoch 2/40\n",
            "150/151 [============================>.] - ETA: 0s - loss: 5.8552 - accuracy: 0.0473\n",
            "Epoch 2: loss improved from 6.23604 to 5.85596, saving model to ./model_2_weights.hdf5\n",
            "151/151 [==============================] - 6s 38ms/step - loss: 5.8560 - accuracy: 0.0474\n",
            "Epoch 3/40\n",
            "150/151 [============================>.] - ETA: 0s - loss: 5.8294 - accuracy: 0.0477\n",
            "Epoch 3: loss improved from 5.85596 to 5.83108, saving model to ./model_2_weights.hdf5\n",
            "151/151 [==============================] - 6s 38ms/step - loss: 5.8311 - accuracy: 0.0477\n",
            "Epoch 4/40\n",
            "150/151 [============================>.] - ETA: 0s - loss: 5.8086 - accuracy: 0.0471\n",
            "Epoch 4: loss improved from 5.83108 to 5.80853, saving model to ./model_2_weights.hdf5\n",
            "151/151 [==============================] - 6s 38ms/step - loss: 5.8085 - accuracy: 0.0472\n",
            "Epoch 5/40\n",
            "150/151 [============================>.] - ETA: 0s - loss: 5.7149 - accuracy: 0.0473\n",
            "Epoch 5: loss improved from 5.80853 to 5.71504, saving model to ./model_2_weights.hdf5\n",
            "151/151 [==============================] - 6s 38ms/step - loss: 5.7150 - accuracy: 0.0473\n",
            "Epoch 6/40\n",
            "151/151 [==============================] - ETA: 0s - loss: 5.5666 - accuracy: 0.0475\n",
            "Epoch 6: loss improved from 5.71504 to 5.56664, saving model to ./model_2_weights.hdf5\n",
            "151/151 [==============================] - 6s 38ms/step - loss: 5.5666 - accuracy: 0.0475\n",
            "Epoch 7/40\n",
            "151/151 [==============================] - ETA: 0s - loss: 5.3537 - accuracy: 0.0544\n",
            "Epoch 7: loss improved from 5.56664 to 5.35374, saving model to ./model_2_weights.hdf5\n",
            "151/151 [==============================] - 6s 38ms/step - loss: 5.3537 - accuracy: 0.0544\n",
            "Epoch 8/40\n",
            "151/151 [==============================] - ETA: 0s - loss: 5.1625 - accuracy: 0.0592\n",
            "Epoch 8: loss improved from 5.35374 to 5.16255, saving model to ./model_2_weights.hdf5\n",
            "151/151 [==============================] - 6s 38ms/step - loss: 5.1625 - accuracy: 0.0592\n",
            "Epoch 9/40\n",
            "151/151 [==============================] - ETA: 0s - loss: 4.9831 - accuracy: 0.0662\n",
            "Epoch 9: loss improved from 5.16255 to 4.98312, saving model to ./model_2_weights.hdf5\n",
            "151/151 [==============================] - 6s 38ms/step - loss: 4.9831 - accuracy: 0.0662\n",
            "Epoch 10/40\n",
            "151/151 [==============================] - ETA: 0s - loss: 4.8057 - accuracy: 0.0774\n",
            "Epoch 10: loss improved from 4.98312 to 4.80571, saving model to ./model_2_weights.hdf5\n",
            "151/151 [==============================] - 6s 38ms/step - loss: 4.8057 - accuracy: 0.0774\n",
            "Epoch 11/40\n",
            "151/151 [==============================] - ETA: 0s - loss: 4.6401 - accuracy: 0.0950\n",
            "Epoch 11: loss improved from 4.80571 to 4.64012, saving model to ./model_2_weights.hdf5\n",
            "151/151 [==============================] - 6s 38ms/step - loss: 4.6401 - accuracy: 0.0950\n",
            "Epoch 12/40\n",
            "151/151 [==============================] - ETA: 0s - loss: 4.4864 - accuracy: 0.1053\n",
            "Epoch 12: loss improved from 4.64012 to 4.48644, saving model to ./model_2_weights.hdf5\n",
            "151/151 [==============================] - 6s 38ms/step - loss: 4.4864 - accuracy: 0.1053\n",
            "Epoch 13/40\n",
            "150/151 [============================>.] - ETA: 0s - loss: 4.3412 - accuracy: 0.1209\n",
            "Epoch 13: loss improved from 4.48644 to 4.34104, saving model to ./model_2_weights.hdf5\n",
            "151/151 [==============================] - 6s 38ms/step - loss: 4.3410 - accuracy: 0.1210\n",
            "Epoch 14/40\n",
            "150/151 [============================>.] - ETA: 0s - loss: 4.1893 - accuracy: 0.1404\n",
            "Epoch 14: loss improved from 4.34104 to 4.18791, saving model to ./model_2_weights.hdf5\n",
            "151/151 [==============================] - 6s 39ms/step - loss: 4.1879 - accuracy: 0.1404\n",
            "Epoch 15/40\n",
            "150/151 [============================>.] - ETA: 0s - loss: 4.0356 - accuracy: 0.1591\n",
            "Epoch 15: loss improved from 4.18791 to 4.03455, saving model to ./model_2_weights.hdf5\n",
            "151/151 [==============================] - 6s 38ms/step - loss: 4.0346 - accuracy: 0.1594\n",
            "Epoch 16/40\n",
            "151/151 [==============================] - ETA: 0s - loss: 3.8774 - accuracy: 0.1795\n",
            "Epoch 16: loss improved from 4.03455 to 3.87741, saving model to ./model_2_weights.hdf5\n",
            "151/151 [==============================] - 6s 38ms/step - loss: 3.8774 - accuracy: 0.1795\n",
            "Epoch 17/40\n",
            "150/151 [============================>.] - ETA: 0s - loss: 3.7313 - accuracy: 0.1985\n",
            "Epoch 17: loss improved from 3.87741 to 3.73247, saving model to ./model_2_weights.hdf5\n",
            "151/151 [==============================] - 6s 38ms/step - loss: 3.7325 - accuracy: 0.1984\n",
            "Epoch 18/40\n",
            "150/151 [============================>.] - ETA: 0s - loss: 3.5803 - accuracy: 0.2214\n",
            "Epoch 18: loss improved from 3.73247 to 3.58002, saving model to ./model_2_weights.hdf5\n",
            "151/151 [==============================] - 6s 38ms/step - loss: 3.5800 - accuracy: 0.2217\n",
            "Epoch 19/40\n",
            "150/151 [============================>.] - ETA: 0s - loss: 3.4267 - accuracy: 0.2510\n",
            "Epoch 19: loss improved from 3.58002 to 3.42866, saving model to ./model_2_weights.hdf5\n",
            "151/151 [==============================] - 6s 38ms/step - loss: 3.4287 - accuracy: 0.2512\n",
            "Epoch 20/40\n",
            "151/151 [==============================] - ETA: 0s - loss: 3.2860 - accuracy: 0.2748\n",
            "Epoch 20: loss improved from 3.42866 to 3.28600, saving model to ./model_2_weights.hdf5\n",
            "151/151 [==============================] - 6s 38ms/step - loss: 3.2860 - accuracy: 0.2748\n",
            "Epoch 21/40\n",
            "151/151 [==============================] - ETA: 0s - loss: 3.1443 - accuracy: 0.2987\n",
            "Epoch 21: loss improved from 3.28600 to 3.14431, saving model to ./model_2_weights.hdf5\n",
            "151/151 [==============================] - 6s 39ms/step - loss: 3.1443 - accuracy: 0.2987\n",
            "Epoch 22/40\n",
            "151/151 [==============================] - ETA: 0s - loss: 3.0168 - accuracy: 0.3237\n",
            "Epoch 22: loss improved from 3.14431 to 3.01682, saving model to ./model_2_weights.hdf5\n",
            "151/151 [==============================] - 6s 38ms/step - loss: 3.0168 - accuracy: 0.3237\n",
            "Epoch 23/40\n",
            "151/151 [==============================] - ETA: 0s - loss: 2.8906 - accuracy: 0.3421\n",
            "Epoch 23: loss improved from 3.01682 to 2.89060, saving model to ./model_2_weights.hdf5\n",
            "151/151 [==============================] - 6s 38ms/step - loss: 2.8906 - accuracy: 0.3421\n",
            "Epoch 24/40\n",
            "151/151 [==============================] - ETA: 0s - loss: 2.7700 - accuracy: 0.3649\n",
            "Epoch 24: loss improved from 2.89060 to 2.77000, saving model to ./model_2_weights.hdf5\n",
            "151/151 [==============================] - 6s 38ms/step - loss: 2.7700 - accuracy: 0.3649\n",
            "Epoch 25/40\n",
            "151/151 [==============================] - ETA: 0s - loss: 2.6395 - accuracy: 0.3911\n",
            "Epoch 25: loss improved from 2.77000 to 2.63948, saving model to ./model_2_weights.hdf5\n",
            "151/151 [==============================] - 6s 38ms/step - loss: 2.6395 - accuracy: 0.3911\n",
            "Epoch 26/40\n",
            "151/151 [==============================] - ETA: 0s - loss: 2.5438 - accuracy: 0.4048\n",
            "Epoch 26: loss improved from 2.63948 to 2.54378, saving model to ./model_2_weights.hdf5\n",
            "151/151 [==============================] - 6s 38ms/step - loss: 2.5438 - accuracy: 0.4048\n",
            "Epoch 27/40\n",
            "150/151 [============================>.] - ETA: 0s - loss: 2.4306 - accuracy: 0.4320\n",
            "Epoch 27: loss improved from 2.54378 to 2.43097, saving model to ./model_2_weights.hdf5\n",
            "151/151 [==============================] - 6s 38ms/step - loss: 2.4310 - accuracy: 0.4317\n",
            "Epoch 28/40\n",
            "151/151 [==============================] - ETA: 0s - loss: 2.3336 - accuracy: 0.4490\n",
            "Epoch 28: loss improved from 2.43097 to 2.33357, saving model to ./model_2_weights.hdf5\n",
            "151/151 [==============================] - 6s 38ms/step - loss: 2.3336 - accuracy: 0.4490\n",
            "Epoch 29/40\n",
            "151/151 [==============================] - ETA: 0s - loss: 2.2423 - accuracy: 0.4679\n",
            "Epoch 29: loss improved from 2.33357 to 2.24231, saving model to ./model_2_weights.hdf5\n",
            "151/151 [==============================] - 6s 39ms/step - loss: 2.2423 - accuracy: 0.4679\n",
            "Epoch 30/40\n",
            "150/151 [============================>.] - ETA: 0s - loss: 2.1649 - accuracy: 0.4821\n",
            "Epoch 30: loss improved from 2.24231 to 2.16517, saving model to ./model_2_weights.hdf5\n",
            "151/151 [==============================] - 6s 42ms/step - loss: 2.1652 - accuracy: 0.4821\n",
            "Epoch 31/40\n",
            "150/151 [============================>.] - ETA: 0s - loss: 2.0855 - accuracy: 0.5019\n",
            "Epoch 31: loss improved from 2.16517 to 2.08525, saving model to ./model_2_weights.hdf5\n",
            "151/151 [==============================] - 7s 47ms/step - loss: 2.0853 - accuracy: 0.5021\n",
            "Epoch 32/40\n",
            "151/151 [==============================] - ETA: 0s - loss: 2.0052 - accuracy: 0.5196\n",
            "Epoch 32: loss improved from 2.08525 to 2.00524, saving model to ./model_2_weights.hdf5\n",
            "151/151 [==============================] - 6s 39ms/step - loss: 2.0052 - accuracy: 0.5196\n",
            "Epoch 33/40\n",
            "150/151 [============================>.] - ETA: 0s - loss: 1.9312 - accuracy: 0.5356\n",
            "Epoch 33: loss improved from 2.00524 to 1.93008, saving model to ./model_2_weights.hdf5\n",
            "151/151 [==============================] - 6s 38ms/step - loss: 1.9301 - accuracy: 0.5359\n",
            "Epoch 34/40\n",
            "150/151 [============================>.] - ETA: 0s - loss: 1.8567 - accuracy: 0.5497\n",
            "Epoch 34: loss improved from 1.93008 to 1.85787, saving model to ./model_2_weights.hdf5\n",
            "151/151 [==============================] - 6s 38ms/step - loss: 1.8579 - accuracy: 0.5497\n",
            "Epoch 35/40\n",
            "150/151 [============================>.] - ETA: 0s - loss: 1.8021 - accuracy: 0.5606\n",
            "Epoch 35: loss improved from 1.85787 to 1.80248, saving model to ./model_2_weights.hdf5\n",
            "151/151 [==============================] - 6s 38ms/step - loss: 1.8025 - accuracy: 0.5604\n",
            "Epoch 36/40\n",
            "151/151 [==============================] - ETA: 0s - loss: 1.7397 - accuracy: 0.5752\n",
            "Epoch 36: loss improved from 1.80248 to 1.73972, saving model to ./model_2_weights.hdf5\n",
            "151/151 [==============================] - 6s 38ms/step - loss: 1.7397 - accuracy: 0.5752\n",
            "Epoch 37/40\n",
            "151/151 [==============================] - ETA: 0s - loss: 1.6836 - accuracy: 0.5890\n",
            "Epoch 37: loss improved from 1.73972 to 1.68363, saving model to ./model_2_weights.hdf5\n",
            "151/151 [==============================] - 6s 38ms/step - loss: 1.6836 - accuracy: 0.5890\n",
            "Epoch 38/40\n",
            "150/151 [============================>.] - ETA: 0s - loss: 1.6158 - accuracy: 0.6033\n",
            "Epoch 38: loss improved from 1.68363 to 1.61613, saving model to ./model_2_weights.hdf5\n",
            "151/151 [==============================] - 6s 38ms/step - loss: 1.6161 - accuracy: 0.6032\n",
            "Epoch 39/40\n",
            "150/151 [============================>.] - ETA: 0s - loss: 1.5616 - accuracy: 0.6147\n",
            "Epoch 39: loss improved from 1.61613 to 1.56236, saving model to ./model_2_weights.hdf5\n",
            "151/151 [==============================] - 6s 38ms/step - loss: 1.5624 - accuracy: 0.6147\n",
            "Epoch 40/40\n",
            "151/151 [==============================] - ETA: 0s - loss: 1.5149 - accuracy: 0.6252\n",
            "Epoch 40: loss improved from 1.56236 to 1.51486, saving model to ./model_2_weights.hdf5\n",
            "151/151 [==============================] - 6s 38ms/step - loss: 1.5149 - accuracy: 0.6252\n"
          ]
        },
        {
          "output_type": "execute_result",
          "data": {
            "text/plain": [
              "<keras.callbacks.History at 0x7fb7596b3c50>"
            ]
          },
          "metadata": {},
          "execution_count": 105
        }
      ]
    },
    {
      "cell_type": "markdown",
      "metadata": {
        "id": "jxFm39JmyqzJ"
      },
      "source": [
        "# Testing the generation models"
      ]
    },
    {
      "cell_type": "markdown",
      "metadata": {
        "id": "TSb1PTEy6seA"
      },
      "source": [
        "With training complete, we now have a model that can generate text. However, we need to give it a starting point. To do this, we write a function that takes a string input from the testing file, tokenizes it, then pads it with zeroes so it fits into our 6 long prediction window."
      ]
    },
    {
      "cell_type": "code",
      "metadata": {
        "colab": {
          "base_uri": "https://localhost:8080/",
          "height": 53
        },
        "id": "M64_6-85TiAl",
        "outputId": "6ce9523c-998f-4dcd-b021-ecb8a2e16a3c"
      },
      "source": [
        "LSTM_word_based_text_1 = test_models('I was wondering if after all these',model_2,reverse_word_map,50)\n",
        "LSTM_word_based_text_1"
      ],
      "execution_count": null,
      "outputs": [
        {
          "output_type": "execute_result",
          "data": {
            "application/vnd.google.colaboratory.intrinsic+json": {
              "type": "string"
            },
            "text/plain": [
              "\"i was wondering if after all these so so so so for so so for sell it so so so so so so so so so so so so so so yeah yeah yeah yeah yeah yeah yeah yeah yeah yeah yeah yeah yeah so so so so i'll so so i'll i'll \\n i'll i'll i'll\""
            ]
          },
          "metadata": {},
          "execution_count": 111
        }
      ]
    },
    {
      "cell_type": "code",
      "source": [
        "get_readability_index(LSTM_word_based_text_1)"
      ],
      "metadata": {
        "colab": {
          "base_uri": "https://localhost:8080/",
          "height": 143
        },
        "id": "aDODZHQPKu_J",
        "outputId": "8beeca95-d879-45da-85f9-13dca819f449"
      },
      "execution_count": null,
      "outputs": [
        {
          "output_type": "execute_result",
          "data": {
            "text/html": [
              "\n",
              "  <div id=\"df-c8594457-e26b-491a-8eb5-473bd9b037da\">\n",
              "    <div class=\"colab-df-container\">\n",
              "      <div>\n",
              "<style scoped>\n",
              "    .dataframe tbody tr th:only-of-type {\n",
              "        vertical-align: middle;\n",
              "    }\n",
              "\n",
              "    .dataframe tbody tr th {\n",
              "        vertical-align: top;\n",
              "    }\n",
              "\n",
              "    .dataframe thead th {\n",
              "        text-align: right;\n",
              "    }\n",
              "</style>\n",
              "<table border=\"1\" class=\"dataframe\">\n",
              "  <thead>\n",
              "    <tr style=\"text-align: right;\">\n",
              "      <th></th>\n",
              "      <th>Metrics</th>\n",
              "      <th>Results</th>\n",
              "    </tr>\n",
              "  </thead>\n",
              "  <tbody>\n",
              "    <tr>\n",
              "      <th>0</th>\n",
              "      <td>ARI</td>\n",
              "      <td>6.376774</td>\n",
              "    </tr>\n",
              "    <tr>\n",
              "      <th>1</th>\n",
              "      <td>Flesch Reading Ease</td>\n",
              "      <td>94.863548</td>\n",
              "    </tr>\n",
              "    <tr>\n",
              "      <th>2</th>\n",
              "      <td>Kincaid</td>\n",
              "      <td>7.729032</td>\n",
              "    </tr>\n",
              "  </tbody>\n",
              "</table>\n",
              "</div>\n",
              "      <button class=\"colab-df-convert\" onclick=\"convertToInteractive('df-c8594457-e26b-491a-8eb5-473bd9b037da')\"\n",
              "              title=\"Convert this dataframe to an interactive table.\"\n",
              "              style=\"display:none;\">\n",
              "        \n",
              "  <svg xmlns=\"http://www.w3.org/2000/svg\" height=\"24px\"viewBox=\"0 0 24 24\"\n",
              "       width=\"24px\">\n",
              "    <path d=\"M0 0h24v24H0V0z\" fill=\"none\"/>\n",
              "    <path d=\"M18.56 5.44l.94 2.06.94-2.06 2.06-.94-2.06-.94-.94-2.06-.94 2.06-2.06.94zm-11 1L8.5 8.5l.94-2.06 2.06-.94-2.06-.94L8.5 2.5l-.94 2.06-2.06.94zm10 10l.94 2.06.94-2.06 2.06-.94-2.06-.94-.94-2.06-.94 2.06-2.06.94z\"/><path d=\"M17.41 7.96l-1.37-1.37c-.4-.4-.92-.59-1.43-.59-.52 0-1.04.2-1.43.59L10.3 9.45l-7.72 7.72c-.78.78-.78 2.05 0 2.83L4 21.41c.39.39.9.59 1.41.59.51 0 1.02-.2 1.41-.59l7.78-7.78 2.81-2.81c.8-.78.8-2.07 0-2.86zM5.41 20L4 18.59l7.72-7.72 1.47 1.35L5.41 20z\"/>\n",
              "  </svg>\n",
              "      </button>\n",
              "      \n",
              "  <style>\n",
              "    .colab-df-container {\n",
              "      display:flex;\n",
              "      flex-wrap:wrap;\n",
              "      gap: 12px;\n",
              "    }\n",
              "\n",
              "    .colab-df-convert {\n",
              "      background-color: #E8F0FE;\n",
              "      border: none;\n",
              "      border-radius: 50%;\n",
              "      cursor: pointer;\n",
              "      display: none;\n",
              "      fill: #1967D2;\n",
              "      height: 32px;\n",
              "      padding: 0 0 0 0;\n",
              "      width: 32px;\n",
              "    }\n",
              "\n",
              "    .colab-df-convert:hover {\n",
              "      background-color: #E2EBFA;\n",
              "      box-shadow: 0px 1px 2px rgba(60, 64, 67, 0.3), 0px 1px 3px 1px rgba(60, 64, 67, 0.15);\n",
              "      fill: #174EA6;\n",
              "    }\n",
              "\n",
              "    [theme=dark] .colab-df-convert {\n",
              "      background-color: #3B4455;\n",
              "      fill: #D2E3FC;\n",
              "    }\n",
              "\n",
              "    [theme=dark] .colab-df-convert:hover {\n",
              "      background-color: #434B5C;\n",
              "      box-shadow: 0px 1px 3px 1px rgba(0, 0, 0, 0.15);\n",
              "      filter: drop-shadow(0px 1px 2px rgba(0, 0, 0, 0.3));\n",
              "      fill: #FFFFFF;\n",
              "    }\n",
              "  </style>\n",
              "\n",
              "      <script>\n",
              "        const buttonEl =\n",
              "          document.querySelector('#df-c8594457-e26b-491a-8eb5-473bd9b037da button.colab-df-convert');\n",
              "        buttonEl.style.display =\n",
              "          google.colab.kernel.accessAllowed ? 'block' : 'none';\n",
              "\n",
              "        async function convertToInteractive(key) {\n",
              "          const element = document.querySelector('#df-c8594457-e26b-491a-8eb5-473bd9b037da');\n",
              "          const dataTable =\n",
              "            await google.colab.kernel.invokeFunction('convertToInteractive',\n",
              "                                                     [key], {});\n",
              "          if (!dataTable) return;\n",
              "\n",
              "          const docLinkHtml = 'Like what you see? Visit the ' +\n",
              "            '<a target=\"_blank\" href=https://colab.research.google.com/notebooks/data_table.ipynb>data table notebook</a>'\n",
              "            + ' to learn more about interactive tables.';\n",
              "          element.innerHTML = '';\n",
              "          dataTable['output_type'] = 'display_data';\n",
              "          await google.colab.output.renderOutput(dataTable, element);\n",
              "          const docLink = document.createElement('div');\n",
              "          docLink.innerHTML = docLinkHtml;\n",
              "          element.appendChild(docLink);\n",
              "        }\n",
              "      </script>\n",
              "    </div>\n",
              "  </div>\n",
              "  "
            ],
            "text/plain": [
              "               Metrics    Results\n",
              "0                  ARI   6.376774\n",
              "1  Flesch Reading Ease  94.863548\n",
              "2              Kincaid   7.729032"
            ]
          },
          "metadata": {},
          "execution_count": 112
        }
      ]
    },
    {
      "cell_type": "code",
      "metadata": {
        "colab": {
          "base_uri": "https://localhost:8080/"
        },
        "id": "JCW14qqMUC6q",
        "outputId": "3b13d05b-fe2e-44ad-f05d-e303f3c1e353"
      },
      "source": [
        "LSTM_word_based_text= test_models('Hello from the other side',model_2,reverse_word_map,5)\n",
        "print(LSTM_word_based_text)"
      ],
      "execution_count": null,
      "outputs": [
        {
          "output_type": "stream",
          "name": "stdout",
          "text": [
            "hello from the other side against the ups it\n",
            " the\n"
          ]
        }
      ]
    },
    {
      "cell_type": "code",
      "source": [
        "get_readability_index(LSTM_word_based_text)"
      ],
      "metadata": {
        "colab": {
          "base_uri": "https://localhost:8080/",
          "height": 143
        },
        "id": "qo_8XgcXKVHN",
        "outputId": "3cdc5b65-003d-4e45-cc9a-a47b1061fb5c"
      },
      "execution_count": null,
      "outputs": [
        {
          "output_type": "execute_result",
          "data": {
            "text/html": [
              "\n",
              "  <div id=\"df-c85736db-2d8e-46e5-ae27-f71d1c77fc44\">\n",
              "    <div class=\"colab-df-container\">\n",
              "      <div>\n",
              "<style scoped>\n",
              "    .dataframe tbody tr th:only-of-type {\n",
              "        vertical-align: middle;\n",
              "    }\n",
              "\n",
              "    .dataframe tbody tr th {\n",
              "        vertical-align: top;\n",
              "    }\n",
              "\n",
              "    .dataframe thead th {\n",
              "        text-align: right;\n",
              "    }\n",
              "</style>\n",
              "<table border=\"1\" class=\"dataframe\">\n",
              "  <thead>\n",
              "    <tr style=\"text-align: right;\">\n",
              "      <th></th>\n",
              "      <th>Metrics</th>\n",
              "      <th>Results</th>\n",
              "    </tr>\n",
              "  </thead>\n",
              "  <tbody>\n",
              "    <tr>\n",
              "      <th>0</th>\n",
              "      <td>ARI</td>\n",
              "      <td>-0.561</td>\n",
              "    </tr>\n",
              "    <tr>\n",
              "      <th>1</th>\n",
              "      <td>Flesch Reading Ease</td>\n",
              "      <td>117.160</td>\n",
              "    </tr>\n",
              "    <tr>\n",
              "      <th>2</th>\n",
              "      <td>Kincaid</td>\n",
              "      <td>-1.840</td>\n",
              "    </tr>\n",
              "  </tbody>\n",
              "</table>\n",
              "</div>\n",
              "      <button class=\"colab-df-convert\" onclick=\"convertToInteractive('df-c85736db-2d8e-46e5-ae27-f71d1c77fc44')\"\n",
              "              title=\"Convert this dataframe to an interactive table.\"\n",
              "              style=\"display:none;\">\n",
              "        \n",
              "  <svg xmlns=\"http://www.w3.org/2000/svg\" height=\"24px\"viewBox=\"0 0 24 24\"\n",
              "       width=\"24px\">\n",
              "    <path d=\"M0 0h24v24H0V0z\" fill=\"none\"/>\n",
              "    <path d=\"M18.56 5.44l.94 2.06.94-2.06 2.06-.94-2.06-.94-.94-2.06-.94 2.06-2.06.94zm-11 1L8.5 8.5l.94-2.06 2.06-.94-2.06-.94L8.5 2.5l-.94 2.06-2.06.94zm10 10l.94 2.06.94-2.06 2.06-.94-2.06-.94-.94-2.06-.94 2.06-2.06.94z\"/><path d=\"M17.41 7.96l-1.37-1.37c-.4-.4-.92-.59-1.43-.59-.52 0-1.04.2-1.43.59L10.3 9.45l-7.72 7.72c-.78.78-.78 2.05 0 2.83L4 21.41c.39.39.9.59 1.41.59.51 0 1.02-.2 1.41-.59l7.78-7.78 2.81-2.81c.8-.78.8-2.07 0-2.86zM5.41 20L4 18.59l7.72-7.72 1.47 1.35L5.41 20z\"/>\n",
              "  </svg>\n",
              "      </button>\n",
              "      \n",
              "  <style>\n",
              "    .colab-df-container {\n",
              "      display:flex;\n",
              "      flex-wrap:wrap;\n",
              "      gap: 12px;\n",
              "    }\n",
              "\n",
              "    .colab-df-convert {\n",
              "      background-color: #E8F0FE;\n",
              "      border: none;\n",
              "      border-radius: 50%;\n",
              "      cursor: pointer;\n",
              "      display: none;\n",
              "      fill: #1967D2;\n",
              "      height: 32px;\n",
              "      padding: 0 0 0 0;\n",
              "      width: 32px;\n",
              "    }\n",
              "\n",
              "    .colab-df-convert:hover {\n",
              "      background-color: #E2EBFA;\n",
              "      box-shadow: 0px 1px 2px rgba(60, 64, 67, 0.3), 0px 1px 3px 1px rgba(60, 64, 67, 0.15);\n",
              "      fill: #174EA6;\n",
              "    }\n",
              "\n",
              "    [theme=dark] .colab-df-convert {\n",
              "      background-color: #3B4455;\n",
              "      fill: #D2E3FC;\n",
              "    }\n",
              "\n",
              "    [theme=dark] .colab-df-convert:hover {\n",
              "      background-color: #434B5C;\n",
              "      box-shadow: 0px 1px 3px 1px rgba(0, 0, 0, 0.15);\n",
              "      filter: drop-shadow(0px 1px 2px rgba(0, 0, 0, 0.3));\n",
              "      fill: #FFFFFF;\n",
              "    }\n",
              "  </style>\n",
              "\n",
              "      <script>\n",
              "        const buttonEl =\n",
              "          document.querySelector('#df-c85736db-2d8e-46e5-ae27-f71d1c77fc44 button.colab-df-convert');\n",
              "        buttonEl.style.display =\n",
              "          google.colab.kernel.accessAllowed ? 'block' : 'none';\n",
              "\n",
              "        async function convertToInteractive(key) {\n",
              "          const element = document.querySelector('#df-c85736db-2d8e-46e5-ae27-f71d1c77fc44');\n",
              "          const dataTable =\n",
              "            await google.colab.kernel.invokeFunction('convertToInteractive',\n",
              "                                                     [key], {});\n",
              "          if (!dataTable) return;\n",
              "\n",
              "          const docLinkHtml = 'Like what you see? Visit the ' +\n",
              "            '<a target=\"_blank\" href=https://colab.research.google.com/notebooks/data_table.ipynb>data table notebook</a>'\n",
              "            + ' to learn more about interactive tables.';\n",
              "          element.innerHTML = '';\n",
              "          dataTable['output_type'] = 'display_data';\n",
              "          await google.colab.output.renderOutput(dataTable, element);\n",
              "          const docLink = document.createElement('div');\n",
              "          docLink.innerHTML = docLinkHtml;\n",
              "          element.appendChild(docLink);\n",
              "        }\n",
              "      </script>\n",
              "    </div>\n",
              "  </div>\n",
              "  "
            ],
            "text/plain": [
              "               Metrics  Results\n",
              "0                  ARI   -0.561\n",
              "1  Flesch Reading Ease  117.160\n",
              "2              Kincaid   -1.840"
            ]
          },
          "metadata": {},
          "execution_count": 114
        }
      ]
    },
    {
      "cell_type": "markdown",
      "source": [
        "# LSTM word-based model with RMSprop "
      ],
      "metadata": {
        "id": "MossombV2n4b"
      }
    },
    {
      "cell_type": "code",
      "source": [
        " filepath_ = \"./model_2_rm_weights.hdf5\"\n",
        " compile_fit_model(model_2,40, filepath_ ,optimizer_='RMSprop',loss_='categorical_crossentropy')"
      ],
      "metadata": {
        "colab": {
          "base_uri": "https://localhost:8080/"
        },
        "id": "xD4Qm48z2s3H",
        "outputId": "26410751-9158-4634-95e5-120d3a9d7832"
      },
      "execution_count": null,
      "outputs": [
        {
          "output_type": "stream",
          "name": "stdout",
          "text": [
            "Epoch 1/40\n",
            "150/151 [============================>.] - ETA: 0s - loss: 1.4946 - accuracy: 0.6337\n",
            "Epoch 1: loss improved from inf to 1.49458, saving model to ./model_2_rm_weights.hdf5\n",
            "151/151 [==============================] - 10s 39ms/step - loss: 1.4946 - accuracy: 0.6337\n",
            "Epoch 2/40\n",
            "150/151 [============================>.] - ETA: 0s - loss: 1.4227 - accuracy: 0.6510\n",
            "Epoch 2: loss improved from 1.49458 to 1.42293, saving model to ./model_2_rm_weights.hdf5\n",
            "151/151 [==============================] - 6s 39ms/step - loss: 1.4229 - accuracy: 0.6510\n",
            "Epoch 3/40\n",
            "150/151 [============================>.] - ETA: 0s - loss: 1.3873 - accuracy: 0.6582\n",
            "Epoch 3: loss improved from 1.42293 to 1.38617, saving model to ./model_2_rm_weights.hdf5\n",
            "151/151 [==============================] - 6s 39ms/step - loss: 1.3862 - accuracy: 0.6586\n",
            "Epoch 4/40\n",
            "151/151 [==============================] - ETA: 0s - loss: 1.3592 - accuracy: 0.6668\n",
            "Epoch 4: loss improved from 1.38617 to 1.35920, saving model to ./model_2_rm_weights.hdf5\n",
            "151/151 [==============================] - 6s 39ms/step - loss: 1.3592 - accuracy: 0.6668\n",
            "Epoch 5/40\n",
            "150/151 [============================>.] - ETA: 0s - loss: 1.3154 - accuracy: 0.6792\n",
            "Epoch 5: loss improved from 1.35920 to 1.31668, saving model to ./model_2_rm_weights.hdf5\n",
            "151/151 [==============================] - 6s 38ms/step - loss: 1.3167 - accuracy: 0.6792\n",
            "Epoch 6/40\n",
            "151/151 [==============================] - ETA: 0s - loss: 1.2926 - accuracy: 0.6778\n",
            "Epoch 6: loss improved from 1.31668 to 1.29261, saving model to ./model_2_rm_weights.hdf5\n",
            "151/151 [==============================] - 6s 39ms/step - loss: 1.2926 - accuracy: 0.6778\n",
            "Epoch 7/40\n",
            "151/151 [==============================] - ETA: 0s - loss: 1.2626 - accuracy: 0.6892\n",
            "Epoch 7: loss improved from 1.29261 to 1.26256, saving model to ./model_2_rm_weights.hdf5\n",
            "151/151 [==============================] - 6s 38ms/step - loss: 1.2626 - accuracy: 0.6892\n",
            "Epoch 8/40\n",
            "151/151 [==============================] - ETA: 0s - loss: 1.2414 - accuracy: 0.6919\n",
            "Epoch 8: loss improved from 1.26256 to 1.24137, saving model to ./model_2_rm_weights.hdf5\n",
            "151/151 [==============================] - 6s 39ms/step - loss: 1.2414 - accuracy: 0.6919\n",
            "Epoch 9/40\n",
            "150/151 [============================>.] - ETA: 0s - loss: 1.2027 - accuracy: 0.7009\n",
            "Epoch 9: loss improved from 1.24137 to 1.20411, saving model to ./model_2_rm_weights.hdf5\n",
            "151/151 [==============================] - 6s 40ms/step - loss: 1.2041 - accuracy: 0.7007\n",
            "Epoch 10/40\n",
            "151/151 [==============================] - ETA: 0s - loss: 1.1723 - accuracy: 0.7083\n",
            "Epoch 10: loss improved from 1.20411 to 1.17233, saving model to ./model_2_rm_weights.hdf5\n",
            "151/151 [==============================] - 6s 39ms/step - loss: 1.1723 - accuracy: 0.7083\n",
            "Epoch 11/40\n",
            "150/151 [============================>.] - ETA: 0s - loss: 1.1482 - accuracy: 0.7139\n",
            "Epoch 11: loss improved from 1.17233 to 1.14791, saving model to ./model_2_rm_weights.hdf5\n",
            "151/151 [==============================] - 6s 38ms/step - loss: 1.1479 - accuracy: 0.7138\n",
            "Epoch 12/40\n",
            "151/151 [==============================] - ETA: 0s - loss: 1.1200 - accuracy: 0.7190\n",
            "Epoch 12: loss improved from 1.14791 to 1.11997, saving model to ./model_2_rm_weights.hdf5\n",
            "151/151 [==============================] - 6s 38ms/step - loss: 1.1200 - accuracy: 0.7190\n",
            "Epoch 13/40\n",
            "151/151 [==============================] - ETA: 0s - loss: 1.1072 - accuracy: 0.7224\n",
            "Epoch 13: loss improved from 1.11997 to 1.10719, saving model to ./model_2_rm_weights.hdf5\n",
            "151/151 [==============================] - 6s 38ms/step - loss: 1.1072 - accuracy: 0.7224\n",
            "Epoch 14/40\n",
            "151/151 [==============================] - ETA: 0s - loss: 1.0623 - accuracy: 0.7290\n",
            "Epoch 14: loss improved from 1.10719 to 1.06230, saving model to ./model_2_rm_weights.hdf5\n",
            "151/151 [==============================] - 6s 38ms/step - loss: 1.0623 - accuracy: 0.7290\n",
            "Epoch 15/40\n",
            "151/151 [==============================] - ETA: 0s - loss: 1.0472 - accuracy: 0.7343\n",
            "Epoch 15: loss improved from 1.06230 to 1.04721, saving model to ./model_2_rm_weights.hdf5\n",
            "151/151 [==============================] - 6s 38ms/step - loss: 1.0472 - accuracy: 0.7343\n",
            "Epoch 16/40\n",
            "151/151 [==============================] - ETA: 0s - loss: 1.0113 - accuracy: 0.7425\n",
            "Epoch 16: loss improved from 1.04721 to 1.01128, saving model to ./model_2_rm_weights.hdf5\n",
            "151/151 [==============================] - 6s 38ms/step - loss: 1.0113 - accuracy: 0.7425\n",
            "Epoch 17/40\n",
            "151/151 [==============================] - ETA: 0s - loss: 0.9950 - accuracy: 0.7444\n",
            "Epoch 17: loss improved from 1.01128 to 0.99501, saving model to ./model_2_rm_weights.hdf5\n",
            "151/151 [==============================] - 6s 38ms/step - loss: 0.9950 - accuracy: 0.7444\n",
            "Epoch 18/40\n",
            "151/151 [==============================] - ETA: 0s - loss: 0.9671 - accuracy: 0.7483\n",
            "Epoch 18: loss improved from 0.99501 to 0.96709, saving model to ./model_2_rm_weights.hdf5\n",
            "151/151 [==============================] - 6s 38ms/step - loss: 0.9671 - accuracy: 0.7483\n",
            "Epoch 19/40\n",
            "150/151 [============================>.] - ETA: 0s - loss: 0.9469 - accuracy: 0.7544\n",
            "Epoch 19: loss improved from 0.96709 to 0.94636, saving model to ./model_2_rm_weights.hdf5\n",
            "151/151 [==============================] - 6s 38ms/step - loss: 0.9464 - accuracy: 0.7546\n",
            "Epoch 20/40\n",
            "150/151 [============================>.] - ETA: 0s - loss: 0.9225 - accuracy: 0.7593\n",
            "Epoch 20: loss improved from 0.94636 to 0.92314, saving model to ./model_2_rm_weights.hdf5\n",
            "151/151 [==============================] - 6s 38ms/step - loss: 0.9231 - accuracy: 0.7591\n",
            "Epoch 21/40\n",
            "150/151 [============================>.] - ETA: 0s - loss: 0.9045 - accuracy: 0.7626\n",
            "Epoch 21: loss improved from 0.92314 to 0.90583, saving model to ./model_2_rm_weights.hdf5\n",
            "151/151 [==============================] - 6s 38ms/step - loss: 0.9058 - accuracy: 0.7618\n",
            "Epoch 22/40\n",
            "150/151 [============================>.] - ETA: 0s - loss: 0.8744 - accuracy: 0.7722\n",
            "Epoch 22: loss improved from 0.90583 to 0.87472, saving model to ./model_2_rm_weights.hdf5\n",
            "151/151 [==============================] - 6s 38ms/step - loss: 0.8747 - accuracy: 0.7720\n",
            "Epoch 23/40\n",
            "151/151 [==============================] - ETA: 0s - loss: 0.8652 - accuracy: 0.7730\n",
            "Epoch 23: loss improved from 0.87472 to 0.86519, saving model to ./model_2_rm_weights.hdf5\n",
            "151/151 [==============================] - 6s 38ms/step - loss: 0.8652 - accuracy: 0.7730\n",
            "Epoch 24/40\n",
            "151/151 [==============================] - ETA: 0s - loss: 0.8423 - accuracy: 0.7831\n",
            "Epoch 24: loss improved from 0.86519 to 0.84234, saving model to ./model_2_rm_weights.hdf5\n",
            "151/151 [==============================] - 6s 39ms/step - loss: 0.8423 - accuracy: 0.7831\n",
            "Epoch 25/40\n",
            "151/151 [==============================] - ETA: 0s - loss: 0.8130 - accuracy: 0.7851\n",
            "Epoch 25: loss improved from 0.84234 to 0.81301, saving model to ./model_2_rm_weights.hdf5\n",
            "151/151 [==============================] - 6s 39ms/step - loss: 0.8130 - accuracy: 0.7851\n",
            "Epoch 26/40\n",
            "150/151 [============================>.] - ETA: 0s - loss: 0.7968 - accuracy: 0.7896\n",
            "Epoch 26: loss improved from 0.81301 to 0.79620, saving model to ./model_2_rm_weights.hdf5\n",
            "151/151 [==============================] - 6s 39ms/step - loss: 0.7962 - accuracy: 0.7897\n",
            "Epoch 27/40\n",
            "150/151 [============================>.] - ETA: 0s - loss: 0.7776 - accuracy: 0.7908\n",
            "Epoch 27: loss improved from 0.79620 to 0.77875, saving model to ./model_2_rm_weights.hdf5\n",
            "151/151 [==============================] - 6s 39ms/step - loss: 0.7788 - accuracy: 0.7906\n",
            "Epoch 28/40\n",
            "150/151 [============================>.] - ETA: 0s - loss: 0.7615 - accuracy: 0.7982\n",
            "Epoch 28: loss improved from 0.77875 to 0.76182, saving model to ./model_2_rm_weights.hdf5\n",
            "151/151 [==============================] - 6s 38ms/step - loss: 0.7618 - accuracy: 0.7979\n",
            "Epoch 29/40\n",
            "150/151 [============================>.] - ETA: 0s - loss: 0.7353 - accuracy: 0.8030\n",
            "Epoch 29: loss improved from 0.76182 to 0.73572, saving model to ./model_2_rm_weights.hdf5\n",
            "151/151 [==============================] - 6s 38ms/step - loss: 0.7357 - accuracy: 0.8027\n",
            "Epoch 30/40\n",
            "150/151 [============================>.] - ETA: 0s - loss: 0.7227 - accuracy: 0.8038\n",
            "Epoch 30: loss improved from 0.73572 to 0.72303, saving model to ./model_2_rm_weights.hdf5\n",
            "151/151 [==============================] - 6s 39ms/step - loss: 0.7230 - accuracy: 0.8038\n",
            "Epoch 31/40\n",
            "150/151 [============================>.] - ETA: 0s - loss: 0.7048 - accuracy: 0.8083\n",
            "Epoch 31: loss improved from 0.72303 to 0.70541, saving model to ./model_2_rm_weights.hdf5\n",
            "151/151 [==============================] - 6s 38ms/step - loss: 0.7054 - accuracy: 0.8080\n",
            "Epoch 32/40\n",
            "150/151 [============================>.] - ETA: 0s - loss: 0.6835 - accuracy: 0.8133\n",
            "Epoch 32: loss improved from 0.70541 to 0.68476, saving model to ./model_2_rm_weights.hdf5\n",
            "151/151 [==============================] - 6s 39ms/step - loss: 0.6848 - accuracy: 0.8131\n",
            "Epoch 33/40\n",
            "150/151 [============================>.] - ETA: 0s - loss: 0.6701 - accuracy: 0.8189\n",
            "Epoch 33: loss improved from 0.68476 to 0.67084, saving model to ./model_2_rm_weights.hdf5\n",
            "151/151 [==============================] - 6s 39ms/step - loss: 0.6708 - accuracy: 0.8188\n",
            "Epoch 34/40\n",
            "150/151 [============================>.] - ETA: 0s - loss: 0.6472 - accuracy: 0.8218\n",
            "Epoch 34: loss improved from 0.67084 to 0.64740, saving model to ./model_2_rm_weights.hdf5\n",
            "151/151 [==============================] - 6s 38ms/step - loss: 0.6474 - accuracy: 0.8216\n",
            "Epoch 35/40\n",
            "150/151 [============================>.] - ETA: 0s - loss: 0.6344 - accuracy: 0.8255\n",
            "Epoch 35: loss improved from 0.64740 to 0.63398, saving model to ./model_2_rm_weights.hdf5\n",
            "151/151 [==============================] - 6s 39ms/step - loss: 0.6340 - accuracy: 0.8254\n",
            "Epoch 36/40\n",
            "150/151 [============================>.] - ETA: 0s - loss: 0.6165 - accuracy: 0.8302\n",
            "Epoch 36: loss improved from 0.63398 to 0.61711, saving model to ./model_2_rm_weights.hdf5\n",
            "151/151 [==============================] - 6s 38ms/step - loss: 0.6171 - accuracy: 0.8300\n",
            "Epoch 37/40\n",
            "151/151 [==============================] - ETA: 0s - loss: 0.6006 - accuracy: 0.8318\n",
            "Epoch 37: loss improved from 0.61711 to 0.60065, saving model to ./model_2_rm_weights.hdf5\n",
            "151/151 [==============================] - 6s 39ms/step - loss: 0.6006 - accuracy: 0.8318\n",
            "Epoch 38/40\n",
            "150/151 [============================>.] - ETA: 0s - loss: 0.5981 - accuracy: 0.8348\n",
            "Epoch 38: loss improved from 0.60065 to 0.59780, saving model to ./model_2_rm_weights.hdf5\n",
            "151/151 [==============================] - 6s 39ms/step - loss: 0.5978 - accuracy: 0.8349\n",
            "Epoch 39/40\n",
            "150/151 [============================>.] - ETA: 0s - loss: 0.5747 - accuracy: 0.8383\n",
            "Epoch 39: loss improved from 0.59780 to 0.57372, saving model to ./model_2_rm_weights.hdf5\n",
            "151/151 [==============================] - 6s 38ms/step - loss: 0.5737 - accuracy: 0.8385\n",
            "Epoch 40/40\n",
            "150/151 [============================>.] - ETA: 0s - loss: 0.5702 - accuracy: 0.8389\n",
            "Epoch 40: loss improved from 0.57372 to 0.57012, saving model to ./model_2_rm_weights.hdf5\n",
            "151/151 [==============================] - 6s 39ms/step - loss: 0.5701 - accuracy: 0.8388\n"
          ]
        },
        {
          "output_type": "execute_result",
          "data": {
            "text/plain": [
              "<keras.callbacks.History at 0x7fb7527baf10>"
            ]
          },
          "metadata": {},
          "execution_count": 144
        }
      ]
    },
    {
      "cell_type": "code",
      "source": [
        "pred_2_rms = test_models('Hello from',model_2,reverse_word_map,50)\n",
        "print(pred_2_rms) "
      ],
      "metadata": {
        "colab": {
          "base_uri": "https://localhost:8080/"
        },
        "id": "DE23ZXkU2_8K",
        "outputId": "4a8c9cb2-58f8-46d8-aa2e-8559e76976c5"
      },
      "execution_count": null,
      "outputs": [
        {
          "output_type": "stream",
          "name": "stdout",
          "text": [
            "hello from with your ready in with with with with with with with with with with with with with with with with with with with with with with with with with with you \n",
            " forgive me take your left my say don't say i say you'd told the light\n",
            " light\n",
            " \n",
            " don't\n"
          ]
        }
      ]
    },
    {
      "cell_type": "code",
      "source": [
        "get_readability_index(pred_2_rms)"
      ],
      "metadata": {
        "colab": {
          "base_uri": "https://localhost:8080/",
          "height": 143
        },
        "id": "5w9_1yiw5Y-H",
        "outputId": "9776c3c6-ac16-401d-b0bd-b272ac3ef6e5"
      },
      "execution_count": null,
      "outputs": [
        {
          "output_type": "execute_result",
          "data": {
            "text/html": [
              "\n",
              "  <div id=\"df-8e5c7ee0-8298-4c22-bc71-69b74d89d18b\">\n",
              "    <div class=\"colab-df-container\">\n",
              "      <div>\n",
              "<style scoped>\n",
              "    .dataframe tbody tr th:only-of-type {\n",
              "        vertical-align: middle;\n",
              "    }\n",
              "\n",
              "    .dataframe tbody tr th {\n",
              "        vertical-align: top;\n",
              "    }\n",
              "\n",
              "    .dataframe thead th {\n",
              "        text-align: right;\n",
              "    }\n",
              "</style>\n",
              "<table border=\"1\" class=\"dataframe\">\n",
              "  <thead>\n",
              "    <tr style=\"text-align: right;\">\n",
              "      <th></th>\n",
              "      <th>Metrics</th>\n",
              "      <th>Results</th>\n",
              "    </tr>\n",
              "  </thead>\n",
              "  <tbody>\n",
              "    <tr>\n",
              "      <th>0</th>\n",
              "      <td>ARI</td>\n",
              "      <td>5.562</td>\n",
              "    </tr>\n",
              "    <tr>\n",
              "      <th>1</th>\n",
              "      <td>Flesch Reading Ease</td>\n",
              "      <td>83.320</td>\n",
              "    </tr>\n",
              "    <tr>\n",
              "      <th>2</th>\n",
              "      <td>Kincaid</td>\n",
              "      <td>2.880</td>\n",
              "    </tr>\n",
              "  </tbody>\n",
              "</table>\n",
              "</div>\n",
              "      <button class=\"colab-df-convert\" onclick=\"convertToInteractive('df-8e5c7ee0-8298-4c22-bc71-69b74d89d18b')\"\n",
              "              title=\"Convert this dataframe to an interactive table.\"\n",
              "              style=\"display:none;\">\n",
              "        \n",
              "  <svg xmlns=\"http://www.w3.org/2000/svg\" height=\"24px\"viewBox=\"0 0 24 24\"\n",
              "       width=\"24px\">\n",
              "    <path d=\"M0 0h24v24H0V0z\" fill=\"none\"/>\n",
              "    <path d=\"M18.56 5.44l.94 2.06.94-2.06 2.06-.94-2.06-.94-.94-2.06-.94 2.06-2.06.94zm-11 1L8.5 8.5l.94-2.06 2.06-.94-2.06-.94L8.5 2.5l-.94 2.06-2.06.94zm10 10l.94 2.06.94-2.06 2.06-.94-2.06-.94-.94-2.06-.94 2.06-2.06.94z\"/><path d=\"M17.41 7.96l-1.37-1.37c-.4-.4-.92-.59-1.43-.59-.52 0-1.04.2-1.43.59L10.3 9.45l-7.72 7.72c-.78.78-.78 2.05 0 2.83L4 21.41c.39.39.9.59 1.41.59.51 0 1.02-.2 1.41-.59l7.78-7.78 2.81-2.81c.8-.78.8-2.07 0-2.86zM5.41 20L4 18.59l7.72-7.72 1.47 1.35L5.41 20z\"/>\n",
              "  </svg>\n",
              "      </button>\n",
              "      \n",
              "  <style>\n",
              "    .colab-df-container {\n",
              "      display:flex;\n",
              "      flex-wrap:wrap;\n",
              "      gap: 12px;\n",
              "    }\n",
              "\n",
              "    .colab-df-convert {\n",
              "      background-color: #E8F0FE;\n",
              "      border: none;\n",
              "      border-radius: 50%;\n",
              "      cursor: pointer;\n",
              "      display: none;\n",
              "      fill: #1967D2;\n",
              "      height: 32px;\n",
              "      padding: 0 0 0 0;\n",
              "      width: 32px;\n",
              "    }\n",
              "\n",
              "    .colab-df-convert:hover {\n",
              "      background-color: #E2EBFA;\n",
              "      box-shadow: 0px 1px 2px rgba(60, 64, 67, 0.3), 0px 1px 3px 1px rgba(60, 64, 67, 0.15);\n",
              "      fill: #174EA6;\n",
              "    }\n",
              "\n",
              "    [theme=dark] .colab-df-convert {\n",
              "      background-color: #3B4455;\n",
              "      fill: #D2E3FC;\n",
              "    }\n",
              "\n",
              "    [theme=dark] .colab-df-convert:hover {\n",
              "      background-color: #434B5C;\n",
              "      box-shadow: 0px 1px 3px 1px rgba(0, 0, 0, 0.15);\n",
              "      filter: drop-shadow(0px 1px 2px rgba(0, 0, 0, 0.3));\n",
              "      fill: #FFFFFF;\n",
              "    }\n",
              "  </style>\n",
              "\n",
              "      <script>\n",
              "        const buttonEl =\n",
              "          document.querySelector('#df-8e5c7ee0-8298-4c22-bc71-69b74d89d18b button.colab-df-convert');\n",
              "        buttonEl.style.display =\n",
              "          google.colab.kernel.accessAllowed ? 'block' : 'none';\n",
              "\n",
              "        async function convertToInteractive(key) {\n",
              "          const element = document.querySelector('#df-8e5c7ee0-8298-4c22-bc71-69b74d89d18b');\n",
              "          const dataTable =\n",
              "            await google.colab.kernel.invokeFunction('convertToInteractive',\n",
              "                                                     [key], {});\n",
              "          if (!dataTable) return;\n",
              "\n",
              "          const docLinkHtml = 'Like what you see? Visit the ' +\n",
              "            '<a target=\"_blank\" href=https://colab.research.google.com/notebooks/data_table.ipynb>data table notebook</a>'\n",
              "            + ' to learn more about interactive tables.';\n",
              "          element.innerHTML = '';\n",
              "          dataTable['output_type'] = 'display_data';\n",
              "          await google.colab.output.renderOutput(dataTable, element);\n",
              "          const docLink = document.createElement('div');\n",
              "          docLink.innerHTML = docLinkHtml;\n",
              "          element.appendChild(docLink);\n",
              "        }\n",
              "      </script>\n",
              "    </div>\n",
              "  </div>\n",
              "  "
            ],
            "text/plain": [
              "               Metrics  Results\n",
              "0                  ARI    5.562\n",
              "1  Flesch Reading Ease   83.320\n",
              "2              Kincaid    2.880"
            ]
          },
          "metadata": {},
          "execution_count": 119
        }
      ]
    },
    {
      "cell_type": "markdown",
      "source": [
        "# LSTM word based model with new architecture "
      ],
      "metadata": {
        "id": "ns0j8EGkTIwB"
      }
    },
    {
      "cell_type": "code",
      "source": [
        "trainX, trainy,train_len,reverse_word_map = LSTM_data(text)\n",
        "model_3 = LSTM_Architecture(100, 200 ,100, 100, 0.5)\n",
        "model_3.summary()"
      ],
      "metadata": {
        "colab": {
          "base_uri": "https://localhost:8080/"
        },
        "id": "o6qF2bth2LS5",
        "outputId": "5144b5c5-3681-4a6d-f33e-da10d0c17686"
      },
      "execution_count": null,
      "outputs": [
        {
          "output_type": "stream",
          "name": "stdout",
          "text": [
            "Model: \"sequential_9\"\n",
            "_________________________________________________________________\n",
            " Layer (type)                Output Shape              Param #   \n",
            "=================================================================\n",
            " embedding_8 (Embedding)     (None, 5, 100)            173400    \n",
            "                                                                 \n",
            " lstm_20 (LSTM)              (None, 5, 200)            240800    \n",
            "                                                                 \n",
            " lstm_21 (LSTM)              (None, 100)               120400    \n",
            "                                                                 \n",
            " dense_17 (Dense)            (None, 100)               10100     \n",
            "                                                                 \n",
            " dropout_17 (Dropout)        (None, 100)               0         \n",
            "                                                                 \n",
            " dense_18 (Dense)            (None, 1733)              175033    \n",
            "                                                                 \n",
            "=================================================================\n",
            "Total params: 719,733\n",
            "Trainable params: 719,733\n",
            "Non-trainable params: 0\n",
            "_________________________________________________________________\n"
          ]
        }
      ]
    },
    {
      "cell_type": "code",
      "source": [
        " filepath_ = \"./model_3_weights.hdf5\"\n",
        " compile_fit_model(model_3, 40, filepath_ ,optimizer_='adam',loss_='categorical_crossentropy')"
      ],
      "metadata": {
        "colab": {
          "base_uri": "https://localhost:8080/"
        },
        "id": "1IU_O4yn2VMf",
        "outputId": "fc9603bd-7f79-47c0-8a45-de4e0b927406"
      },
      "execution_count": null,
      "outputs": [
        {
          "output_type": "stream",
          "name": "stdout",
          "text": [
            "Epoch 1/40\n",
            "151/151 [==============================] - ETA: 0s - loss: 6.2579 - accuracy: 0.0424\n",
            "Epoch 1: loss improved from inf to 6.25788, saving model to ./model_3_weights.hdf5\n",
            "151/151 [==============================] - 18s 81ms/step - loss: 6.2579 - accuracy: 0.0424\n",
            "Epoch 2/40\n",
            "151/151 [==============================] - ETA: 0s - loss: 5.8903 - accuracy: 0.0448\n",
            "Epoch 2: loss improved from 6.25788 to 5.89028, saving model to ./model_3_weights.hdf5\n",
            "151/151 [==============================] - 10s 66ms/step - loss: 5.8903 - accuracy: 0.0448\n",
            "Epoch 3/40\n",
            "151/151 [==============================] - ETA: 0s - loss: 5.8126 - accuracy: 0.0473\n",
            "Epoch 3: loss improved from 5.89028 to 5.81261, saving model to ./model_3_weights.hdf5\n",
            "151/151 [==============================] - 10s 65ms/step - loss: 5.8126 - accuracy: 0.0473\n",
            "Epoch 4/40\n",
            "151/151 [==============================] - ETA: 0s - loss: 5.6660 - accuracy: 0.0443\n",
            "Epoch 4: loss improved from 5.81261 to 5.66599, saving model to ./model_3_weights.hdf5\n",
            "151/151 [==============================] - 10s 65ms/step - loss: 5.6660 - accuracy: 0.0443\n",
            "Epoch 5/40\n",
            "151/151 [==============================] - ETA: 0s - loss: 5.5584 - accuracy: 0.0456\n",
            "Epoch 5: loss improved from 5.66599 to 5.55841, saving model to ./model_3_weights.hdf5\n",
            "151/151 [==============================] - 10s 65ms/step - loss: 5.5584 - accuracy: 0.0456\n",
            "Epoch 6/40\n",
            "151/151 [==============================] - ETA: 0s - loss: 5.4176 - accuracy: 0.0481\n",
            "Epoch 6: loss improved from 5.55841 to 5.41761, saving model to ./model_3_weights.hdf5\n",
            "151/151 [==============================] - 10s 64ms/step - loss: 5.4176 - accuracy: 0.0481\n",
            "Epoch 7/40\n",
            "151/151 [==============================] - ETA: 0s - loss: 5.2960 - accuracy: 0.0506\n",
            "Epoch 7: loss improved from 5.41761 to 5.29603, saving model to ./model_3_weights.hdf5\n",
            "151/151 [==============================] - 10s 64ms/step - loss: 5.2960 - accuracy: 0.0506\n",
            "Epoch 8/40\n",
            "151/151 [==============================] - ETA: 0s - loss: 5.1726 - accuracy: 0.0547\n",
            "Epoch 8: loss improved from 5.29603 to 5.17263, saving model to ./model_3_weights.hdf5\n",
            "151/151 [==============================] - 10s 65ms/step - loss: 5.1726 - accuracy: 0.0547\n",
            "Epoch 9/40\n",
            "151/151 [==============================] - ETA: 0s - loss: 5.0492 - accuracy: 0.0601\n",
            "Epoch 9: loss improved from 5.17263 to 5.04922, saving model to ./model_3_weights.hdf5\n",
            "151/151 [==============================] - 10s 63ms/step - loss: 5.0492 - accuracy: 0.0601\n",
            "Epoch 10/40\n",
            "151/151 [==============================] - ETA: 0s - loss: 4.9147 - accuracy: 0.0653\n",
            "Epoch 10: loss improved from 5.04922 to 4.91473, saving model to ./model_3_weights.hdf5\n",
            "151/151 [==============================] - 10s 64ms/step - loss: 4.9147 - accuracy: 0.0653\n",
            "Epoch 11/40\n",
            "151/151 [==============================] - ETA: 0s - loss: 4.7686 - accuracy: 0.0797\n",
            "Epoch 11: loss improved from 4.91473 to 4.76864, saving model to ./model_3_weights.hdf5\n",
            "151/151 [==============================] - 10s 64ms/step - loss: 4.7686 - accuracy: 0.0797\n",
            "Epoch 12/40\n",
            "151/151 [==============================] - ETA: 0s - loss: 4.6219 - accuracy: 0.0905\n",
            "Epoch 12: loss improved from 4.76864 to 4.62191, saving model to ./model_3_weights.hdf5\n",
            "151/151 [==============================] - 10s 65ms/step - loss: 4.6219 - accuracy: 0.0905\n",
            "Epoch 13/40\n",
            "151/151 [==============================] - ETA: 0s - loss: 4.4606 - accuracy: 0.1098\n",
            "Epoch 13: loss improved from 4.62191 to 4.46062, saving model to ./model_3_weights.hdf5\n",
            "151/151 [==============================] - 10s 64ms/step - loss: 4.4606 - accuracy: 0.1098\n",
            "Epoch 14/40\n",
            "151/151 [==============================] - ETA: 0s - loss: 4.3047 - accuracy: 0.1290\n",
            "Epoch 14: loss improved from 4.46062 to 4.30471, saving model to ./model_3_weights.hdf5\n",
            "151/151 [==============================] - 10s 64ms/step - loss: 4.3047 - accuracy: 0.1290\n",
            "Epoch 15/40\n",
            "151/151 [==============================] - ETA: 0s - loss: 4.1482 - accuracy: 0.1530\n",
            "Epoch 15: loss improved from 4.30471 to 4.14820, saving model to ./model_3_weights.hdf5\n",
            "151/151 [==============================] - 10s 65ms/step - loss: 4.1482 - accuracy: 0.1530\n",
            "Epoch 16/40\n",
            "151/151 [==============================] - ETA: 0s - loss: 4.0218 - accuracy: 0.1712\n",
            "Epoch 16: loss improved from 4.14820 to 4.02178, saving model to ./model_3_weights.hdf5\n",
            "151/151 [==============================] - 10s 64ms/step - loss: 4.0218 - accuracy: 0.1712\n",
            "Epoch 17/40\n",
            "151/151 [==============================] - ETA: 0s - loss: 3.8764 - accuracy: 0.1988\n",
            "Epoch 17: loss improved from 4.02178 to 3.87640, saving model to ./model_3_weights.hdf5\n",
            "151/151 [==============================] - 10s 65ms/step - loss: 3.8764 - accuracy: 0.1988\n",
            "Epoch 18/40\n",
            "151/151 [==============================] - ETA: 0s - loss: 3.7396 - accuracy: 0.2148\n",
            "Epoch 18: loss improved from 3.87640 to 3.73963, saving model to ./model_3_weights.hdf5\n",
            "151/151 [==============================] - 10s 65ms/step - loss: 3.7396 - accuracy: 0.2148\n",
            "Epoch 19/40\n",
            "151/151 [==============================] - ETA: 0s - loss: 3.6214 - accuracy: 0.2363\n",
            "Epoch 19: loss improved from 3.73963 to 3.62142, saving model to ./model_3_weights.hdf5\n",
            "151/151 [==============================] - 10s 66ms/step - loss: 3.6214 - accuracy: 0.2363\n",
            "Epoch 20/40\n",
            "151/151 [==============================] - ETA: 0s - loss: 3.4673 - accuracy: 0.2648\n",
            "Epoch 20: loss improved from 3.62142 to 3.46734, saving model to ./model_3_weights.hdf5\n",
            "151/151 [==============================] - 10s 66ms/step - loss: 3.4673 - accuracy: 0.2648\n",
            "Epoch 21/40\n",
            "151/151 [==============================] - ETA: 0s - loss: 3.3620 - accuracy: 0.2821\n",
            "Epoch 21: loss improved from 3.46734 to 3.36200, saving model to ./model_3_weights.hdf5\n",
            "151/151 [==============================] - 10s 65ms/step - loss: 3.3620 - accuracy: 0.2821\n",
            "Epoch 22/40\n",
            "151/151 [==============================] - ETA: 0s - loss: 3.2341 - accuracy: 0.2999\n",
            "Epoch 22: loss improved from 3.36200 to 3.23409, saving model to ./model_3_weights.hdf5\n",
            "151/151 [==============================] - 10s 65ms/step - loss: 3.2341 - accuracy: 0.2999\n",
            "Epoch 23/40\n",
            "151/151 [==============================] - ETA: 0s - loss: 3.1269 - accuracy: 0.3238\n",
            "Epoch 23: loss improved from 3.23409 to 3.12691, saving model to ./model_3_weights.hdf5\n",
            "151/151 [==============================] - 10s 65ms/step - loss: 3.1269 - accuracy: 0.3238\n",
            "Epoch 24/40\n",
            "151/151 [==============================] - ETA: 0s - loss: 3.0208 - accuracy: 0.3442\n",
            "Epoch 24: loss improved from 3.12691 to 3.02076, saving model to ./model_3_weights.hdf5\n",
            "151/151 [==============================] - 10s 64ms/step - loss: 3.0208 - accuracy: 0.3442\n",
            "Epoch 25/40\n",
            "151/151 [==============================] - ETA: 0s - loss: 2.9276 - accuracy: 0.3583\n",
            "Epoch 25: loss improved from 3.02076 to 2.92757, saving model to ./model_3_weights.hdf5\n",
            "151/151 [==============================] - 10s 65ms/step - loss: 2.9276 - accuracy: 0.3583\n",
            "Epoch 26/40\n",
            "151/151 [==============================] - ETA: 0s - loss: 2.8051 - accuracy: 0.3791\n",
            "Epoch 26: loss improved from 2.92757 to 2.80510, saving model to ./model_3_weights.hdf5\n",
            "151/151 [==============================] - 10s 66ms/step - loss: 2.8051 - accuracy: 0.3791\n",
            "Epoch 27/40\n",
            "151/151 [==============================] - ETA: 0s - loss: 2.7060 - accuracy: 0.3984\n",
            "Epoch 27: loss improved from 2.80510 to 2.70598, saving model to ./model_3_weights.hdf5\n",
            "151/151 [==============================] - 10s 66ms/step - loss: 2.7060 - accuracy: 0.3984\n",
            "Epoch 28/40\n",
            "151/151 [==============================] - ETA: 0s - loss: 2.6250 - accuracy: 0.4106\n",
            "Epoch 28: loss improved from 2.70598 to 2.62504, saving model to ./model_3_weights.hdf5\n",
            "151/151 [==============================] - 10s 65ms/step - loss: 2.6250 - accuracy: 0.4106\n",
            "Epoch 29/40\n",
            "151/151 [==============================] - ETA: 0s - loss: 2.5352 - accuracy: 0.4268\n",
            "Epoch 29: loss improved from 2.62504 to 2.53524, saving model to ./model_3_weights.hdf5\n",
            "151/151 [==============================] - 10s 65ms/step - loss: 2.5352 - accuracy: 0.4268\n",
            "Epoch 30/40\n",
            "151/151 [==============================] - ETA: 0s - loss: 2.4532 - accuracy: 0.4439\n",
            "Epoch 30: loss improved from 2.53524 to 2.45315, saving model to ./model_3_weights.hdf5\n",
            "151/151 [==============================] - 10s 67ms/step - loss: 2.4532 - accuracy: 0.4439\n",
            "Epoch 31/40\n",
            "151/151 [==============================] - ETA: 0s - loss: 2.3687 - accuracy: 0.4582\n",
            "Epoch 31: loss improved from 2.45315 to 2.36871, saving model to ./model_3_weights.hdf5\n",
            "151/151 [==============================] - 14s 93ms/step - loss: 2.3687 - accuracy: 0.4582\n",
            "Epoch 32/40\n",
            "151/151 [==============================] - ETA: 0s - loss: 2.2799 - accuracy: 0.4720\n",
            "Epoch 32: loss improved from 2.36871 to 2.27988, saving model to ./model_3_weights.hdf5\n",
            "151/151 [==============================] - 10s 69ms/step - loss: 2.2799 - accuracy: 0.4720\n",
            "Epoch 33/40\n",
            "151/151 [==============================] - ETA: 0s - loss: 2.2216 - accuracy: 0.4842\n",
            "Epoch 33: loss improved from 2.27988 to 2.22159, saving model to ./model_3_weights.hdf5\n",
            "151/151 [==============================] - 10s 66ms/step - loss: 2.2216 - accuracy: 0.4842\n",
            "Epoch 34/40\n",
            "151/151 [==============================] - ETA: 0s - loss: 2.1420 - accuracy: 0.4972\n",
            "Epoch 34: loss improved from 2.22159 to 2.14196, saving model to ./model_3_weights.hdf5\n",
            "151/151 [==============================] - 10s 67ms/step - loss: 2.1420 - accuracy: 0.4972\n",
            "Epoch 35/40\n",
            "151/151 [==============================] - ETA: 0s - loss: 2.0794 - accuracy: 0.5129\n",
            "Epoch 35: loss improved from 2.14196 to 2.07944, saving model to ./model_3_weights.hdf5\n",
            "151/151 [==============================] - 10s 67ms/step - loss: 2.0794 - accuracy: 0.5129\n",
            "Epoch 36/40\n",
            "151/151 [==============================] - ETA: 0s - loss: 1.9979 - accuracy: 0.5275\n",
            "Epoch 36: loss improved from 2.07944 to 1.99788, saving model to ./model_3_weights.hdf5\n",
            "151/151 [==============================] - 10s 65ms/step - loss: 1.9979 - accuracy: 0.5275\n",
            "Epoch 37/40\n",
            "151/151 [==============================] - ETA: 0s - loss: 1.9454 - accuracy: 0.5380\n",
            "Epoch 37: loss improved from 1.99788 to 1.94538, saving model to ./model_3_weights.hdf5\n",
            "151/151 [==============================] - 10s 65ms/step - loss: 1.9454 - accuracy: 0.5380\n",
            "Epoch 38/40\n",
            "151/151 [==============================] - ETA: 0s - loss: 1.8761 - accuracy: 0.5472\n",
            "Epoch 38: loss improved from 1.94538 to 1.87615, saving model to ./model_3_weights.hdf5\n",
            "151/151 [==============================] - 10s 65ms/step - loss: 1.8761 - accuracy: 0.5472\n",
            "Epoch 39/40\n",
            "151/151 [==============================] - ETA: 0s - loss: 1.8349 - accuracy: 0.5570\n",
            "Epoch 39: loss improved from 1.87615 to 1.83488, saving model to ./model_3_weights.hdf5\n",
            "151/151 [==============================] - 10s 65ms/step - loss: 1.8349 - accuracy: 0.5570\n",
            "Epoch 40/40\n",
            "151/151 [==============================] - ETA: 0s - loss: 1.7750 - accuracy: 0.5676\n",
            "Epoch 40: loss improved from 1.83488 to 1.77505, saving model to ./model_3_weights.hdf5\n",
            "151/151 [==============================] - 10s 65ms/step - loss: 1.7750 - accuracy: 0.5676\n"
          ]
        },
        {
          "output_type": "execute_result",
          "data": {
            "text/plain": [
              "<keras.callbacks.History at 0x7fb74bab7fd0>"
            ]
          },
          "metadata": {},
          "execution_count": 150
        }
      ]
    },
    {
      "cell_type": "code",
      "source": [
        "pred_3 = test_models('Hello from the ',model_3,reverse_word_map,50)\n",
        "print(pred_3)"
      ],
      "metadata": {
        "colab": {
          "base_uri": "https://localhost:8080/"
        },
        "id": "a-cxrSNG54ed",
        "outputId": "1eb4eca8-147a-4507-c67e-d833a1e57bd0"
      },
      "execution_count": null,
      "outputs": [
        {
          "output_type": "stream",
          "name": "stdout",
          "text": [
            "hello from the bringing and a not hoping and a not not no a been \n",
            " \n",
            " a not known\n",
            " to a not known\n",
            " me like a ever just a right just a right just waiting so a not hoping \n",
            " a right \n",
            " a not just a right but a not always\n"
          ]
        }
      ]
    },
    {
      "cell_type": "code",
      "source": [
        "get_readability_index(pred_3)"
      ],
      "metadata": {
        "colab": {
          "base_uri": "https://localhost:8080/",
          "height": 143
        },
        "id": "uIonjtfN58vo",
        "outputId": "74e92c8c-f936-4526-8c7a-b2fb51e4e471"
      },
      "execution_count": null,
      "outputs": [
        {
          "output_type": "execute_result",
          "data": {
            "text/html": [
              "\n",
              "  <div id=\"df-14dd4a5f-3fa7-41e1-ac59-9de2976323ed\">\n",
              "    <div class=\"colab-df-container\">\n",
              "      <div>\n",
              "<style scoped>\n",
              "    .dataframe tbody tr th:only-of-type {\n",
              "        vertical-align: middle;\n",
              "    }\n",
              "\n",
              "    .dataframe tbody tr th {\n",
              "        vertical-align: top;\n",
              "    }\n",
              "\n",
              "    .dataframe thead th {\n",
              "        text-align: right;\n",
              "    }\n",
              "</style>\n",
              "<table border=\"1\" class=\"dataframe\">\n",
              "  <thead>\n",
              "    <tr style=\"text-align: right;\">\n",
              "      <th></th>\n",
              "      <th>Metrics</th>\n",
              "      <th>Results</th>\n",
              "    </tr>\n",
              "  </thead>\n",
              "  <tbody>\n",
              "    <tr>\n",
              "      <th>0</th>\n",
              "      <td>ARI</td>\n",
              "      <td>1.410</td>\n",
              "    </tr>\n",
              "    <tr>\n",
              "      <th>1</th>\n",
              "      <td>Flesch Reading Ease</td>\n",
              "      <td>92.965</td>\n",
              "    </tr>\n",
              "    <tr>\n",
              "      <th>2</th>\n",
              "      <td>Kincaid</td>\n",
              "      <td>2.280</td>\n",
              "    </tr>\n",
              "  </tbody>\n",
              "</table>\n",
              "</div>\n",
              "      <button class=\"colab-df-convert\" onclick=\"convertToInteractive('df-14dd4a5f-3fa7-41e1-ac59-9de2976323ed')\"\n",
              "              title=\"Convert this dataframe to an interactive table.\"\n",
              "              style=\"display:none;\">\n",
              "        \n",
              "  <svg xmlns=\"http://www.w3.org/2000/svg\" height=\"24px\"viewBox=\"0 0 24 24\"\n",
              "       width=\"24px\">\n",
              "    <path d=\"M0 0h24v24H0V0z\" fill=\"none\"/>\n",
              "    <path d=\"M18.56 5.44l.94 2.06.94-2.06 2.06-.94-2.06-.94-.94-2.06-.94 2.06-2.06.94zm-11 1L8.5 8.5l.94-2.06 2.06-.94-2.06-.94L8.5 2.5l-.94 2.06-2.06.94zm10 10l.94 2.06.94-2.06 2.06-.94-2.06-.94-.94-2.06-.94 2.06-2.06.94z\"/><path d=\"M17.41 7.96l-1.37-1.37c-.4-.4-.92-.59-1.43-.59-.52 0-1.04.2-1.43.59L10.3 9.45l-7.72 7.72c-.78.78-.78 2.05 0 2.83L4 21.41c.39.39.9.59 1.41.59.51 0 1.02-.2 1.41-.59l7.78-7.78 2.81-2.81c.8-.78.8-2.07 0-2.86zM5.41 20L4 18.59l7.72-7.72 1.47 1.35L5.41 20z\"/>\n",
              "  </svg>\n",
              "      </button>\n",
              "      \n",
              "  <style>\n",
              "    .colab-df-container {\n",
              "      display:flex;\n",
              "      flex-wrap:wrap;\n",
              "      gap: 12px;\n",
              "    }\n",
              "\n",
              "    .colab-df-convert {\n",
              "      background-color: #E8F0FE;\n",
              "      border: none;\n",
              "      border-radius: 50%;\n",
              "      cursor: pointer;\n",
              "      display: none;\n",
              "      fill: #1967D2;\n",
              "      height: 32px;\n",
              "      padding: 0 0 0 0;\n",
              "      width: 32px;\n",
              "    }\n",
              "\n",
              "    .colab-df-convert:hover {\n",
              "      background-color: #E2EBFA;\n",
              "      box-shadow: 0px 1px 2px rgba(60, 64, 67, 0.3), 0px 1px 3px 1px rgba(60, 64, 67, 0.15);\n",
              "      fill: #174EA6;\n",
              "    }\n",
              "\n",
              "    [theme=dark] .colab-df-convert {\n",
              "      background-color: #3B4455;\n",
              "      fill: #D2E3FC;\n",
              "    }\n",
              "\n",
              "    [theme=dark] .colab-df-convert:hover {\n",
              "      background-color: #434B5C;\n",
              "      box-shadow: 0px 1px 3px 1px rgba(0, 0, 0, 0.15);\n",
              "      filter: drop-shadow(0px 1px 2px rgba(0, 0, 0, 0.3));\n",
              "      fill: #FFFFFF;\n",
              "    }\n",
              "  </style>\n",
              "\n",
              "      <script>\n",
              "        const buttonEl =\n",
              "          document.querySelector('#df-14dd4a5f-3fa7-41e1-ac59-9de2976323ed button.colab-df-convert');\n",
              "        buttonEl.style.display =\n",
              "          google.colab.kernel.accessAllowed ? 'block' : 'none';\n",
              "\n",
              "        async function convertToInteractive(key) {\n",
              "          const element = document.querySelector('#df-14dd4a5f-3fa7-41e1-ac59-9de2976323ed');\n",
              "          const dataTable =\n",
              "            await google.colab.kernel.invokeFunction('convertToInteractive',\n",
              "                                                     [key], {});\n",
              "          if (!dataTable) return;\n",
              "\n",
              "          const docLinkHtml = 'Like what you see? Visit the ' +\n",
              "            '<a target=\"_blank\" href=https://colab.research.google.com/notebooks/data_table.ipynb>data table notebook</a>'\n",
              "            + ' to learn more about interactive tables.';\n",
              "          element.innerHTML = '';\n",
              "          dataTable['output_type'] = 'display_data';\n",
              "          await google.colab.output.renderOutput(dataTable, element);\n",
              "          const docLink = document.createElement('div');\n",
              "          docLink.innerHTML = docLinkHtml;\n",
              "          element.appendChild(docLink);\n",
              "        }\n",
              "      </script>\n",
              "    </div>\n",
              "  </div>\n",
              "  "
            ],
            "text/plain": [
              "               Metrics  Results\n",
              "0                  ARI    1.410\n",
              "1  Flesch Reading Ease   92.965\n",
              "2              Kincaid    2.280"
            ]
          },
          "metadata": {},
          "execution_count": 122
        }
      ]
    },
    {
      "cell_type": "markdown",
      "source": [
        "# LSTM word based model with deeper architecture"
      ],
      "metadata": {
        "id": "jceCi6rc2eV4"
      }
    },
    {
      "cell_type": "code",
      "source": [
        "def LSTM_Architecture_2(num_unit_1,num_unit_2,num_unit_3,num_unit_4,num_unit_5,dropout_rate):\n",
        "  '''Define the model architecture'''\n",
        "  model= Sequential([\n",
        "      Embedding(vocab_size+1, num_unit_1, input_length=train_len),\n",
        "      LSTM(num_unit_2, return_sequences=True),\n",
        "      Dropout(dropout_rate),\n",
        "      LSTM(num_unit_3),\n",
        "      Dropout(dropout_rate),\n",
        "      Dense(num_unit_5, activation='relu'),\n",
        "      Dropout(dropout_rate),\n",
        "      Dense(vocab_size, activation='softmax')\n",
        "  ])\n",
        "  return model"
      ],
      "metadata": {
        "id": "61KWnaX27K0o"
      },
      "execution_count": null,
      "outputs": []
    },
    {
      "cell_type": "code",
      "source": [
        "model_4 = LSTM_Architecture_2(200,170,100,100,100,0.1)"
      ],
      "metadata": {
        "id": "d2-q1EoEuqH-"
      },
      "execution_count": null,
      "outputs": []
    },
    {
      "cell_type": "code",
      "source": [
        "model_4.summary()"
      ],
      "metadata": {
        "id": "RcfZcLKATnJf",
        "colab": {
          "base_uri": "https://localhost:8080/"
        },
        "outputId": "6b8aef46-fd8b-40b4-9590-8aaf8d9ebd46"
      },
      "execution_count": null,
      "outputs": [
        {
          "output_type": "stream",
          "name": "stdout",
          "text": [
            "Model: \"sequential_10\"\n",
            "_________________________________________________________________\n",
            " Layer (type)                Output Shape              Param #   \n",
            "=================================================================\n",
            " embedding_9 (Embedding)     (None, 5, 200)            346800    \n",
            "                                                                 \n",
            " lstm_22 (LSTM)              (None, 5, 170)            252280    \n",
            "                                                                 \n",
            " dropout_18 (Dropout)        (None, 5, 170)            0         \n",
            "                                                                 \n",
            " lstm_23 (LSTM)              (None, 100)               108400    \n",
            "                                                                 \n",
            " dropout_19 (Dropout)        (None, 100)               0         \n",
            "                                                                 \n",
            " dense_19 (Dense)            (None, 100)               10100     \n",
            "                                                                 \n",
            " dropout_20 (Dropout)        (None, 100)               0         \n",
            "                                                                 \n",
            " dense_20 (Dense)            (None, 1733)              175033    \n",
            "                                                                 \n",
            "=================================================================\n",
            "Total params: 892,613\n",
            "Trainable params: 892,613\n",
            "Non-trainable params: 0\n",
            "_________________________________________________________________\n"
          ]
        }
      ]
    },
    {
      "cell_type": "code",
      "source": [
        " filepath_ = \"./model_4_weights.hdf5\"\n",
        " compile_fit_model(model_4, 40, filepath_ ,optimizer_='adam',loss_='categorical_crossentropy')"
      ],
      "metadata": {
        "colab": {
          "base_uri": "https://localhost:8080/"
        },
        "id": "mbkgw74hvElx",
        "outputId": "8fd8ae2f-6e9c-4923-fe8f-d0ab650c8475"
      },
      "execution_count": null,
      "outputs": [
        {
          "output_type": "stream",
          "name": "stdout",
          "text": [
            "Epoch 1/40\n",
            "151/151 [==============================] - ETA: 0s - loss: 6.2285 - accuracy: 0.0417\n",
            "Epoch 1: loss improved from inf to 6.22847, saving model to ./model_4_weights.hdf5\n",
            "151/151 [==============================] - 14s 66ms/step - loss: 6.2285 - accuracy: 0.0417\n",
            "Epoch 2/40\n",
            "151/151 [==============================] - ETA: 0s - loss: 5.8554 - accuracy: 0.0442\n",
            "Epoch 2: loss improved from 6.22847 to 5.85536, saving model to ./model_4_weights.hdf5\n",
            "151/151 [==============================] - 10s 66ms/step - loss: 5.8554 - accuracy: 0.0442\n",
            "Epoch 3/40\n",
            "151/151 [==============================] - ETA: 0s - loss: 5.6998 - accuracy: 0.0459\n",
            "Epoch 3: loss improved from 5.85536 to 5.69981, saving model to ./model_4_weights.hdf5\n",
            "151/151 [==============================] - 10s 67ms/step - loss: 5.6998 - accuracy: 0.0459\n",
            "Epoch 4/40\n",
            "151/151 [==============================] - ETA: 0s - loss: 5.5456 - accuracy: 0.0485\n",
            "Epoch 4: loss improved from 5.69981 to 5.54557, saving model to ./model_4_weights.hdf5\n",
            "151/151 [==============================] - 10s 66ms/step - loss: 5.5456 - accuracy: 0.0485\n",
            "Epoch 5/40\n",
            "151/151 [==============================] - ETA: 0s - loss: 5.3399 - accuracy: 0.0548\n",
            "Epoch 5: loss improved from 5.54557 to 5.33987, saving model to ./model_4_weights.hdf5\n",
            "151/151 [==============================] - 10s 66ms/step - loss: 5.3399 - accuracy: 0.0548\n",
            "Epoch 6/40\n",
            "151/151 [==============================] - ETA: 0s - loss: 5.1107 - accuracy: 0.0609\n",
            "Epoch 6: loss improved from 5.33987 to 5.11071, saving model to ./model_4_weights.hdf5\n",
            "151/151 [==============================] - 10s 67ms/step - loss: 5.1107 - accuracy: 0.0609\n",
            "Epoch 7/40\n",
            "151/151 [==============================] - ETA: 0s - loss: 4.9234 - accuracy: 0.0696\n",
            "Epoch 7: loss improved from 5.11071 to 4.92336, saving model to ./model_4_weights.hdf5\n",
            "151/151 [==============================] - 10s 66ms/step - loss: 4.9234 - accuracy: 0.0696\n",
            "Epoch 8/40\n",
            "151/151 [==============================] - ETA: 0s - loss: 4.7243 - accuracy: 0.0857\n",
            "Epoch 8: loss improved from 4.92336 to 4.72427, saving model to ./model_4_weights.hdf5\n",
            "151/151 [==============================] - 10s 67ms/step - loss: 4.7243 - accuracy: 0.0857\n",
            "Epoch 9/40\n",
            "151/151 [==============================] - ETA: 0s - loss: 4.5211 - accuracy: 0.1045\n",
            "Epoch 9: loss improved from 4.72427 to 4.52106, saving model to ./model_4_weights.hdf5\n",
            "151/151 [==============================] - 10s 68ms/step - loss: 4.5211 - accuracy: 0.1045\n",
            "Epoch 10/40\n",
            "151/151 [==============================] - ETA: 0s - loss: 4.3140 - accuracy: 0.1328\n",
            "Epoch 10: loss improved from 4.52106 to 4.31399, saving model to ./model_4_weights.hdf5\n",
            "151/151 [==============================] - 10s 66ms/step - loss: 4.3140 - accuracy: 0.1328\n",
            "Epoch 11/40\n",
            "151/151 [==============================] - ETA: 0s - loss: 4.0771 - accuracy: 0.1667\n",
            "Epoch 11: loss improved from 4.31399 to 4.07713, saving model to ./model_4_weights.hdf5\n",
            "151/151 [==============================] - 10s 67ms/step - loss: 4.0771 - accuracy: 0.1667\n",
            "Epoch 12/40\n",
            "151/151 [==============================] - ETA: 0s - loss: 3.8442 - accuracy: 0.2027\n",
            "Epoch 12: loss improved from 4.07713 to 3.84421, saving model to ./model_4_weights.hdf5\n",
            "151/151 [==============================] - 10s 66ms/step - loss: 3.8442 - accuracy: 0.2027\n",
            "Epoch 13/40\n",
            "151/151 [==============================] - ETA: 0s - loss: 3.6138 - accuracy: 0.2370\n",
            "Epoch 13: loss improved from 3.84421 to 3.61381, saving model to ./model_4_weights.hdf5\n",
            "151/151 [==============================] - 10s 66ms/step - loss: 3.6138 - accuracy: 0.2370\n",
            "Epoch 14/40\n",
            "151/151 [==============================] - ETA: 0s - loss: 3.3962 - accuracy: 0.2760\n",
            "Epoch 14: loss improved from 3.61381 to 3.39620, saving model to ./model_4_weights.hdf5\n",
            "151/151 [==============================] - 10s 67ms/step - loss: 3.3962 - accuracy: 0.2760\n",
            "Epoch 15/40\n",
            "151/151 [==============================] - ETA: 0s - loss: 3.1992 - accuracy: 0.3064\n",
            "Epoch 15: loss improved from 3.39620 to 3.19918, saving model to ./model_4_weights.hdf5\n",
            "151/151 [==============================] - 10s 67ms/step - loss: 3.1992 - accuracy: 0.3064\n",
            "Epoch 16/40\n",
            "151/151 [==============================] - ETA: 0s - loss: 2.9990 - accuracy: 0.3437\n",
            "Epoch 16: loss improved from 3.19918 to 2.99897, saving model to ./model_4_weights.hdf5\n",
            "151/151 [==============================] - 10s 66ms/step - loss: 2.9990 - accuracy: 0.3437\n",
            "Epoch 17/40\n",
            "151/151 [==============================] - ETA: 0s - loss: 2.8178 - accuracy: 0.3750\n",
            "Epoch 17: loss improved from 2.99897 to 2.81776, saving model to ./model_4_weights.hdf5\n",
            "151/151 [==============================] - 10s 67ms/step - loss: 2.8178 - accuracy: 0.3750\n",
            "Epoch 18/40\n",
            "151/151 [==============================] - ETA: 0s - loss: 2.6518 - accuracy: 0.4065\n",
            "Epoch 18: loss improved from 2.81776 to 2.65182, saving model to ./model_4_weights.hdf5\n",
            "151/151 [==============================] - 10s 67ms/step - loss: 2.6518 - accuracy: 0.4065\n",
            "Epoch 19/40\n",
            "151/151 [==============================] - ETA: 0s - loss: 2.4952 - accuracy: 0.4332\n",
            "Epoch 19: loss improved from 2.65182 to 2.49521, saving model to ./model_4_weights.hdf5\n",
            "151/151 [==============================] - 10s 66ms/step - loss: 2.4952 - accuracy: 0.4332\n",
            "Epoch 20/40\n",
            "151/151 [==============================] - ETA: 0s - loss: 2.3483 - accuracy: 0.4660\n",
            "Epoch 20: loss improved from 2.49521 to 2.34832, saving model to ./model_4_weights.hdf5\n",
            "151/151 [==============================] - 10s 66ms/step - loss: 2.3483 - accuracy: 0.4660\n",
            "Epoch 21/40\n",
            "151/151 [==============================] - ETA: 0s - loss: 2.2078 - accuracy: 0.4897\n",
            "Epoch 21: loss improved from 2.34832 to 2.20779, saving model to ./model_4_weights.hdf5\n",
            "151/151 [==============================] - 10s 66ms/step - loss: 2.2078 - accuracy: 0.4897\n",
            "Epoch 22/40\n",
            "151/151 [==============================] - ETA: 0s - loss: 2.0775 - accuracy: 0.5159\n",
            "Epoch 22: loss improved from 2.20779 to 2.07747, saving model to ./model_4_weights.hdf5\n",
            "151/151 [==============================] - 10s 67ms/step - loss: 2.0775 - accuracy: 0.5159\n",
            "Epoch 23/40\n",
            "151/151 [==============================] - ETA: 0s - loss: 1.9673 - accuracy: 0.5337\n",
            "Epoch 23: loss improved from 2.07747 to 1.96728, saving model to ./model_4_weights.hdf5\n",
            "151/151 [==============================] - 10s 67ms/step - loss: 1.9673 - accuracy: 0.5337\n",
            "Epoch 24/40\n",
            "151/151 [==============================] - ETA: 0s - loss: 1.8516 - accuracy: 0.5565\n",
            "Epoch 24: loss improved from 1.96728 to 1.85158, saving model to ./model_4_weights.hdf5\n",
            "151/151 [==============================] - 10s 67ms/step - loss: 1.8516 - accuracy: 0.5565\n",
            "Epoch 25/40\n",
            "151/151 [==============================] - ETA: 0s - loss: 1.7529 - accuracy: 0.5831\n",
            "Epoch 25: loss improved from 1.85158 to 1.75289, saving model to ./model_4_weights.hdf5\n",
            "151/151 [==============================] - 10s 66ms/step - loss: 1.7529 - accuracy: 0.5831\n",
            "Epoch 26/40\n",
            "151/151 [==============================] - ETA: 0s - loss: 1.6491 - accuracy: 0.6001\n",
            "Epoch 26: loss improved from 1.75289 to 1.64912, saving model to ./model_4_weights.hdf5\n",
            "151/151 [==============================] - 10s 66ms/step - loss: 1.6491 - accuracy: 0.6001\n",
            "Epoch 27/40\n",
            "151/151 [==============================] - ETA: 0s - loss: 1.5648 - accuracy: 0.6150\n",
            "Epoch 27: loss improved from 1.64912 to 1.56482, saving model to ./model_4_weights.hdf5\n",
            "151/151 [==============================] - 10s 66ms/step - loss: 1.5648 - accuracy: 0.6150\n",
            "Epoch 28/40\n",
            "151/151 [==============================] - ETA: 0s - loss: 1.4876 - accuracy: 0.6353\n",
            "Epoch 28: loss improved from 1.56482 to 1.48762, saving model to ./model_4_weights.hdf5\n",
            "151/151 [==============================] - 10s 65ms/step - loss: 1.4876 - accuracy: 0.6353\n",
            "Epoch 29/40\n",
            "151/151 [==============================] - ETA: 0s - loss: 1.4124 - accuracy: 0.6537\n",
            "Epoch 29: loss improved from 1.48762 to 1.41236, saving model to ./model_4_weights.hdf5\n",
            "151/151 [==============================] - 10s 66ms/step - loss: 1.4124 - accuracy: 0.6537\n",
            "Epoch 30/40\n",
            "151/151 [==============================] - ETA: 0s - loss: 1.3286 - accuracy: 0.6686\n",
            "Epoch 30: loss improved from 1.41236 to 1.32858, saving model to ./model_4_weights.hdf5\n",
            "151/151 [==============================] - 10s 70ms/step - loss: 1.3286 - accuracy: 0.6686\n",
            "Epoch 31/40\n",
            "151/151 [==============================] - ETA: 0s - loss: 1.2681 - accuracy: 0.6784\n",
            "Epoch 31: loss improved from 1.32858 to 1.26811, saving model to ./model_4_weights.hdf5\n",
            "151/151 [==============================] - 11s 72ms/step - loss: 1.2681 - accuracy: 0.6784\n",
            "Epoch 32/40\n",
            "151/151 [==============================] - ETA: 0s - loss: 1.2048 - accuracy: 0.6980\n",
            "Epoch 32: loss improved from 1.26811 to 1.20484, saving model to ./model_4_weights.hdf5\n",
            "151/151 [==============================] - 10s 66ms/step - loss: 1.2048 - accuracy: 0.6980\n",
            "Epoch 33/40\n",
            "151/151 [==============================] - ETA: 0s - loss: 1.1468 - accuracy: 0.7082\n",
            "Epoch 33: loss improved from 1.20484 to 1.14683, saving model to ./model_4_weights.hdf5\n",
            "151/151 [==============================] - 10s 67ms/step - loss: 1.1468 - accuracy: 0.7082\n",
            "Epoch 34/40\n",
            "151/151 [==============================] - ETA: 0s - loss: 1.1074 - accuracy: 0.7151\n",
            "Epoch 34: loss improved from 1.14683 to 1.10740, saving model to ./model_4_weights.hdf5\n",
            "151/151 [==============================] - 10s 66ms/step - loss: 1.1074 - accuracy: 0.7151\n",
            "Epoch 35/40\n",
            "151/151 [==============================] - ETA: 0s - loss: 1.0499 - accuracy: 0.7296\n",
            "Epoch 35: loss improved from 1.10740 to 1.04990, saving model to ./model_4_weights.hdf5\n",
            "151/151 [==============================] - 10s 67ms/step - loss: 1.0499 - accuracy: 0.7296\n",
            "Epoch 36/40\n",
            "151/151 [==============================] - ETA: 0s - loss: 1.0107 - accuracy: 0.7351\n",
            "Epoch 36: loss improved from 1.04990 to 1.01066, saving model to ./model_4_weights.hdf5\n",
            "151/151 [==============================] - 10s 66ms/step - loss: 1.0107 - accuracy: 0.7351\n",
            "Epoch 37/40\n",
            "151/151 [==============================] - ETA: 0s - loss: 0.9623 - accuracy: 0.7456\n",
            "Epoch 37: loss improved from 1.01066 to 0.96233, saving model to ./model_4_weights.hdf5\n",
            "151/151 [==============================] - 10s 66ms/step - loss: 0.9623 - accuracy: 0.7456\n",
            "Epoch 38/40\n",
            "151/151 [==============================] - ETA: 0s - loss: 0.9034 - accuracy: 0.7616\n",
            "Epoch 38: loss improved from 0.96233 to 0.90337, saving model to ./model_4_weights.hdf5\n",
            "151/151 [==============================] - 10s 67ms/step - loss: 0.9034 - accuracy: 0.7616\n",
            "Epoch 39/40\n",
            "151/151 [==============================] - ETA: 0s - loss: 0.8744 - accuracy: 0.7671\n",
            "Epoch 39: loss improved from 0.90337 to 0.87439, saving model to ./model_4_weights.hdf5\n",
            "151/151 [==============================] - 10s 67ms/step - loss: 0.8744 - accuracy: 0.7671\n",
            "Epoch 40/40\n",
            "151/151 [==============================] - ETA: 0s - loss: 0.8252 - accuracy: 0.7777\n",
            "Epoch 40: loss improved from 0.87439 to 0.82518, saving model to ./model_4_weights.hdf5\n",
            "151/151 [==============================] - 10s 66ms/step - loss: 0.8252 - accuracy: 0.7777\n"
          ]
        },
        {
          "output_type": "execute_result",
          "data": {
            "text/plain": [
              "<keras.callbacks.History at 0x7fb74b893b90>"
            ]
          },
          "metadata": {},
          "execution_count": 159
        }
      ]
    },
    {
      "cell_type": "code",
      "source": [
        "pred_4 = test_models('Hello from',model_4,reverse_word_map,100)\n",
        "print(pred_4)"
      ],
      "metadata": {
        "colab": {
          "base_uri": "https://localhost:8080/"
        },
        "id": "2zm1OUbosUTQ",
        "outputId": "cc3fcc5a-b29d-4f44-ab61-d8b59fa2881d"
      },
      "execution_count": null,
      "outputs": [
        {
          "output_type": "stream",
          "name": "stdout",
          "text": [
            "hello from so so so so so so so so so so far far far so far so under and walk and blue\n",
            " there's up\n",
            " there's up\n",
            " yeah yeah yeah yeah yeah yeah yeah yeah yeah out yeah a fool\n",
            " just all there's there's there's yeah there's there's there's yeah yeah yeah steady yeah yeah yeah yeah yeah yeah yeah yeah yeah yeah yeah yeah yeah yeah yeah yeah yeah yeah yeah yeah yeah yeah yeah everything i'll see\n",
            " i'm changed yeah everything there's there's out there's free\n",
            " there's shades but many out there's us\n",
            " there's shades out out there's door there's\n"
          ]
        }
      ]
    },
    {
      "cell_type": "code",
      "source": [
        "get_readability_index(pred_4)"
      ],
      "metadata": {
        "colab": {
          "base_uri": "https://localhost:8080/",
          "height": 143
        },
        "id": "ETYFLKFuv6nF",
        "outputId": "0d9cad35-00ee-488b-9d59-c0702c5caa0b"
      },
      "execution_count": null,
      "outputs": [
        {
          "output_type": "execute_result",
          "data": {
            "text/html": [
              "\n",
              "  <div id=\"df-e1cca2d5-d533-46b3-b253-bb3d2b866e6c\">\n",
              "    <div class=\"colab-df-container\">\n",
              "      <div>\n",
              "<style scoped>\n",
              "    .dataframe tbody tr th:only-of-type {\n",
              "        vertical-align: middle;\n",
              "    }\n",
              "\n",
              "    .dataframe tbody tr th {\n",
              "        vertical-align: top;\n",
              "    }\n",
              "\n",
              "    .dataframe thead th {\n",
              "        text-align: right;\n",
              "    }\n",
              "</style>\n",
              "<table border=\"1\" class=\"dataframe\">\n",
              "  <thead>\n",
              "    <tr style=\"text-align: right;\">\n",
              "      <th></th>\n",
              "      <th>Metrics</th>\n",
              "      <th>Results</th>\n",
              "    </tr>\n",
              "  </thead>\n",
              "  <tbody>\n",
              "    <tr>\n",
              "      <th>0</th>\n",
              "      <td>ARI</td>\n",
              "      <td>2.280250</td>\n",
              "    </tr>\n",
              "    <tr>\n",
              "      <th>1</th>\n",
              "      <td>Flesch Reading Ease</td>\n",
              "      <td>109.830000</td>\n",
              "    </tr>\n",
              "    <tr>\n",
              "      <th>2</th>\n",
              "      <td>Kincaid</td>\n",
              "      <td>1.666667</td>\n",
              "    </tr>\n",
              "  </tbody>\n",
              "</table>\n",
              "</div>\n",
              "      <button class=\"colab-df-convert\" onclick=\"convertToInteractive('df-e1cca2d5-d533-46b3-b253-bb3d2b866e6c')\"\n",
              "              title=\"Convert this dataframe to an interactive table.\"\n",
              "              style=\"display:none;\">\n",
              "        \n",
              "  <svg xmlns=\"http://www.w3.org/2000/svg\" height=\"24px\"viewBox=\"0 0 24 24\"\n",
              "       width=\"24px\">\n",
              "    <path d=\"M0 0h24v24H0V0z\" fill=\"none\"/>\n",
              "    <path d=\"M18.56 5.44l.94 2.06.94-2.06 2.06-.94-2.06-.94-.94-2.06-.94 2.06-2.06.94zm-11 1L8.5 8.5l.94-2.06 2.06-.94-2.06-.94L8.5 2.5l-.94 2.06-2.06.94zm10 10l.94 2.06.94-2.06 2.06-.94-2.06-.94-.94-2.06-.94 2.06-2.06.94z\"/><path d=\"M17.41 7.96l-1.37-1.37c-.4-.4-.92-.59-1.43-.59-.52 0-1.04.2-1.43.59L10.3 9.45l-7.72 7.72c-.78.78-.78 2.05 0 2.83L4 21.41c.39.39.9.59 1.41.59.51 0 1.02-.2 1.41-.59l7.78-7.78 2.81-2.81c.8-.78.8-2.07 0-2.86zM5.41 20L4 18.59l7.72-7.72 1.47 1.35L5.41 20z\"/>\n",
              "  </svg>\n",
              "      </button>\n",
              "      \n",
              "  <style>\n",
              "    .colab-df-container {\n",
              "      display:flex;\n",
              "      flex-wrap:wrap;\n",
              "      gap: 12px;\n",
              "    }\n",
              "\n",
              "    .colab-df-convert {\n",
              "      background-color: #E8F0FE;\n",
              "      border: none;\n",
              "      border-radius: 50%;\n",
              "      cursor: pointer;\n",
              "      display: none;\n",
              "      fill: #1967D2;\n",
              "      height: 32px;\n",
              "      padding: 0 0 0 0;\n",
              "      width: 32px;\n",
              "    }\n",
              "\n",
              "    .colab-df-convert:hover {\n",
              "      background-color: #E2EBFA;\n",
              "      box-shadow: 0px 1px 2px rgba(60, 64, 67, 0.3), 0px 1px 3px 1px rgba(60, 64, 67, 0.15);\n",
              "      fill: #174EA6;\n",
              "    }\n",
              "\n",
              "    [theme=dark] .colab-df-convert {\n",
              "      background-color: #3B4455;\n",
              "      fill: #D2E3FC;\n",
              "    }\n",
              "\n",
              "    [theme=dark] .colab-df-convert:hover {\n",
              "      background-color: #434B5C;\n",
              "      box-shadow: 0px 1px 3px 1px rgba(0, 0, 0, 0.15);\n",
              "      filter: drop-shadow(0px 1px 2px rgba(0, 0, 0, 0.3));\n",
              "      fill: #FFFFFF;\n",
              "    }\n",
              "  </style>\n",
              "\n",
              "      <script>\n",
              "        const buttonEl =\n",
              "          document.querySelector('#df-e1cca2d5-d533-46b3-b253-bb3d2b866e6c button.colab-df-convert');\n",
              "        buttonEl.style.display =\n",
              "          google.colab.kernel.accessAllowed ? 'block' : 'none';\n",
              "\n",
              "        async function convertToInteractive(key) {\n",
              "          const element = document.querySelector('#df-e1cca2d5-d533-46b3-b253-bb3d2b866e6c');\n",
              "          const dataTable =\n",
              "            await google.colab.kernel.invokeFunction('convertToInteractive',\n",
              "                                                     [key], {});\n",
              "          if (!dataTable) return;\n",
              "\n",
              "          const docLinkHtml = 'Like what you see? Visit the ' +\n",
              "            '<a target=\"_blank\" href=https://colab.research.google.com/notebooks/data_table.ipynb>data table notebook</a>'\n",
              "            + ' to learn more about interactive tables.';\n",
              "          element.innerHTML = '';\n",
              "          dataTable['output_type'] = 'display_data';\n",
              "          await google.colab.output.renderOutput(dataTable, element);\n",
              "          const docLink = document.createElement('div');\n",
              "          docLink.innerHTML = docLinkHtml;\n",
              "          element.appendChild(docLink);\n",
              "        }\n",
              "      </script>\n",
              "    </div>\n",
              "  </div>\n",
              "  "
            ],
            "text/plain": [
              "               Metrics     Results\n",
              "0                  ARI    2.280250\n",
              "1  Flesch Reading Ease  109.830000\n",
              "2              Kincaid    1.666667"
            ]
          },
          "metadata": {},
          "execution_count": 166
        }
      ]
    },
    {
      "cell_type": "code",
      "source": [
        ""
      ],
      "metadata": {
        "id": "wmw2dtIk2z4h"
      },
      "execution_count": null,
      "outputs": []
    }
  ]
}
